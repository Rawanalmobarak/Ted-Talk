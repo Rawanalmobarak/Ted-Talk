{
  "cells": [
    {
      "cell_type": "markdown",
      "metadata": {
        "id": "knAuGd-rUfh-"
      },
      "source": [
        "# **Ted Talk Exploratory Data Analysis** \n",
        "\n",
        "The dataset contains 6 different features of each talk available on TED's website \n",
        "\n"
      ]
    },
    {
      "cell_type": "code",
      "execution_count": 1,
      "metadata": {
        "id": "pnHAionoBMuX"
      },
      "outputs": [],
      "source": [
        "#importing libraries\n",
        "import numpy as np\n",
        "import pandas as pd \n",
        "from matplotlib import pyplot as plt\n",
        "import plotly.express as px\n",
        "# from wordcloud import WordCloud, STOPWORDS\n"
      ]
    },
    {
      "cell_type": "markdown",
      "metadata": {
        "id": "MyBUC2TbFiz-"
      },
      "source": [
        "Questions to explore:\n",
        "- top 10 viewed/liked vidoes ✅\n",
        "\n",
        "- top 10 popular videos (views, likes, and watch time) ✅\n",
        "\n",
        "- The authors with the most number of talks ✅\n",
        "\n",
        "- graph author with the the title of their ted talks\n",
        "\n",
        "- Does the most popular Author have a theme for his speeches?\n",
        "\n",
        "- which month most of the ted talks were released \n",
        "\n",
        "- The newest & oldest ted talk in the dataset\n",
        "\n",
        "- Visualization of number o ted talks every year\n",
        "\n"
      ]
    },
    {
      "cell_type": "markdown",
      "metadata": {
        "id": "HscQjcxLTr5C"
      },
      "source": [
        "## Data discovery & preparation\n",
        "\n"
      ]
    },
    {
      "cell_type": "code",
      "execution_count": 2,
      "metadata": {
        "colab": {
          "base_uri": "https://localhost:8080/",
          "height": 320
        },
        "id": "G2CIjACgBXrc",
        "outputId": "0d663a2d-5f26-4684-c782-e66efcf4b370"
      },
      "outputs": [
        {
          "data": {
            "text/html": [
              "<div>\n",
              "<style scoped>\n",
              "    .dataframe tbody tr th:only-of-type {\n",
              "        vertical-align: middle;\n",
              "    }\n",
              "\n",
              "    .dataframe tbody tr th {\n",
              "        vertical-align: top;\n",
              "    }\n",
              "\n",
              "    .dataframe thead th {\n",
              "        text-align: right;\n",
              "    }\n",
              "</style>\n",
              "<table border=\"1\" class=\"dataframe\">\n",
              "  <thead>\n",
              "    <tr style=\"text-align: right;\">\n",
              "      <th></th>\n",
              "      <th>title</th>\n",
              "      <th>author</th>\n",
              "      <th>date</th>\n",
              "      <th>views</th>\n",
              "      <th>likes</th>\n",
              "      <th>link</th>\n",
              "    </tr>\n",
              "  </thead>\n",
              "  <tbody>\n",
              "    <tr>\n",
              "      <th>0</th>\n",
              "      <td>Climate action needs new frontline leadership</td>\n",
              "      <td>Ozawa Bineshi Albert</td>\n",
              "      <td>December 2021</td>\n",
              "      <td>404000</td>\n",
              "      <td>12000</td>\n",
              "      <td>https://ted.com/talks/ozawa_bineshi_albert_cli...</td>\n",
              "    </tr>\n",
              "    <tr>\n",
              "      <th>1</th>\n",
              "      <td>The dark history of the overthrow of Hawaii</td>\n",
              "      <td>Sydney Iaukea</td>\n",
              "      <td>February 2022</td>\n",
              "      <td>214000</td>\n",
              "      <td>6400</td>\n",
              "      <td>https://ted.com/talks/sydney_iaukea_the_dark_h...</td>\n",
              "    </tr>\n",
              "    <tr>\n",
              "      <th>2</th>\n",
              "      <td>How play can spark new ideas for your business</td>\n",
              "      <td>Martin Reeves</td>\n",
              "      <td>September 2021</td>\n",
              "      <td>412000</td>\n",
              "      <td>12000</td>\n",
              "      <td>https://ted.com/talks/martin_reeves_how_play_c...</td>\n",
              "    </tr>\n",
              "    <tr>\n",
              "      <th>3</th>\n",
              "      <td>Why is China appointing judges to combat clima...</td>\n",
              "      <td>James K. Thornton</td>\n",
              "      <td>October 2021</td>\n",
              "      <td>427000</td>\n",
              "      <td>12000</td>\n",
              "      <td>https://ted.com/talks/james_k_thornton_why_is_...</td>\n",
              "    </tr>\n",
              "    <tr>\n",
              "      <th>4</th>\n",
              "      <td>Cement's carbon problem — and 2 ways to fix it</td>\n",
              "      <td>Mahendra Singhi</td>\n",
              "      <td>October 2021</td>\n",
              "      <td>2400</td>\n",
              "      <td>72</td>\n",
              "      <td>https://ted.com/talks/mahendra_singhi_cement_s...</td>\n",
              "    </tr>\n",
              "  </tbody>\n",
              "</table>\n",
              "</div>"
            ],
            "text/plain": [
              "                                               title                author  \\\n",
              "0      Climate action needs new frontline leadership  Ozawa Bineshi Albert   \n",
              "1        The dark history of the overthrow of Hawaii         Sydney Iaukea   \n",
              "2     How play can spark new ideas for your business         Martin Reeves   \n",
              "3  Why is China appointing judges to combat clima...     James K. Thornton   \n",
              "4     Cement's carbon problem — and 2 ways to fix it       Mahendra Singhi   \n",
              "\n",
              "             date   views  likes  \\\n",
              "0   December 2021  404000  12000   \n",
              "1   February 2022  214000   6400   \n",
              "2  September 2021  412000  12000   \n",
              "3    October 2021  427000  12000   \n",
              "4    October 2021    2400     72   \n",
              "\n",
              "                                                link  \n",
              "0  https://ted.com/talks/ozawa_bineshi_albert_cli...  \n",
              "1  https://ted.com/talks/sydney_iaukea_the_dark_h...  \n",
              "2  https://ted.com/talks/martin_reeves_how_play_c...  \n",
              "3  https://ted.com/talks/james_k_thornton_why_is_...  \n",
              "4  https://ted.com/talks/mahendra_singhi_cement_s...  "
            ]
          },
          "execution_count": 2,
          "metadata": {},
          "output_type": "execute_result"
        }
      ],
      "source": [
        "#reading the ted talk dataset (csv file)\n",
        "df = pd.read_csv(\"tedtalk_data.csv\")\n",
        "df.head()"
      ]
    },
    {
      "cell_type": "code",
      "execution_count": 3,
      "metadata": {
        "colab": {
          "base_uri": "https://localhost:8080/"
        },
        "id": "mLhDMkMRCwO9",
        "outputId": "79219672-81bc-41ec-e584-40dc173bfc87"
      },
      "outputs": [
        {
          "data": {
            "text/plain": [
              "(5440, 6)"
            ]
          },
          "execution_count": 3,
          "metadata": {},
          "output_type": "execute_result"
        }
      ],
      "source": [
        "#(rows, columns)\n",
        "df.shape"
      ]
    },
    {
      "cell_type": "code",
      "execution_count": 4,
      "metadata": {
        "colab": {
          "base_uri": "https://localhost:8080/"
        },
        "id": "NVCLfnuzCQiF",
        "outputId": "c3c0943e-dd5a-4485-dd4b-f07426a4dbf9"
      },
      "outputs": [
        {
          "data": {
            "text/plain": [
              "Index(['title', 'author', 'date', 'views', 'likes', 'link'], dtype='object')"
            ]
          },
          "execution_count": 4,
          "metadata": {},
          "output_type": "execute_result"
        }
      ],
      "source": [
        "# name of the columns in the dataset\n",
        "df.columns"
      ]
    },
    {
      "cell_type": "code",
      "execution_count": 5,
      "metadata": {
        "colab": {
          "base_uri": "https://localhost:8080/"
        },
        "id": "sK-IrpleCR27",
        "outputId": "1e96a8b2-8925-49bb-ba1f-e774acf1e54a"
      },
      "outputs": [
        {
          "name": "stdout",
          "output_type": "stream",
          "text": [
            "<class 'pandas.core.frame.DataFrame'>\n",
            "RangeIndex: 5440 entries, 0 to 5439\n",
            "Data columns (total 6 columns):\n",
            " #   Column  Non-Null Count  Dtype \n",
            "---  ------  --------------  ----- \n",
            " 0   title   5440 non-null   object\n",
            " 1   author  5439 non-null   object\n",
            " 2   date    5440 non-null   object\n",
            " 3   views   5440 non-null   int64 \n",
            " 4   likes   5440 non-null   int64 \n",
            " 5   link    5440 non-null   object\n",
            "dtypes: int64(2), object(4)\n",
            "memory usage: 255.1+ KB\n"
          ]
        }
      ],
      "source": [
        "#each column type\n",
        "df.info()"
      ]
    },
    {
      "cell_type": "markdown",
      "metadata": {},
      "source": [
        "## Dealing with missing values\n"
      ]
    },
    {
      "cell_type": "code",
      "execution_count": 6,
      "metadata": {
        "colab": {
          "base_uri": "https://localhost:8080/"
        },
        "id": "Fy_XR1y_CRr_",
        "outputId": "efa813b3-9196-4858-8227-50b1b58745c2"
      },
      "outputs": [
        {
          "data": {
            "text/plain": [
              "title     0\n",
              "author    1\n",
              "date      0\n",
              "views     0\n",
              "likes     0\n",
              "link      0\n",
              "dtype: int64"
            ]
          },
          "execution_count": 6,
          "metadata": {},
          "output_type": "execute_result"
        }
      ],
      "source": [
        "#checking for NAs\n",
        "df.isnull().sum()"
      ]
    },
    {
      "cell_type": "markdown",
      "metadata": {
        "id": "Ix18xmxRHPE8"
      },
      "source": [
        "Dealing with Missing values:\n",
        "\n",
        "1- Delete the row with missing value\n",
        "\n",
        "2- Imputing the Missing Value \n",
        "\n",
        "\n",
        "*   Replacing With Arbitrary Value\n",
        "*   Replacing With Mean (not appropraite if there's outliers)\n",
        "* Replacing With Mode ( categorical features)\n",
        "* Replacing With Median (There's outliers)\n",
        "* Replacing with previous value – Forward fill (timeseries)\n",
        "* Replacing with next value – Backward fill (timeseries)"
      ]
    },
    {
      "cell_type": "code",
      "execution_count": 7,
      "metadata": {
        "colab": {
          "base_uri": "https://localhost:8080/",
          "height": 81
        },
        "id": "F8yUdAwvC52c",
        "outputId": "6c66bba9-f50c-451f-9abc-a3425a3a7c86"
      },
      "outputs": [
        {
          "data": {
            "text/html": [
              "<div>\n",
              "<style scoped>\n",
              "    .dataframe tbody tr th:only-of-type {\n",
              "        vertical-align: middle;\n",
              "    }\n",
              "\n",
              "    .dataframe tbody tr th {\n",
              "        vertical-align: top;\n",
              "    }\n",
              "\n",
              "    .dataframe thead th {\n",
              "        text-align: right;\n",
              "    }\n",
              "</style>\n",
              "<table border=\"1\" class=\"dataframe\">\n",
              "  <thead>\n",
              "    <tr style=\"text-align: right;\">\n",
              "      <th></th>\n",
              "      <th>title</th>\n",
              "      <th>author</th>\n",
              "      <th>date</th>\n",
              "      <th>views</th>\n",
              "      <th>likes</th>\n",
              "      <th>link</th>\n",
              "    </tr>\n",
              "  </thead>\n",
              "  <tbody>\n",
              "    <tr>\n",
              "      <th>3039</th>\n",
              "      <td>Year In Ideas 2015</td>\n",
              "      <td>NaN</td>\n",
              "      <td>December 2015</td>\n",
              "      <td>532</td>\n",
              "      <td>15</td>\n",
              "      <td>https://ted.com/talks/year_in_ideas_2015</td>\n",
              "    </tr>\n",
              "  </tbody>\n",
              "</table>\n",
              "</div>"
            ],
            "text/plain": [
              "                   title author           date  views  likes  \\\n",
              "3039  Year In Ideas 2015    NaN  December 2015    532     15   \n",
              "\n",
              "                                          link  \n",
              "3039  https://ted.com/talks/year_in_ideas_2015  "
            ]
          },
          "execution_count": 7,
          "metadata": {},
          "output_type": "execute_result"
        }
      ],
      "source": [
        "# viewing the row with null value\n",
        "df[df['author'].isnull()]"
      ]
    },
    {
      "cell_type": "markdown",
      "metadata": {
        "id": "hkAoU-qZKW1A"
      },
      "source": [
        "I clicked on the link of the ted talk to try to find the author of the ted talk (missing value), it turned out to be a compilation of ted talks in the year 2015, which is why I decided to deal with the NA by **Deleting it**."
      ]
    },
    {
      "cell_type": "code",
      "execution_count": 8,
      "metadata": {
        "id": "_payL3p-C5vs"
      },
      "outputs": [],
      "source": [
        "#removing NA from our data\n",
        "df.dropna(inplace=True)"
      ]
    },
    {
      "cell_type": "code",
      "execution_count": 9,
      "metadata": {
        "colab": {
          "base_uri": "https://localhost:8080/"
        },
        "id": "Tx289dz6OGqG",
        "outputId": "eae55970-88dd-4410-ac27-3c15418e80a3"
      },
      "outputs": [
        {
          "data": {
            "text/plain": [
              "0       False\n",
              "1       False\n",
              "2       False\n",
              "3       False\n",
              "4       False\n",
              "        ...  \n",
              "5435    False\n",
              "5436    False\n",
              "5437    False\n",
              "5438    False\n",
              "5439    False\n",
              "Length: 5439, dtype: bool"
            ]
          },
          "execution_count": 9,
          "metadata": {},
          "output_type": "execute_result"
        }
      ],
      "source": [
        "#checking for duplicates \n",
        "df.duplicated()"
      ]
    },
    {
      "cell_type": "markdown",
      "metadata": {},
      "source": [
        "There are no duplicates in our dataset"
      ]
    },
    {
      "cell_type": "code",
      "execution_count": 10,
      "metadata": {
        "colab": {
          "base_uri": "https://localhost:8080/",
          "height": 240
        },
        "id": "NWSVhkZDPabx",
        "outputId": "985357b2-e2f2-4973-df9e-91942b215cc2"
      },
      "outputs": [
        {
          "data": {
            "text/html": [
              "<div>\n",
              "<style scoped>\n",
              "    .dataframe tbody tr th:only-of-type {\n",
              "        vertical-align: middle;\n",
              "    }\n",
              "\n",
              "    .dataframe tbody tr th {\n",
              "        vertical-align: top;\n",
              "    }\n",
              "\n",
              "    .dataframe thead th {\n",
              "        text-align: right;\n",
              "    }\n",
              "</style>\n",
              "<table border=\"1\" class=\"dataframe\">\n",
              "  <thead>\n",
              "    <tr style=\"text-align: right;\">\n",
              "      <th></th>\n",
              "      <th>title</th>\n",
              "      <th>author</th>\n",
              "      <th>date</th>\n",
              "      <th>views</th>\n",
              "      <th>likes</th>\n",
              "      <th>link</th>\n",
              "      <th>year</th>\n",
              "      <th>month</th>\n",
              "    </tr>\n",
              "  </thead>\n",
              "  <tbody>\n",
              "    <tr>\n",
              "      <th>0</th>\n",
              "      <td>Climate action needs new frontline leadership</td>\n",
              "      <td>Ozawa Bineshi Albert</td>\n",
              "      <td>December 2021</td>\n",
              "      <td>404000</td>\n",
              "      <td>12000</td>\n",
              "      <td>https://ted.com/talks/ozawa_bineshi_albert_cli...</td>\n",
              "      <td>2021</td>\n",
              "      <td>December</td>\n",
              "    </tr>\n",
              "    <tr>\n",
              "      <th>1</th>\n",
              "      <td>The dark history of the overthrow of Hawaii</td>\n",
              "      <td>Sydney Iaukea</td>\n",
              "      <td>February 2022</td>\n",
              "      <td>214000</td>\n",
              "      <td>6400</td>\n",
              "      <td>https://ted.com/talks/sydney_iaukea_the_dark_h...</td>\n",
              "      <td>2022</td>\n",
              "      <td>February</td>\n",
              "    </tr>\n",
              "    <tr>\n",
              "      <th>2</th>\n",
              "      <td>How play can spark new ideas for your business</td>\n",
              "      <td>Martin Reeves</td>\n",
              "      <td>September 2021</td>\n",
              "      <td>412000</td>\n",
              "      <td>12000</td>\n",
              "      <td>https://ted.com/talks/martin_reeves_how_play_c...</td>\n",
              "      <td>2021</td>\n",
              "      <td>September</td>\n",
              "    </tr>\n",
              "  </tbody>\n",
              "</table>\n",
              "</div>"
            ],
            "text/plain": [
              "                                            title                author  \\\n",
              "0   Climate action needs new frontline leadership  Ozawa Bineshi Albert   \n",
              "1     The dark history of the overthrow of Hawaii         Sydney Iaukea   \n",
              "2  How play can spark new ideas for your business         Martin Reeves   \n",
              "\n",
              "             date   views  likes  \\\n",
              "0   December 2021  404000  12000   \n",
              "1   February 2022  214000   6400   \n",
              "2  September 2021  412000  12000   \n",
              "\n",
              "                                                link  year      month  \n",
              "0  https://ted.com/talks/ozawa_bineshi_albert_cli...  2021   December  \n",
              "1  https://ted.com/talks/sydney_iaukea_the_dark_h...  2022   February  \n",
              "2  https://ted.com/talks/martin_reeves_how_play_c...  2021  September  "
            ]
          },
          "execution_count": 10,
          "metadata": {},
          "output_type": "execute_result"
        }
      ],
      "source": [
        "#Splitting the date column into months values and years format\n",
        "df['year'] = pd.DatetimeIndex(df['date']).year\n",
        "df['month'] = pd.DatetimeIndex(df['date']).month_name()\n",
        "df.head(3)"
      ]
    },
    {
      "cell_type": "code",
      "execution_count": 11,
      "metadata": {
        "colab": {
          "base_uri": "https://localhost:8080/"
        },
        "id": "iK-gOyqcRM89",
        "outputId": "90265807-35aa-4ec6-c883-68b7f51543ac"
      },
      "outputs": [
        {
          "data": {
            "text/plain": [
              "count        5439\n",
              "mean      2061954\n",
              "std       3567316\n",
              "min          1200\n",
              "25%        671000\n",
              "50%       1300000\n",
              "75%       2100000\n",
              "max      72000000\n",
              "Name: views, dtype: int64"
            ]
          },
          "execution_count": 11,
          "metadata": {},
          "output_type": "execute_result"
        }
      ],
      "source": [
        "df['views'].describe().astype(int)"
      ]
    },
    {
      "cell_type": "markdown",
      "metadata": {
        "id": "WYEXbMBbUphW"
      },
      "source": [
        "In our Ted Talk dataset there's a **minimum of 1200** views, **maximum of 72,000,000** views, and the **average** number of views is **2,061,954**\n",
        "\n",
        "---\n",
        "\n"
      ]
    },
    {
      "cell_type": "code",
      "execution_count": 12,
      "metadata": {
        "colab": {
          "base_uri": "https://localhost:8080/"
        },
        "id": "Uvl5kEL8SJn4",
        "outputId": "58fb235c-fe5c-4bde-862b-047a00a6b3ba"
      },
      "outputs": [
        {
          "data": {
            "text/plain": [
              "count       5439\n",
              "mean       62619\n",
              "std       107653\n",
              "min           37\n",
              "25%        20000\n",
              "50%        41000\n",
              "75%        65000\n",
              "max      2100000\n",
              "Name: likes, dtype: int64"
            ]
          },
          "execution_count": 12,
          "metadata": {},
          "output_type": "execute_result"
        }
      ],
      "source": [
        "df['likes'].describe().astype(int)"
      ]
    },
    {
      "cell_type": "markdown",
      "metadata": {
        "id": "g8D4FgyFU6ks"
      },
      "source": [
        "In our Ted Talk dataset there's a **minimum of 37** likes, **maximum of 2,100,000** likes, and the **average** number of likes is **62,619**"
      ]
    },
    {
      "cell_type": "code",
      "execution_count": 13,
      "metadata": {
        "colab": {
          "base_uri": "https://localhost:8080/",
          "height": 581
        },
        "id": "B15O1FqtU34E",
        "outputId": "cfef8f2c-8550-4307-a5e6-136bdfe9ed43"
      },
      "outputs": [
        {
          "data": {
            "text/html": [
              "<div>\n",
              "<style scoped>\n",
              "    .dataframe tbody tr th:only-of-type {\n",
              "        vertical-align: middle;\n",
              "    }\n",
              "\n",
              "    .dataframe tbody tr th {\n",
              "        vertical-align: top;\n",
              "    }\n",
              "\n",
              "    .dataframe thead th {\n",
              "        text-align: right;\n",
              "    }\n",
              "</style>\n",
              "<table border=\"1\" class=\"dataframe\">\n",
              "  <thead>\n",
              "    <tr style=\"text-align: right;\">\n",
              "      <th></th>\n",
              "      <th>title</th>\n",
              "      <th>author</th>\n",
              "      <th>date</th>\n",
              "      <th>views</th>\n",
              "      <th>likes</th>\n",
              "      <th>link</th>\n",
              "      <th>year</th>\n",
              "      <th>month</th>\n",
              "    </tr>\n",
              "  </thead>\n",
              "  <tbody>\n",
              "    <tr>\n",
              "      <th>5436</th>\n",
              "      <td>Do schools kill creativity?</td>\n",
              "      <td>Sir Ken Robinson</td>\n",
              "      <td>February 2006</td>\n",
              "      <td>72000000</td>\n",
              "      <td>2100000</td>\n",
              "      <td>https://ted.com/talks/sir_ken_robinson_do_scho...</td>\n",
              "      <td>2006</td>\n",
              "      <td>February</td>\n",
              "    </tr>\n",
              "    <tr>\n",
              "      <th>4084</th>\n",
              "      <td>Your body language may shape who you are</td>\n",
              "      <td>Amy Cuddy</td>\n",
              "      <td>June 2012</td>\n",
              "      <td>64000000</td>\n",
              "      <td>1900000</td>\n",
              "      <td>https://ted.com/talks/amy_cuddy_your_body_lang...</td>\n",
              "      <td>2012</td>\n",
              "      <td>June</td>\n",
              "    </tr>\n",
              "    <tr>\n",
              "      <th>2958</th>\n",
              "      <td>Inside the mind of a master procrastinator</td>\n",
              "      <td>Tim Urban</td>\n",
              "      <td>February 2016</td>\n",
              "      <td>60000000</td>\n",
              "      <td>1800000</td>\n",
              "      <td>https://ted.com/talks/tim_urban_inside_the_min...</td>\n",
              "      <td>2016</td>\n",
              "      <td>February</td>\n",
              "    </tr>\n",
              "    <tr>\n",
              "      <th>4765</th>\n",
              "      <td>How great leaders inspire action</td>\n",
              "      <td>Simon Sinek</td>\n",
              "      <td>September 2009</td>\n",
              "      <td>57000000</td>\n",
              "      <td>1700000</td>\n",
              "      <td>https://ted.com/talks/simon_sinek_how_great_le...</td>\n",
              "      <td>2009</td>\n",
              "      <td>September</td>\n",
              "    </tr>\n",
              "    <tr>\n",
              "      <th>4605</th>\n",
              "      <td>The power of vulnerability</td>\n",
              "      <td>Brené Brown</td>\n",
              "      <td>June 2010</td>\n",
              "      <td>56000000</td>\n",
              "      <td>1700000</td>\n",
              "      <td>https://ted.com/talks/brene_brown_the_power_of...</td>\n",
              "      <td>2010</td>\n",
              "      <td>June</td>\n",
              "    </tr>\n",
              "    <tr>\n",
              "      <th>3504</th>\n",
              "      <td>How to speak so that people want to listen</td>\n",
              "      <td>Julian Treasure</td>\n",
              "      <td>June 2013</td>\n",
              "      <td>49000000</td>\n",
              "      <td>1400000</td>\n",
              "      <td>https://ted.com/talks/julian_treasure_how_to_s...</td>\n",
              "      <td>2013</td>\n",
              "      <td>June</td>\n",
              "    </tr>\n",
              "    <tr>\n",
              "      <th>2168</th>\n",
              "      <td>My philosophy for a happy life</td>\n",
              "      <td>Sam Berns</td>\n",
              "      <td>October 2013</td>\n",
              "      <td>43000000</td>\n",
              "      <td>1300000</td>\n",
              "      <td>https://ted.com/talks/sam_berns_my_philosophy_...</td>\n",
              "      <td>2013</td>\n",
              "      <td>October</td>\n",
              "    </tr>\n",
              "    <tr>\n",
              "      <th>3251</th>\n",
              "      <td>The next outbreak? We're not ready</td>\n",
              "      <td>Bill Gates</td>\n",
              "      <td>March 2015</td>\n",
              "      <td>43000000</td>\n",
              "      <td>1300000</td>\n",
              "      <td>https://ted.com/talks/bill_gates_the_next_outb...</td>\n",
              "      <td>2015</td>\n",
              "      <td>March</td>\n",
              "    </tr>\n",
              "    <tr>\n",
              "      <th>3017</th>\n",
              "      <td>What makes a good life? Lessons from the longe...</td>\n",
              "      <td>Robert Waldinger</td>\n",
              "      <td>November 2015</td>\n",
              "      <td>41000000</td>\n",
              "      <td>1200000</td>\n",
              "      <td>https://ted.com/talks/robert_waldinger_what_ma...</td>\n",
              "      <td>2015</td>\n",
              "      <td>November</td>\n",
              "    </tr>\n",
              "    <tr>\n",
              "      <th>3994</th>\n",
              "      <td>Looks aren't everything. Believe me, I'm a model.</td>\n",
              "      <td>Cameron Russell</td>\n",
              "      <td>October 2012</td>\n",
              "      <td>38000000</td>\n",
              "      <td>1100000</td>\n",
              "      <td>https://ted.com/talks/cameron_russell_looks_ar...</td>\n",
              "      <td>2012</td>\n",
              "      <td>October</td>\n",
              "    </tr>\n",
              "  </tbody>\n",
              "</table>\n",
              "</div>"
            ],
            "text/plain": [
              "                                                  title            author  \\\n",
              "5436                        Do schools kill creativity?  Sir Ken Robinson   \n",
              "4084           Your body language may shape who you are         Amy Cuddy   \n",
              "2958         Inside the mind of a master procrastinator         Tim Urban   \n",
              "4765                   How great leaders inspire action       Simon Sinek   \n",
              "4605                         The power of vulnerability       Brené Brown   \n",
              "3504         How to speak so that people want to listen   Julian Treasure   \n",
              "2168                     My philosophy for a happy life         Sam Berns   \n",
              "3251                 The next outbreak? We're not ready        Bill Gates   \n",
              "3017  What makes a good life? Lessons from the longe...  Robert Waldinger   \n",
              "3994  Looks aren't everything. Believe me, I'm a model.   Cameron Russell   \n",
              "\n",
              "                date     views    likes  \\\n",
              "5436   February 2006  72000000  2100000   \n",
              "4084       June 2012  64000000  1900000   \n",
              "2958   February 2016  60000000  1800000   \n",
              "4765  September 2009  57000000  1700000   \n",
              "4605       June 2010  56000000  1700000   \n",
              "3504       June 2013  49000000  1400000   \n",
              "2168    October 2013  43000000  1300000   \n",
              "3251      March 2015  43000000  1300000   \n",
              "3017   November 2015  41000000  1200000   \n",
              "3994    October 2012  38000000  1100000   \n",
              "\n",
              "                                                   link  year      month  \n",
              "5436  https://ted.com/talks/sir_ken_robinson_do_scho...  2006   February  \n",
              "4084  https://ted.com/talks/amy_cuddy_your_body_lang...  2012       June  \n",
              "2958  https://ted.com/talks/tim_urban_inside_the_min...  2016   February  \n",
              "4765  https://ted.com/talks/simon_sinek_how_great_le...  2009  September  \n",
              "4605  https://ted.com/talks/brene_brown_the_power_of...  2010       June  \n",
              "3504  https://ted.com/talks/julian_treasure_how_to_s...  2013       June  \n",
              "2168  https://ted.com/talks/sam_berns_my_philosophy_...  2013    October  \n",
              "3251  https://ted.com/talks/bill_gates_the_next_outb...  2015      March  \n",
              "3017  https://ted.com/talks/robert_waldinger_what_ma...  2015   November  \n",
              "3994  https://ted.com/talks/cameron_russell_looks_ar...  2012    October  "
            ]
          },
          "execution_count": 13,
          "metadata": {},
          "output_type": "execute_result"
        }
      ],
      "source": [
        "top10views = df.sort_values(by = 'views', ascending = False).head(10)\n",
        "top10views"
      ]
    },
    {
      "cell_type": "code",
      "execution_count": 14,
      "metadata": {
        "colab": {
          "base_uri": "https://localhost:8080/",
          "height": 581
        },
        "id": "ujkVYV2VW5QV",
        "outputId": "99bb6f49-90af-44ef-b69a-48d227065ec0"
      },
      "outputs": [
        {
          "data": {
            "text/html": [
              "<div>\n",
              "<style scoped>\n",
              "    .dataframe tbody tr th:only-of-type {\n",
              "        vertical-align: middle;\n",
              "    }\n",
              "\n",
              "    .dataframe tbody tr th {\n",
              "        vertical-align: top;\n",
              "    }\n",
              "\n",
              "    .dataframe thead th {\n",
              "        text-align: right;\n",
              "    }\n",
              "</style>\n",
              "<table border=\"1\" class=\"dataframe\">\n",
              "  <thead>\n",
              "    <tr style=\"text-align: right;\">\n",
              "      <th></th>\n",
              "      <th>title</th>\n",
              "      <th>author</th>\n",
              "      <th>date</th>\n",
              "      <th>views</th>\n",
              "      <th>likes</th>\n",
              "      <th>link</th>\n",
              "      <th>year</th>\n",
              "      <th>month</th>\n",
              "    </tr>\n",
              "  </thead>\n",
              "  <tbody>\n",
              "    <tr>\n",
              "      <th>5436</th>\n",
              "      <td>Do schools kill creativity?</td>\n",
              "      <td>Sir Ken Robinson</td>\n",
              "      <td>February 2006</td>\n",
              "      <td>72000000</td>\n",
              "      <td>2100000</td>\n",
              "      <td>https://ted.com/talks/sir_ken_robinson_do_scho...</td>\n",
              "      <td>2006</td>\n",
              "      <td>February</td>\n",
              "    </tr>\n",
              "    <tr>\n",
              "      <th>4084</th>\n",
              "      <td>Your body language may shape who you are</td>\n",
              "      <td>Amy Cuddy</td>\n",
              "      <td>June 2012</td>\n",
              "      <td>64000000</td>\n",
              "      <td>1900000</td>\n",
              "      <td>https://ted.com/talks/amy_cuddy_your_body_lang...</td>\n",
              "      <td>2012</td>\n",
              "      <td>June</td>\n",
              "    </tr>\n",
              "    <tr>\n",
              "      <th>2958</th>\n",
              "      <td>Inside the mind of a master procrastinator</td>\n",
              "      <td>Tim Urban</td>\n",
              "      <td>February 2016</td>\n",
              "      <td>60000000</td>\n",
              "      <td>1800000</td>\n",
              "      <td>https://ted.com/talks/tim_urban_inside_the_min...</td>\n",
              "      <td>2016</td>\n",
              "      <td>February</td>\n",
              "    </tr>\n",
              "    <tr>\n",
              "      <th>4765</th>\n",
              "      <td>How great leaders inspire action</td>\n",
              "      <td>Simon Sinek</td>\n",
              "      <td>September 2009</td>\n",
              "      <td>57000000</td>\n",
              "      <td>1700000</td>\n",
              "      <td>https://ted.com/talks/simon_sinek_how_great_le...</td>\n",
              "      <td>2009</td>\n",
              "      <td>September</td>\n",
              "    </tr>\n",
              "    <tr>\n",
              "      <th>4605</th>\n",
              "      <td>The power of vulnerability</td>\n",
              "      <td>Brené Brown</td>\n",
              "      <td>June 2010</td>\n",
              "      <td>56000000</td>\n",
              "      <td>1700000</td>\n",
              "      <td>https://ted.com/talks/brene_brown_the_power_of...</td>\n",
              "      <td>2010</td>\n",
              "      <td>June</td>\n",
              "    </tr>\n",
              "    <tr>\n",
              "      <th>3504</th>\n",
              "      <td>How to speak so that people want to listen</td>\n",
              "      <td>Julian Treasure</td>\n",
              "      <td>June 2013</td>\n",
              "      <td>49000000</td>\n",
              "      <td>1400000</td>\n",
              "      <td>https://ted.com/talks/julian_treasure_how_to_s...</td>\n",
              "      <td>2013</td>\n",
              "      <td>June</td>\n",
              "    </tr>\n",
              "    <tr>\n",
              "      <th>2168</th>\n",
              "      <td>My philosophy for a happy life</td>\n",
              "      <td>Sam Berns</td>\n",
              "      <td>October 2013</td>\n",
              "      <td>43000000</td>\n",
              "      <td>1300000</td>\n",
              "      <td>https://ted.com/talks/sam_berns_my_philosophy_...</td>\n",
              "      <td>2013</td>\n",
              "      <td>October</td>\n",
              "    </tr>\n",
              "    <tr>\n",
              "      <th>3251</th>\n",
              "      <td>The next outbreak? We're not ready</td>\n",
              "      <td>Bill Gates</td>\n",
              "      <td>March 2015</td>\n",
              "      <td>43000000</td>\n",
              "      <td>1300000</td>\n",
              "      <td>https://ted.com/talks/bill_gates_the_next_outb...</td>\n",
              "      <td>2015</td>\n",
              "      <td>March</td>\n",
              "    </tr>\n",
              "    <tr>\n",
              "      <th>3017</th>\n",
              "      <td>What makes a good life? Lessons from the longe...</td>\n",
              "      <td>Robert Waldinger</td>\n",
              "      <td>November 2015</td>\n",
              "      <td>41000000</td>\n",
              "      <td>1200000</td>\n",
              "      <td>https://ted.com/talks/robert_waldinger_what_ma...</td>\n",
              "      <td>2015</td>\n",
              "      <td>November</td>\n",
              "    </tr>\n",
              "    <tr>\n",
              "      <th>3994</th>\n",
              "      <td>Looks aren't everything. Believe me, I'm a model.</td>\n",
              "      <td>Cameron Russell</td>\n",
              "      <td>October 2012</td>\n",
              "      <td>38000000</td>\n",
              "      <td>1100000</td>\n",
              "      <td>https://ted.com/talks/cameron_russell_looks_ar...</td>\n",
              "      <td>2012</td>\n",
              "      <td>October</td>\n",
              "    </tr>\n",
              "  </tbody>\n",
              "</table>\n",
              "</div>"
            ],
            "text/plain": [
              "                                                  title            author  \\\n",
              "5436                        Do schools kill creativity?  Sir Ken Robinson   \n",
              "4084           Your body language may shape who you are         Amy Cuddy   \n",
              "2958         Inside the mind of a master procrastinator         Tim Urban   \n",
              "4765                   How great leaders inspire action       Simon Sinek   \n",
              "4605                         The power of vulnerability       Brené Brown   \n",
              "3504         How to speak so that people want to listen   Julian Treasure   \n",
              "2168                     My philosophy for a happy life         Sam Berns   \n",
              "3251                 The next outbreak? We're not ready        Bill Gates   \n",
              "3017  What makes a good life? Lessons from the longe...  Robert Waldinger   \n",
              "3994  Looks aren't everything. Believe me, I'm a model.   Cameron Russell   \n",
              "\n",
              "                date     views    likes  \\\n",
              "5436   February 2006  72000000  2100000   \n",
              "4084       June 2012  64000000  1900000   \n",
              "2958   February 2016  60000000  1800000   \n",
              "4765  September 2009  57000000  1700000   \n",
              "4605       June 2010  56000000  1700000   \n",
              "3504       June 2013  49000000  1400000   \n",
              "2168    October 2013  43000000  1300000   \n",
              "3251      March 2015  43000000  1300000   \n",
              "3017   November 2015  41000000  1200000   \n",
              "3994    October 2012  38000000  1100000   \n",
              "\n",
              "                                                   link  year      month  \n",
              "5436  https://ted.com/talks/sir_ken_robinson_do_scho...  2006   February  \n",
              "4084  https://ted.com/talks/amy_cuddy_your_body_lang...  2012       June  \n",
              "2958  https://ted.com/talks/tim_urban_inside_the_min...  2016   February  \n",
              "4765  https://ted.com/talks/simon_sinek_how_great_le...  2009  September  \n",
              "4605  https://ted.com/talks/brene_brown_the_power_of...  2010       June  \n",
              "3504  https://ted.com/talks/julian_treasure_how_to_s...  2013       June  \n",
              "2168  https://ted.com/talks/sam_berns_my_philosophy_...  2013    October  \n",
              "3251  https://ted.com/talks/bill_gates_the_next_outb...  2015      March  \n",
              "3017  https://ted.com/talks/robert_waldinger_what_ma...  2015   November  \n",
              "3994  https://ted.com/talks/cameron_russell_looks_ar...  2012    October  "
            ]
          },
          "execution_count": 14,
          "metadata": {},
          "output_type": "execute_result"
        }
      ],
      "source": [
        "top10liked = df.sort_values(by = 'likes', ascending = False).head(10)\n",
        "top10liked"
      ]
    },
    {
      "cell_type": "code",
      "execution_count": 18,
      "metadata": {
        "colab": {
          "base_uri": "https://localhost:8080/",
          "height": 542
        },
        "id": "H19PZwiNfenU",
        "outputId": "185fe43a-45fd-4db1-e241-daea9e10c3f8"
      },
      "outputs": [
        {
          "data": {
            "application/vnd.plotly.v1+json": {
              "config": {
                "plotlyServerURL": "https://plot.ly"
              },
              "data": [
                {
                  "alignmentgroup": "True",
                  "hovertemplate": "variable=views<br>title=%{x}<br>value=%{y}<extra></extra>",
                  "legendgroup": "views",
                  "marker": {
                    "color": "#636efa",
                    "pattern": {
                      "shape": ""
                    }
                  },
                  "name": "views",
                  "offsetgroup": "views",
                  "orientation": "v",
                  "showlegend": true,
                  "textposition": "auto",
                  "type": "bar",
                  "x": [
                    "Do schools kill creativity?",
                    "Your body language may shape who you are",
                    "Inside the mind of a master procrastinator",
                    "How great leaders inspire action",
                    "The power of vulnerability",
                    "How to speak so that people want to listen",
                    "My philosophy for a happy life",
                    "The next outbreak? We're not ready",
                    "What makes a good life? Lessons from the longest study on happiness",
                    "Looks aren't everything. Believe me, I'm a model."
                  ],
                  "xaxis": "x",
                  "y": [
                    72000000,
                    64000000,
                    60000000,
                    57000000,
                    56000000,
                    49000000,
                    43000000,
                    43000000,
                    41000000,
                    38000000
                  ],
                  "yaxis": "y"
                },
                {
                  "alignmentgroup": "True",
                  "hovertemplate": "variable=likes<br>title=%{x}<br>value=%{y}<extra></extra>",
                  "legendgroup": "likes",
                  "marker": {
                    "color": "#EF553B",
                    "pattern": {
                      "shape": ""
                    }
                  },
                  "name": "likes",
                  "offsetgroup": "likes",
                  "orientation": "v",
                  "showlegend": true,
                  "textposition": "auto",
                  "type": "bar",
                  "x": [
                    "Do schools kill creativity?",
                    "Your body language may shape who you are",
                    "Inside the mind of a master procrastinator",
                    "How great leaders inspire action",
                    "The power of vulnerability",
                    "How to speak so that people want to listen",
                    "My philosophy for a happy life",
                    "The next outbreak? We're not ready",
                    "What makes a good life? Lessons from the longest study on happiness",
                    "Looks aren't everything. Believe me, I'm a model."
                  ],
                  "xaxis": "x",
                  "y": [
                    2100000,
                    1900000,
                    1800000,
                    1700000,
                    1700000,
                    1400000,
                    1300000,
                    1300000,
                    1200000,
                    1100000
                  ],
                  "yaxis": "y"
                }
              ],
              "layout": {
                "barmode": "relative",
                "legend": {
                  "title": {
                    "text": "variable"
                  },
                  "tracegroupgap": 0
                },
                "template": {
                  "data": {
                    "bar": [
                      {
                        "error_x": {
                          "color": "#2a3f5f"
                        },
                        "error_y": {
                          "color": "#2a3f5f"
                        },
                        "marker": {
                          "line": {
                            "color": "#E5ECF6",
                            "width": 0.5
                          },
                          "pattern": {
                            "fillmode": "overlay",
                            "size": 10,
                            "solidity": 0.2
                          }
                        },
                        "type": "bar"
                      }
                    ],
                    "barpolar": [
                      {
                        "marker": {
                          "line": {
                            "color": "#E5ECF6",
                            "width": 0.5
                          },
                          "pattern": {
                            "fillmode": "overlay",
                            "size": 10,
                            "solidity": 0.2
                          }
                        },
                        "type": "barpolar"
                      }
                    ],
                    "carpet": [
                      {
                        "aaxis": {
                          "endlinecolor": "#2a3f5f",
                          "gridcolor": "white",
                          "linecolor": "white",
                          "minorgridcolor": "white",
                          "startlinecolor": "#2a3f5f"
                        },
                        "baxis": {
                          "endlinecolor": "#2a3f5f",
                          "gridcolor": "white",
                          "linecolor": "white",
                          "minorgridcolor": "white",
                          "startlinecolor": "#2a3f5f"
                        },
                        "type": "carpet"
                      }
                    ],
                    "choropleth": [
                      {
                        "colorbar": {
                          "outlinewidth": 0,
                          "ticks": ""
                        },
                        "type": "choropleth"
                      }
                    ],
                    "contour": [
                      {
                        "colorbar": {
                          "outlinewidth": 0,
                          "ticks": ""
                        },
                        "colorscale": [
                          [
                            0,
                            "#0d0887"
                          ],
                          [
                            0.1111111111111111,
                            "#46039f"
                          ],
                          [
                            0.2222222222222222,
                            "#7201a8"
                          ],
                          [
                            0.3333333333333333,
                            "#9c179e"
                          ],
                          [
                            0.4444444444444444,
                            "#bd3786"
                          ],
                          [
                            0.5555555555555556,
                            "#d8576b"
                          ],
                          [
                            0.6666666666666666,
                            "#ed7953"
                          ],
                          [
                            0.7777777777777778,
                            "#fb9f3a"
                          ],
                          [
                            0.8888888888888888,
                            "#fdca26"
                          ],
                          [
                            1,
                            "#f0f921"
                          ]
                        ],
                        "type": "contour"
                      }
                    ],
                    "contourcarpet": [
                      {
                        "colorbar": {
                          "outlinewidth": 0,
                          "ticks": ""
                        },
                        "type": "contourcarpet"
                      }
                    ],
                    "heatmap": [
                      {
                        "colorbar": {
                          "outlinewidth": 0,
                          "ticks": ""
                        },
                        "colorscale": [
                          [
                            0,
                            "#0d0887"
                          ],
                          [
                            0.1111111111111111,
                            "#46039f"
                          ],
                          [
                            0.2222222222222222,
                            "#7201a8"
                          ],
                          [
                            0.3333333333333333,
                            "#9c179e"
                          ],
                          [
                            0.4444444444444444,
                            "#bd3786"
                          ],
                          [
                            0.5555555555555556,
                            "#d8576b"
                          ],
                          [
                            0.6666666666666666,
                            "#ed7953"
                          ],
                          [
                            0.7777777777777778,
                            "#fb9f3a"
                          ],
                          [
                            0.8888888888888888,
                            "#fdca26"
                          ],
                          [
                            1,
                            "#f0f921"
                          ]
                        ],
                        "type": "heatmap"
                      }
                    ],
                    "heatmapgl": [
                      {
                        "colorbar": {
                          "outlinewidth": 0,
                          "ticks": ""
                        },
                        "colorscale": [
                          [
                            0,
                            "#0d0887"
                          ],
                          [
                            0.1111111111111111,
                            "#46039f"
                          ],
                          [
                            0.2222222222222222,
                            "#7201a8"
                          ],
                          [
                            0.3333333333333333,
                            "#9c179e"
                          ],
                          [
                            0.4444444444444444,
                            "#bd3786"
                          ],
                          [
                            0.5555555555555556,
                            "#d8576b"
                          ],
                          [
                            0.6666666666666666,
                            "#ed7953"
                          ],
                          [
                            0.7777777777777778,
                            "#fb9f3a"
                          ],
                          [
                            0.8888888888888888,
                            "#fdca26"
                          ],
                          [
                            1,
                            "#f0f921"
                          ]
                        ],
                        "type": "heatmapgl"
                      }
                    ],
                    "histogram": [
                      {
                        "marker": {
                          "pattern": {
                            "fillmode": "overlay",
                            "size": 10,
                            "solidity": 0.2
                          }
                        },
                        "type": "histogram"
                      }
                    ],
                    "histogram2d": [
                      {
                        "colorbar": {
                          "outlinewidth": 0,
                          "ticks": ""
                        },
                        "colorscale": [
                          [
                            0,
                            "#0d0887"
                          ],
                          [
                            0.1111111111111111,
                            "#46039f"
                          ],
                          [
                            0.2222222222222222,
                            "#7201a8"
                          ],
                          [
                            0.3333333333333333,
                            "#9c179e"
                          ],
                          [
                            0.4444444444444444,
                            "#bd3786"
                          ],
                          [
                            0.5555555555555556,
                            "#d8576b"
                          ],
                          [
                            0.6666666666666666,
                            "#ed7953"
                          ],
                          [
                            0.7777777777777778,
                            "#fb9f3a"
                          ],
                          [
                            0.8888888888888888,
                            "#fdca26"
                          ],
                          [
                            1,
                            "#f0f921"
                          ]
                        ],
                        "type": "histogram2d"
                      }
                    ],
                    "histogram2dcontour": [
                      {
                        "colorbar": {
                          "outlinewidth": 0,
                          "ticks": ""
                        },
                        "colorscale": [
                          [
                            0,
                            "#0d0887"
                          ],
                          [
                            0.1111111111111111,
                            "#46039f"
                          ],
                          [
                            0.2222222222222222,
                            "#7201a8"
                          ],
                          [
                            0.3333333333333333,
                            "#9c179e"
                          ],
                          [
                            0.4444444444444444,
                            "#bd3786"
                          ],
                          [
                            0.5555555555555556,
                            "#d8576b"
                          ],
                          [
                            0.6666666666666666,
                            "#ed7953"
                          ],
                          [
                            0.7777777777777778,
                            "#fb9f3a"
                          ],
                          [
                            0.8888888888888888,
                            "#fdca26"
                          ],
                          [
                            1,
                            "#f0f921"
                          ]
                        ],
                        "type": "histogram2dcontour"
                      }
                    ],
                    "mesh3d": [
                      {
                        "colorbar": {
                          "outlinewidth": 0,
                          "ticks": ""
                        },
                        "type": "mesh3d"
                      }
                    ],
                    "parcoords": [
                      {
                        "line": {
                          "colorbar": {
                            "outlinewidth": 0,
                            "ticks": ""
                          }
                        },
                        "type": "parcoords"
                      }
                    ],
                    "pie": [
                      {
                        "automargin": true,
                        "type": "pie"
                      }
                    ],
                    "scatter": [
                      {
                        "marker": {
                          "colorbar": {
                            "outlinewidth": 0,
                            "ticks": ""
                          }
                        },
                        "type": "scatter"
                      }
                    ],
                    "scatter3d": [
                      {
                        "line": {
                          "colorbar": {
                            "outlinewidth": 0,
                            "ticks": ""
                          }
                        },
                        "marker": {
                          "colorbar": {
                            "outlinewidth": 0,
                            "ticks": ""
                          }
                        },
                        "type": "scatter3d"
                      }
                    ],
                    "scattercarpet": [
                      {
                        "marker": {
                          "colorbar": {
                            "outlinewidth": 0,
                            "ticks": ""
                          }
                        },
                        "type": "scattercarpet"
                      }
                    ],
                    "scattergeo": [
                      {
                        "marker": {
                          "colorbar": {
                            "outlinewidth": 0,
                            "ticks": ""
                          }
                        },
                        "type": "scattergeo"
                      }
                    ],
                    "scattergl": [
                      {
                        "marker": {
                          "colorbar": {
                            "outlinewidth": 0,
                            "ticks": ""
                          }
                        },
                        "type": "scattergl"
                      }
                    ],
                    "scattermapbox": [
                      {
                        "marker": {
                          "colorbar": {
                            "outlinewidth": 0,
                            "ticks": ""
                          }
                        },
                        "type": "scattermapbox"
                      }
                    ],
                    "scatterpolar": [
                      {
                        "marker": {
                          "colorbar": {
                            "outlinewidth": 0,
                            "ticks": ""
                          }
                        },
                        "type": "scatterpolar"
                      }
                    ],
                    "scatterpolargl": [
                      {
                        "marker": {
                          "colorbar": {
                            "outlinewidth": 0,
                            "ticks": ""
                          }
                        },
                        "type": "scatterpolargl"
                      }
                    ],
                    "scatterternary": [
                      {
                        "marker": {
                          "colorbar": {
                            "outlinewidth": 0,
                            "ticks": ""
                          }
                        },
                        "type": "scatterternary"
                      }
                    ],
                    "surface": [
                      {
                        "colorbar": {
                          "outlinewidth": 0,
                          "ticks": ""
                        },
                        "colorscale": [
                          [
                            0,
                            "#0d0887"
                          ],
                          [
                            0.1111111111111111,
                            "#46039f"
                          ],
                          [
                            0.2222222222222222,
                            "#7201a8"
                          ],
                          [
                            0.3333333333333333,
                            "#9c179e"
                          ],
                          [
                            0.4444444444444444,
                            "#bd3786"
                          ],
                          [
                            0.5555555555555556,
                            "#d8576b"
                          ],
                          [
                            0.6666666666666666,
                            "#ed7953"
                          ],
                          [
                            0.7777777777777778,
                            "#fb9f3a"
                          ],
                          [
                            0.8888888888888888,
                            "#fdca26"
                          ],
                          [
                            1,
                            "#f0f921"
                          ]
                        ],
                        "type": "surface"
                      }
                    ],
                    "table": [
                      {
                        "cells": {
                          "fill": {
                            "color": "#EBF0F8"
                          },
                          "line": {
                            "color": "white"
                          }
                        },
                        "header": {
                          "fill": {
                            "color": "#C8D4E3"
                          },
                          "line": {
                            "color": "white"
                          }
                        },
                        "type": "table"
                      }
                    ]
                  },
                  "layout": {
                    "annotationdefaults": {
                      "arrowcolor": "#2a3f5f",
                      "arrowhead": 0,
                      "arrowwidth": 1
                    },
                    "autotypenumbers": "strict",
                    "coloraxis": {
                      "colorbar": {
                        "outlinewidth": 0,
                        "ticks": ""
                      }
                    },
                    "colorscale": {
                      "diverging": [
                        [
                          0,
                          "#8e0152"
                        ],
                        [
                          0.1,
                          "#c51b7d"
                        ],
                        [
                          0.2,
                          "#de77ae"
                        ],
                        [
                          0.3,
                          "#f1b6da"
                        ],
                        [
                          0.4,
                          "#fde0ef"
                        ],
                        [
                          0.5,
                          "#f7f7f7"
                        ],
                        [
                          0.6,
                          "#e6f5d0"
                        ],
                        [
                          0.7,
                          "#b8e186"
                        ],
                        [
                          0.8,
                          "#7fbc41"
                        ],
                        [
                          0.9,
                          "#4d9221"
                        ],
                        [
                          1,
                          "#276419"
                        ]
                      ],
                      "sequential": [
                        [
                          0,
                          "#0d0887"
                        ],
                        [
                          0.1111111111111111,
                          "#46039f"
                        ],
                        [
                          0.2222222222222222,
                          "#7201a8"
                        ],
                        [
                          0.3333333333333333,
                          "#9c179e"
                        ],
                        [
                          0.4444444444444444,
                          "#bd3786"
                        ],
                        [
                          0.5555555555555556,
                          "#d8576b"
                        ],
                        [
                          0.6666666666666666,
                          "#ed7953"
                        ],
                        [
                          0.7777777777777778,
                          "#fb9f3a"
                        ],
                        [
                          0.8888888888888888,
                          "#fdca26"
                        ],
                        [
                          1,
                          "#f0f921"
                        ]
                      ],
                      "sequentialminus": [
                        [
                          0,
                          "#0d0887"
                        ],
                        [
                          0.1111111111111111,
                          "#46039f"
                        ],
                        [
                          0.2222222222222222,
                          "#7201a8"
                        ],
                        [
                          0.3333333333333333,
                          "#9c179e"
                        ],
                        [
                          0.4444444444444444,
                          "#bd3786"
                        ],
                        [
                          0.5555555555555556,
                          "#d8576b"
                        ],
                        [
                          0.6666666666666666,
                          "#ed7953"
                        ],
                        [
                          0.7777777777777778,
                          "#fb9f3a"
                        ],
                        [
                          0.8888888888888888,
                          "#fdca26"
                        ],
                        [
                          1,
                          "#f0f921"
                        ]
                      ]
                    },
                    "colorway": [
                      "#636efa",
                      "#EF553B",
                      "#00cc96",
                      "#ab63fa",
                      "#FFA15A",
                      "#19d3f3",
                      "#FF6692",
                      "#B6E880",
                      "#FF97FF",
                      "#FECB52"
                    ],
                    "font": {
                      "color": "#2a3f5f"
                    },
                    "geo": {
                      "bgcolor": "white",
                      "lakecolor": "white",
                      "landcolor": "#E5ECF6",
                      "showlakes": true,
                      "showland": true,
                      "subunitcolor": "white"
                    },
                    "hoverlabel": {
                      "align": "left"
                    },
                    "hovermode": "closest",
                    "mapbox": {
                      "style": "light"
                    },
                    "paper_bgcolor": "white",
                    "plot_bgcolor": "#E5ECF6",
                    "polar": {
                      "angularaxis": {
                        "gridcolor": "white",
                        "linecolor": "white",
                        "ticks": ""
                      },
                      "bgcolor": "#E5ECF6",
                      "radialaxis": {
                        "gridcolor": "white",
                        "linecolor": "white",
                        "ticks": ""
                      }
                    },
                    "scene": {
                      "xaxis": {
                        "backgroundcolor": "#E5ECF6",
                        "gridcolor": "white",
                        "gridwidth": 2,
                        "linecolor": "white",
                        "showbackground": true,
                        "ticks": "",
                        "zerolinecolor": "white"
                      },
                      "yaxis": {
                        "backgroundcolor": "#E5ECF6",
                        "gridcolor": "white",
                        "gridwidth": 2,
                        "linecolor": "white",
                        "showbackground": true,
                        "ticks": "",
                        "zerolinecolor": "white"
                      },
                      "zaxis": {
                        "backgroundcolor": "#E5ECF6",
                        "gridcolor": "white",
                        "gridwidth": 2,
                        "linecolor": "white",
                        "showbackground": true,
                        "ticks": "",
                        "zerolinecolor": "white"
                      }
                    },
                    "shapedefaults": {
                      "line": {
                        "color": "#2a3f5f"
                      }
                    },
                    "ternary": {
                      "aaxis": {
                        "gridcolor": "white",
                        "linecolor": "white",
                        "ticks": ""
                      },
                      "baxis": {
                        "gridcolor": "white",
                        "linecolor": "white",
                        "ticks": ""
                      },
                      "bgcolor": "#E5ECF6",
                      "caxis": {
                        "gridcolor": "white",
                        "linecolor": "white",
                        "ticks": ""
                      }
                    },
                    "title": {
                      "x": 0.05
                    },
                    "xaxis": {
                      "automargin": true,
                      "gridcolor": "white",
                      "linecolor": "white",
                      "ticks": "",
                      "title": {
                        "standoff": 15
                      },
                      "zerolinecolor": "white",
                      "zerolinewidth": 2
                    },
                    "yaxis": {
                      "automargin": true,
                      "gridcolor": "white",
                      "linecolor": "white",
                      "ticks": "",
                      "title": {
                        "standoff": 15
                      },
                      "zerolinecolor": "white",
                      "zerolinewidth": 2
                    }
                  }
                },
                "title": {
                  "text": "Top 10 Popular videos based on Views & likes"
                },
                "xaxis": {
                  "anchor": "y",
                  "domain": [
                    0,
                    1
                  ],
                  "title": {
                    "text": "title"
                  }
                },
                "yaxis": {
                  "anchor": "x",
                  "domain": [
                    0,
                    1
                  ],
                  "title": {
                    "text": "value"
                  }
                }
              }
            }
          },
          "metadata": {},
          "output_type": "display_data"
        }
      ],
      "source": [
        "fig = px.bar(top10views, x=\"title\", y=[\"views\",\"likes\"], title=\"Top 10 Popular videos based on Views & likes\")\n",
        "fig.show()"
      ]
    },
    {
      "cell_type": "markdown",
      "metadata": {
        "id": "Uo8egddXy3Tw"
      },
      "source": [
        "\"Do schools kill creativity?\" released in 2006 is still the most popular Ted Talk Video based on the number of views and likes."
      ]
    },
    {
      "cell_type": "code",
      "execution_count": 20,
      "metadata": {
        "colab": {
          "base_uri": "https://localhost:8080/",
          "height": 363
        },
        "id": "Mlj1hefoga_J",
        "outputId": "fa148ceb-e6de-48ff-c2e5-3e51eb858b4a"
      },
      "outputs": [
        {
          "data": {
            "text/html": [
              "<div>\n",
              "<style scoped>\n",
              "    .dataframe tbody tr th:only-of-type {\n",
              "        vertical-align: middle;\n",
              "    }\n",
              "\n",
              "    .dataframe tbody tr th {\n",
              "        vertical-align: top;\n",
              "    }\n",
              "\n",
              "    .dataframe thead th {\n",
              "        text-align: right;\n",
              "    }\n",
              "</style>\n",
              "<table border=\"1\" class=\"dataframe\">\n",
              "  <thead>\n",
              "    <tr style=\"text-align: right;\">\n",
              "      <th></th>\n",
              "      <th>author</th>\n",
              "      <th>counts</th>\n",
              "    </tr>\n",
              "  </thead>\n",
              "  <tbody>\n",
              "    <tr>\n",
              "      <th>0</th>\n",
              "      <td>Alex Gendler</td>\n",
              "      <td>45</td>\n",
              "    </tr>\n",
              "    <tr>\n",
              "      <th>1</th>\n",
              "      <td>Iseult Gillespie</td>\n",
              "      <td>33</td>\n",
              "    </tr>\n",
              "    <tr>\n",
              "      <th>2</th>\n",
              "      <td>Matt Walker</td>\n",
              "      <td>18</td>\n",
              "    </tr>\n",
              "    <tr>\n",
              "      <th>3</th>\n",
              "      <td>Alex Rosenthal</td>\n",
              "      <td>15</td>\n",
              "    </tr>\n",
              "    <tr>\n",
              "      <th>4</th>\n",
              "      <td>Elizabeth Cox</td>\n",
              "      <td>13</td>\n",
              "    </tr>\n",
              "    <tr>\n",
              "      <th>5</th>\n",
              "      <td>Emma Bryce</td>\n",
              "      <td>12</td>\n",
              "    </tr>\n",
              "    <tr>\n",
              "      <th>6</th>\n",
              "      <td>Juan Enriquez</td>\n",
              "      <td>11</td>\n",
              "    </tr>\n",
              "    <tr>\n",
              "      <th>7</th>\n",
              "      <td>Daniel Finkel</td>\n",
              "      <td>11</td>\n",
              "    </tr>\n",
              "    <tr>\n",
              "      <th>8</th>\n",
              "      <td>Jen Gunter</td>\n",
              "      <td>9</td>\n",
              "    </tr>\n",
              "    <tr>\n",
              "      <th>9</th>\n",
              "      <td>Hans Rosling</td>\n",
              "      <td>9</td>\n",
              "    </tr>\n",
              "  </tbody>\n",
              "</table>\n",
              "</div>"
            ],
            "text/plain": [
              "             author  counts\n",
              "0      Alex Gendler      45\n",
              "1  Iseult Gillespie      33\n",
              "2       Matt Walker      18\n",
              "3    Alex Rosenthal      15\n",
              "4     Elizabeth Cox      13\n",
              "5        Emma Bryce      12\n",
              "6     Juan Enriquez      11\n",
              "7     Daniel Finkel      11\n",
              "8        Jen Gunter       9\n",
              "9      Hans Rosling       9"
            ]
          },
          "execution_count": 20,
          "metadata": {},
          "output_type": "execute_result"
        }
      ],
      "source": [
        "#Top 10 authors with the most number of talks\n",
        "top10Authors=df['author'].value_counts().reset_index()\n",
        "top10Authors.columns=['author','counts']\n",
        "top10Authors = top10Authors.head(10)\n",
        "top10Authors"
      ]
    },
    {
      "cell_type": "code",
      "execution_count": 21,
      "metadata": {
        "colab": {
          "base_uri": "https://localhost:8080/",
          "height": 542
        },
        "id": "SjHumzG1hdRy",
        "outputId": "3e675f45-569e-4f27-e471-3b03871928bb"
      },
      "outputs": [
        {
          "data": {
            "application/vnd.plotly.v1+json": {
              "config": {
                "plotlyServerURL": "https://plot.ly"
              },
              "data": [
                {
                  "alignmentgroup": "True",
                  "hovertemplate": "author=%{x}<br>counts=%{y}<extra></extra>",
                  "legendgroup": "",
                  "marker": {
                    "color": "#636efa",
                    "pattern": {
                      "shape": ""
                    }
                  },
                  "name": "",
                  "offsetgroup": "",
                  "orientation": "v",
                  "showlegend": false,
                  "textposition": "auto",
                  "type": "bar",
                  "x": [
                    "Alex Gendler",
                    "Iseult Gillespie",
                    "Matt Walker",
                    "Alex Rosenthal",
                    "Elizabeth Cox",
                    "Emma Bryce",
                    "Juan Enriquez",
                    "Daniel Finkel",
                    "Jen Gunter",
                    "Hans Rosling"
                  ],
                  "xaxis": "x",
                  "y": [
                    45,
                    33,
                    18,
                    15,
                    13,
                    12,
                    11,
                    11,
                    9,
                    9
                  ],
                  "yaxis": "y"
                }
              ],
              "layout": {
                "barmode": "relative",
                "legend": {
                  "tracegroupgap": 0
                },
                "template": {
                  "data": {
                    "bar": [
                      {
                        "error_x": {
                          "color": "#2a3f5f"
                        },
                        "error_y": {
                          "color": "#2a3f5f"
                        },
                        "marker": {
                          "line": {
                            "color": "#E5ECF6",
                            "width": 0.5
                          },
                          "pattern": {
                            "fillmode": "overlay",
                            "size": 10,
                            "solidity": 0.2
                          }
                        },
                        "type": "bar"
                      }
                    ],
                    "barpolar": [
                      {
                        "marker": {
                          "line": {
                            "color": "#E5ECF6",
                            "width": 0.5
                          },
                          "pattern": {
                            "fillmode": "overlay",
                            "size": 10,
                            "solidity": 0.2
                          }
                        },
                        "type": "barpolar"
                      }
                    ],
                    "carpet": [
                      {
                        "aaxis": {
                          "endlinecolor": "#2a3f5f",
                          "gridcolor": "white",
                          "linecolor": "white",
                          "minorgridcolor": "white",
                          "startlinecolor": "#2a3f5f"
                        },
                        "baxis": {
                          "endlinecolor": "#2a3f5f",
                          "gridcolor": "white",
                          "linecolor": "white",
                          "minorgridcolor": "white",
                          "startlinecolor": "#2a3f5f"
                        },
                        "type": "carpet"
                      }
                    ],
                    "choropleth": [
                      {
                        "colorbar": {
                          "outlinewidth": 0,
                          "ticks": ""
                        },
                        "type": "choropleth"
                      }
                    ],
                    "contour": [
                      {
                        "colorbar": {
                          "outlinewidth": 0,
                          "ticks": ""
                        },
                        "colorscale": [
                          [
                            0,
                            "#0d0887"
                          ],
                          [
                            0.1111111111111111,
                            "#46039f"
                          ],
                          [
                            0.2222222222222222,
                            "#7201a8"
                          ],
                          [
                            0.3333333333333333,
                            "#9c179e"
                          ],
                          [
                            0.4444444444444444,
                            "#bd3786"
                          ],
                          [
                            0.5555555555555556,
                            "#d8576b"
                          ],
                          [
                            0.6666666666666666,
                            "#ed7953"
                          ],
                          [
                            0.7777777777777778,
                            "#fb9f3a"
                          ],
                          [
                            0.8888888888888888,
                            "#fdca26"
                          ],
                          [
                            1,
                            "#f0f921"
                          ]
                        ],
                        "type": "contour"
                      }
                    ],
                    "contourcarpet": [
                      {
                        "colorbar": {
                          "outlinewidth": 0,
                          "ticks": ""
                        },
                        "type": "contourcarpet"
                      }
                    ],
                    "heatmap": [
                      {
                        "colorbar": {
                          "outlinewidth": 0,
                          "ticks": ""
                        },
                        "colorscale": [
                          [
                            0,
                            "#0d0887"
                          ],
                          [
                            0.1111111111111111,
                            "#46039f"
                          ],
                          [
                            0.2222222222222222,
                            "#7201a8"
                          ],
                          [
                            0.3333333333333333,
                            "#9c179e"
                          ],
                          [
                            0.4444444444444444,
                            "#bd3786"
                          ],
                          [
                            0.5555555555555556,
                            "#d8576b"
                          ],
                          [
                            0.6666666666666666,
                            "#ed7953"
                          ],
                          [
                            0.7777777777777778,
                            "#fb9f3a"
                          ],
                          [
                            0.8888888888888888,
                            "#fdca26"
                          ],
                          [
                            1,
                            "#f0f921"
                          ]
                        ],
                        "type": "heatmap"
                      }
                    ],
                    "heatmapgl": [
                      {
                        "colorbar": {
                          "outlinewidth": 0,
                          "ticks": ""
                        },
                        "colorscale": [
                          [
                            0,
                            "#0d0887"
                          ],
                          [
                            0.1111111111111111,
                            "#46039f"
                          ],
                          [
                            0.2222222222222222,
                            "#7201a8"
                          ],
                          [
                            0.3333333333333333,
                            "#9c179e"
                          ],
                          [
                            0.4444444444444444,
                            "#bd3786"
                          ],
                          [
                            0.5555555555555556,
                            "#d8576b"
                          ],
                          [
                            0.6666666666666666,
                            "#ed7953"
                          ],
                          [
                            0.7777777777777778,
                            "#fb9f3a"
                          ],
                          [
                            0.8888888888888888,
                            "#fdca26"
                          ],
                          [
                            1,
                            "#f0f921"
                          ]
                        ],
                        "type": "heatmapgl"
                      }
                    ],
                    "histogram": [
                      {
                        "marker": {
                          "pattern": {
                            "fillmode": "overlay",
                            "size": 10,
                            "solidity": 0.2
                          }
                        },
                        "type": "histogram"
                      }
                    ],
                    "histogram2d": [
                      {
                        "colorbar": {
                          "outlinewidth": 0,
                          "ticks": ""
                        },
                        "colorscale": [
                          [
                            0,
                            "#0d0887"
                          ],
                          [
                            0.1111111111111111,
                            "#46039f"
                          ],
                          [
                            0.2222222222222222,
                            "#7201a8"
                          ],
                          [
                            0.3333333333333333,
                            "#9c179e"
                          ],
                          [
                            0.4444444444444444,
                            "#bd3786"
                          ],
                          [
                            0.5555555555555556,
                            "#d8576b"
                          ],
                          [
                            0.6666666666666666,
                            "#ed7953"
                          ],
                          [
                            0.7777777777777778,
                            "#fb9f3a"
                          ],
                          [
                            0.8888888888888888,
                            "#fdca26"
                          ],
                          [
                            1,
                            "#f0f921"
                          ]
                        ],
                        "type": "histogram2d"
                      }
                    ],
                    "histogram2dcontour": [
                      {
                        "colorbar": {
                          "outlinewidth": 0,
                          "ticks": ""
                        },
                        "colorscale": [
                          [
                            0,
                            "#0d0887"
                          ],
                          [
                            0.1111111111111111,
                            "#46039f"
                          ],
                          [
                            0.2222222222222222,
                            "#7201a8"
                          ],
                          [
                            0.3333333333333333,
                            "#9c179e"
                          ],
                          [
                            0.4444444444444444,
                            "#bd3786"
                          ],
                          [
                            0.5555555555555556,
                            "#d8576b"
                          ],
                          [
                            0.6666666666666666,
                            "#ed7953"
                          ],
                          [
                            0.7777777777777778,
                            "#fb9f3a"
                          ],
                          [
                            0.8888888888888888,
                            "#fdca26"
                          ],
                          [
                            1,
                            "#f0f921"
                          ]
                        ],
                        "type": "histogram2dcontour"
                      }
                    ],
                    "mesh3d": [
                      {
                        "colorbar": {
                          "outlinewidth": 0,
                          "ticks": ""
                        },
                        "type": "mesh3d"
                      }
                    ],
                    "parcoords": [
                      {
                        "line": {
                          "colorbar": {
                            "outlinewidth": 0,
                            "ticks": ""
                          }
                        },
                        "type": "parcoords"
                      }
                    ],
                    "pie": [
                      {
                        "automargin": true,
                        "type": "pie"
                      }
                    ],
                    "scatter": [
                      {
                        "marker": {
                          "colorbar": {
                            "outlinewidth": 0,
                            "ticks": ""
                          }
                        },
                        "type": "scatter"
                      }
                    ],
                    "scatter3d": [
                      {
                        "line": {
                          "colorbar": {
                            "outlinewidth": 0,
                            "ticks": ""
                          }
                        },
                        "marker": {
                          "colorbar": {
                            "outlinewidth": 0,
                            "ticks": ""
                          }
                        },
                        "type": "scatter3d"
                      }
                    ],
                    "scattercarpet": [
                      {
                        "marker": {
                          "colorbar": {
                            "outlinewidth": 0,
                            "ticks": ""
                          }
                        },
                        "type": "scattercarpet"
                      }
                    ],
                    "scattergeo": [
                      {
                        "marker": {
                          "colorbar": {
                            "outlinewidth": 0,
                            "ticks": ""
                          }
                        },
                        "type": "scattergeo"
                      }
                    ],
                    "scattergl": [
                      {
                        "marker": {
                          "colorbar": {
                            "outlinewidth": 0,
                            "ticks": ""
                          }
                        },
                        "type": "scattergl"
                      }
                    ],
                    "scattermapbox": [
                      {
                        "marker": {
                          "colorbar": {
                            "outlinewidth": 0,
                            "ticks": ""
                          }
                        },
                        "type": "scattermapbox"
                      }
                    ],
                    "scatterpolar": [
                      {
                        "marker": {
                          "colorbar": {
                            "outlinewidth": 0,
                            "ticks": ""
                          }
                        },
                        "type": "scatterpolar"
                      }
                    ],
                    "scatterpolargl": [
                      {
                        "marker": {
                          "colorbar": {
                            "outlinewidth": 0,
                            "ticks": ""
                          }
                        },
                        "type": "scatterpolargl"
                      }
                    ],
                    "scatterternary": [
                      {
                        "marker": {
                          "colorbar": {
                            "outlinewidth": 0,
                            "ticks": ""
                          }
                        },
                        "type": "scatterternary"
                      }
                    ],
                    "surface": [
                      {
                        "colorbar": {
                          "outlinewidth": 0,
                          "ticks": ""
                        },
                        "colorscale": [
                          [
                            0,
                            "#0d0887"
                          ],
                          [
                            0.1111111111111111,
                            "#46039f"
                          ],
                          [
                            0.2222222222222222,
                            "#7201a8"
                          ],
                          [
                            0.3333333333333333,
                            "#9c179e"
                          ],
                          [
                            0.4444444444444444,
                            "#bd3786"
                          ],
                          [
                            0.5555555555555556,
                            "#d8576b"
                          ],
                          [
                            0.6666666666666666,
                            "#ed7953"
                          ],
                          [
                            0.7777777777777778,
                            "#fb9f3a"
                          ],
                          [
                            0.8888888888888888,
                            "#fdca26"
                          ],
                          [
                            1,
                            "#f0f921"
                          ]
                        ],
                        "type": "surface"
                      }
                    ],
                    "table": [
                      {
                        "cells": {
                          "fill": {
                            "color": "#EBF0F8"
                          },
                          "line": {
                            "color": "white"
                          }
                        },
                        "header": {
                          "fill": {
                            "color": "#C8D4E3"
                          },
                          "line": {
                            "color": "white"
                          }
                        },
                        "type": "table"
                      }
                    ]
                  },
                  "layout": {
                    "annotationdefaults": {
                      "arrowcolor": "#2a3f5f",
                      "arrowhead": 0,
                      "arrowwidth": 1
                    },
                    "autotypenumbers": "strict",
                    "coloraxis": {
                      "colorbar": {
                        "outlinewidth": 0,
                        "ticks": ""
                      }
                    },
                    "colorscale": {
                      "diverging": [
                        [
                          0,
                          "#8e0152"
                        ],
                        [
                          0.1,
                          "#c51b7d"
                        ],
                        [
                          0.2,
                          "#de77ae"
                        ],
                        [
                          0.3,
                          "#f1b6da"
                        ],
                        [
                          0.4,
                          "#fde0ef"
                        ],
                        [
                          0.5,
                          "#f7f7f7"
                        ],
                        [
                          0.6,
                          "#e6f5d0"
                        ],
                        [
                          0.7,
                          "#b8e186"
                        ],
                        [
                          0.8,
                          "#7fbc41"
                        ],
                        [
                          0.9,
                          "#4d9221"
                        ],
                        [
                          1,
                          "#276419"
                        ]
                      ],
                      "sequential": [
                        [
                          0,
                          "#0d0887"
                        ],
                        [
                          0.1111111111111111,
                          "#46039f"
                        ],
                        [
                          0.2222222222222222,
                          "#7201a8"
                        ],
                        [
                          0.3333333333333333,
                          "#9c179e"
                        ],
                        [
                          0.4444444444444444,
                          "#bd3786"
                        ],
                        [
                          0.5555555555555556,
                          "#d8576b"
                        ],
                        [
                          0.6666666666666666,
                          "#ed7953"
                        ],
                        [
                          0.7777777777777778,
                          "#fb9f3a"
                        ],
                        [
                          0.8888888888888888,
                          "#fdca26"
                        ],
                        [
                          1,
                          "#f0f921"
                        ]
                      ],
                      "sequentialminus": [
                        [
                          0,
                          "#0d0887"
                        ],
                        [
                          0.1111111111111111,
                          "#46039f"
                        ],
                        [
                          0.2222222222222222,
                          "#7201a8"
                        ],
                        [
                          0.3333333333333333,
                          "#9c179e"
                        ],
                        [
                          0.4444444444444444,
                          "#bd3786"
                        ],
                        [
                          0.5555555555555556,
                          "#d8576b"
                        ],
                        [
                          0.6666666666666666,
                          "#ed7953"
                        ],
                        [
                          0.7777777777777778,
                          "#fb9f3a"
                        ],
                        [
                          0.8888888888888888,
                          "#fdca26"
                        ],
                        [
                          1,
                          "#f0f921"
                        ]
                      ]
                    },
                    "colorway": [
                      "#636efa",
                      "#EF553B",
                      "#00cc96",
                      "#ab63fa",
                      "#FFA15A",
                      "#19d3f3",
                      "#FF6692",
                      "#B6E880",
                      "#FF97FF",
                      "#FECB52"
                    ],
                    "font": {
                      "color": "#2a3f5f"
                    },
                    "geo": {
                      "bgcolor": "white",
                      "lakecolor": "white",
                      "landcolor": "#E5ECF6",
                      "showlakes": true,
                      "showland": true,
                      "subunitcolor": "white"
                    },
                    "hoverlabel": {
                      "align": "left"
                    },
                    "hovermode": "closest",
                    "mapbox": {
                      "style": "light"
                    },
                    "paper_bgcolor": "white",
                    "plot_bgcolor": "#E5ECF6",
                    "polar": {
                      "angularaxis": {
                        "gridcolor": "white",
                        "linecolor": "white",
                        "ticks": ""
                      },
                      "bgcolor": "#E5ECF6",
                      "radialaxis": {
                        "gridcolor": "white",
                        "linecolor": "white",
                        "ticks": ""
                      }
                    },
                    "scene": {
                      "xaxis": {
                        "backgroundcolor": "#E5ECF6",
                        "gridcolor": "white",
                        "gridwidth": 2,
                        "linecolor": "white",
                        "showbackground": true,
                        "ticks": "",
                        "zerolinecolor": "white"
                      },
                      "yaxis": {
                        "backgroundcolor": "#E5ECF6",
                        "gridcolor": "white",
                        "gridwidth": 2,
                        "linecolor": "white",
                        "showbackground": true,
                        "ticks": "",
                        "zerolinecolor": "white"
                      },
                      "zaxis": {
                        "backgroundcolor": "#E5ECF6",
                        "gridcolor": "white",
                        "gridwidth": 2,
                        "linecolor": "white",
                        "showbackground": true,
                        "ticks": "",
                        "zerolinecolor": "white"
                      }
                    },
                    "shapedefaults": {
                      "line": {
                        "color": "#2a3f5f"
                      }
                    },
                    "ternary": {
                      "aaxis": {
                        "gridcolor": "white",
                        "linecolor": "white",
                        "ticks": ""
                      },
                      "baxis": {
                        "gridcolor": "white",
                        "linecolor": "white",
                        "ticks": ""
                      },
                      "bgcolor": "#E5ECF6",
                      "caxis": {
                        "gridcolor": "white",
                        "linecolor": "white",
                        "ticks": ""
                      }
                    },
                    "title": {
                      "x": 0.05
                    },
                    "xaxis": {
                      "automargin": true,
                      "gridcolor": "white",
                      "linecolor": "white",
                      "ticks": "",
                      "title": {
                        "standoff": 15
                      },
                      "zerolinecolor": "white",
                      "zerolinewidth": 2
                    },
                    "yaxis": {
                      "automargin": true,
                      "gridcolor": "white",
                      "linecolor": "white",
                      "ticks": "",
                      "title": {
                        "standoff": 15
                      },
                      "zerolinecolor": "white",
                      "zerolinewidth": 2
                    }
                  }
                },
                "title": {
                  "text": "Top 10 authors with the most number of talks"
                },
                "xaxis": {
                  "anchor": "y",
                  "domain": [
                    0,
                    1
                  ],
                  "title": {
                    "text": "author"
                  }
                },
                "yaxis": {
                  "anchor": "x",
                  "domain": [
                    0,
                    1
                  ],
                  "title": {
                    "text": "counts"
                  }
                }
              }
            }
          },
          "metadata": {},
          "output_type": "display_data"
        }
      ],
      "source": [
        "fig = px.bar(top10Authors, x=\"author\", y=\"counts\", title=\"Top 10 authors with the most number of talks\")\n",
        "fig.show()"
      ]
    },
    {
      "cell_type": "markdown",
      "metadata": {
        "id": "DQ-dylunGrv0"
      },
      "source": [
        "The most popular Ted Talk Author is Alex Gendler, where he has 45 ted talk speeches."
      ]
    },
    {
      "cell_type": "code",
      "execution_count": 22,
      "metadata": {
        "colab": {
          "base_uri": "https://localhost:8080/",
          "height": 1000
        },
        "id": "Q997wuNA0kIk",
        "outputId": "e1e5c719-c372-4019-b031-5c447ceddea8"
      },
      "outputs": [
        {
          "data": {
            "text/html": [
              "<div>\n",
              "<style scoped>\n",
              "    .dataframe tbody tr th:only-of-type {\n",
              "        vertical-align: middle;\n",
              "    }\n",
              "\n",
              "    .dataframe tbody tr th {\n",
              "        vertical-align: top;\n",
              "    }\n",
              "\n",
              "    .dataframe thead th {\n",
              "        text-align: right;\n",
              "    }\n",
              "</style>\n",
              "<table border=\"1\" class=\"dataframe\">\n",
              "  <thead>\n",
              "    <tr style=\"text-align: right;\">\n",
              "      <th></th>\n",
              "      <th>title</th>\n",
              "      <th>author</th>\n",
              "      <th>date</th>\n",
              "      <th>views</th>\n",
              "      <th>likes</th>\n",
              "      <th>link</th>\n",
              "      <th>year</th>\n",
              "      <th>month</th>\n",
              "    </tr>\n",
              "  </thead>\n",
              "  <tbody>\n",
              "    <tr>\n",
              "      <th>66</th>\n",
              "      <td>Blood, concrete, and dynamite: Building the Ho...</td>\n",
              "      <td>Alex Gendler</td>\n",
              "      <td>December 2021</td>\n",
              "      <td>724000</td>\n",
              "      <td>21000</td>\n",
              "      <td>https://ted.com/talks/alex_gendler_blood_concr...</td>\n",
              "      <td>2021</td>\n",
              "      <td>December</td>\n",
              "    </tr>\n",
              "    <tr>\n",
              "      <th>329</th>\n",
              "      <td>The woman who stared at the sun</td>\n",
              "      <td>Alex Gendler</td>\n",
              "      <td>May 2021</td>\n",
              "      <td>1900000</td>\n",
              "      <td>57000</td>\n",
              "      <td>https://ted.com/talks/alex_gendler_the_woman_w...</td>\n",
              "      <td>2021</td>\n",
              "      <td>May</td>\n",
              "    </tr>\n",
              "    <tr>\n",
              "      <th>348</th>\n",
              "      <td>How one design flaw almost toppled a skyscraper</td>\n",
              "      <td>Alex Gendler</td>\n",
              "      <td>May 2021</td>\n",
              "      <td>712000</td>\n",
              "      <td>21000</td>\n",
              "      <td>https://ted.com/talks/alex_gendler_how_one_des...</td>\n",
              "      <td>2021</td>\n",
              "      <td>May</td>\n",
              "    </tr>\n",
              "    <tr>\n",
              "      <th>358</th>\n",
              "      <td>Demolition, disease, and death: Building the P...</td>\n",
              "      <td>Alex Gendler</td>\n",
              "      <td>April 2021</td>\n",
              "      <td>724000</td>\n",
              "      <td>21000</td>\n",
              "      <td>https://ted.com/talks/alex_gendler_demolition_...</td>\n",
              "      <td>2021</td>\n",
              "      <td>April</td>\n",
              "    </tr>\n",
              "    <tr>\n",
              "      <th>367</th>\n",
              "      <td>How the world's tallest skyscraper was built</td>\n",
              "      <td>Alex Gendler</td>\n",
              "      <td>April 2021</td>\n",
              "      <td>770000</td>\n",
              "      <td>23000</td>\n",
              "      <td>https://ted.com/talks/alex_gendler_how_the_wor...</td>\n",
              "      <td>2021</td>\n",
              "      <td>April</td>\n",
              "    </tr>\n",
              "    <tr>\n",
              "      <th>372</th>\n",
              "      <td>Why are airplanes slower than they used to be?</td>\n",
              "      <td>Alex Gendler</td>\n",
              "      <td>April 2021</td>\n",
              "      <td>2200000</td>\n",
              "      <td>66000</td>\n",
              "      <td>https://ted.com/talks/alex_gendler_why_are_air...</td>\n",
              "      <td>2021</td>\n",
              "      <td>April</td>\n",
              "    </tr>\n",
              "    <tr>\n",
              "      <th>522</th>\n",
              "      <td>Building the world's largest (and most controv...</td>\n",
              "      <td>Alex Gendler</td>\n",
              "      <td>December 2020</td>\n",
              "      <td>810000</td>\n",
              "      <td>24000</td>\n",
              "      <td>https://ted.com/talks/alex_gendler_building_th...</td>\n",
              "      <td>2020</td>\n",
              "      <td>December</td>\n",
              "    </tr>\n",
              "    <tr>\n",
              "      <th>525</th>\n",
              "      <td>Can you solve the monster duel riddle?</td>\n",
              "      <td>Alex Gendler</td>\n",
              "      <td>December 2020</td>\n",
              "      <td>1800000</td>\n",
              "      <td>55000</td>\n",
              "      <td>https://ted.com/talks/alex_gendler_can_you_sol...</td>\n",
              "      <td>2020</td>\n",
              "      <td>December</td>\n",
              "    </tr>\n",
              "    <tr>\n",
              "      <th>548</th>\n",
              "      <td>Can you solve the Alice in Wonderland riddle?</td>\n",
              "      <td>Alex Gendler</td>\n",
              "      <td>November 2020</td>\n",
              "      <td>1600000</td>\n",
              "      <td>48000</td>\n",
              "      <td>https://ted.com/talks/alex_gendler_can_you_sol...</td>\n",
              "      <td>2020</td>\n",
              "      <td>November</td>\n",
              "    </tr>\n",
              "    <tr>\n",
              "      <th>757</th>\n",
              "      <td>The Egyptian myth of the death of Osiris</td>\n",
              "      <td>Alex Gendler</td>\n",
              "      <td>July 2020</td>\n",
              "      <td>2500000</td>\n",
              "      <td>77000</td>\n",
              "      <td>https://ted.com/talks/alex_gendler_the_egyptia...</td>\n",
              "      <td>2020</td>\n",
              "      <td>July</td>\n",
              "    </tr>\n",
              "    <tr>\n",
              "      <th>827</th>\n",
              "      <td>Which voting system is the best?</td>\n",
              "      <td>Alex Gendler</td>\n",
              "      <td>June 2020</td>\n",
              "      <td>856000</td>\n",
              "      <td>25000</td>\n",
              "      <td>https://ted.com/talks/alex_gendler_which_votin...</td>\n",
              "      <td>2020</td>\n",
              "      <td>June</td>\n",
              "    </tr>\n",
              "    <tr>\n",
              "      <th>864</th>\n",
              "      <td>How do ventilators work?</td>\n",
              "      <td>Alex Gendler</td>\n",
              "      <td>May 2020</td>\n",
              "      <td>2300000</td>\n",
              "      <td>70000</td>\n",
              "      <td>https://ted.com/talks/alex_gendler_how_do_vent...</td>\n",
              "      <td>2020</td>\n",
              "      <td>May</td>\n",
              "    </tr>\n",
              "    <tr>\n",
              "      <th>943</th>\n",
              "      <td>How the world's longest underwater tunnel was ...</td>\n",
              "      <td>Alex Gendler</td>\n",
              "      <td>March 2020</td>\n",
              "      <td>2800000</td>\n",
              "      <td>85000</td>\n",
              "      <td>https://ted.com/talks/alex_gendler_how_the_wor...</td>\n",
              "      <td>2020</td>\n",
              "      <td>March</td>\n",
              "    </tr>\n",
              "    <tr>\n",
              "      <th>988</th>\n",
              "      <td>Can you solve the death race riddle?</td>\n",
              "      <td>Alex Gendler</td>\n",
              "      <td>March 2020</td>\n",
              "      <td>1400000</td>\n",
              "      <td>42000</td>\n",
              "      <td>https://ted.com/talks/alex_gendler_can_you_sol...</td>\n",
              "      <td>2020</td>\n",
              "      <td>March</td>\n",
              "    </tr>\n",
              "    <tr>\n",
              "      <th>990</th>\n",
              "      <td>The Egyptian myth of Isis and the seven scorpions</td>\n",
              "      <td>Alex Gendler</td>\n",
              "      <td>March 2020</td>\n",
              "      <td>2000000</td>\n",
              "      <td>60000</td>\n",
              "      <td>https://ted.com/talks/alex_gendler_the_egyptia...</td>\n",
              "      <td>2020</td>\n",
              "      <td>March</td>\n",
              "    </tr>\n",
              "    <tr>\n",
              "      <th>1026</th>\n",
              "      <td>Epic Engineering: Building the Brooklyn Bridge</td>\n",
              "      <td>Alex Gendler</td>\n",
              "      <td>February 2020</td>\n",
              "      <td>1200000</td>\n",
              "      <td>36000</td>\n",
              "      <td>https://ted.com/talks/alex_gendler_epic_engine...</td>\n",
              "      <td>2020</td>\n",
              "      <td>February</td>\n",
              "    </tr>\n",
              "    <tr>\n",
              "      <th>1041</th>\n",
              "      <td>Everything changed when the fire crystal got s...</td>\n",
              "      <td>Alex Gendler</td>\n",
              "      <td>February 2020</td>\n",
              "      <td>1800000</td>\n",
              "      <td>56000</td>\n",
              "      <td>https://ted.com/talks/alex_gendler_everything_...</td>\n",
              "      <td>2020</td>\n",
              "      <td>February</td>\n",
              "    </tr>\n",
              "    <tr>\n",
              "      <th>1093</th>\n",
              "      <td>Can you solve the dragon jousting riddle?</td>\n",
              "      <td>Alex Gendler</td>\n",
              "      <td>January 2020</td>\n",
              "      <td>2200000</td>\n",
              "      <td>66000</td>\n",
              "      <td>https://ted.com/talks/alex_gendler_can_you_sol...</td>\n",
              "      <td>2020</td>\n",
              "      <td>January</td>\n",
              "    </tr>\n",
              "    <tr>\n",
              "      <th>1137</th>\n",
              "      <td>Why doesn't the Leaning Tower of Pisa fall over?</td>\n",
              "      <td>Alex Gendler</td>\n",
              "      <td>December 2019</td>\n",
              "      <td>4600000</td>\n",
              "      <td>139000</td>\n",
              "      <td>https://ted.com/talks/alex_gendler_why_doesn_t...</td>\n",
              "      <td>2019</td>\n",
              "      <td>December</td>\n",
              "    </tr>\n",
              "    <tr>\n",
              "      <th>1146</th>\n",
              "      <td>Can you outsmart this logical fallacy?</td>\n",
              "      <td>Alex Gendler</td>\n",
              "      <td>November 2019</td>\n",
              "      <td>1800000</td>\n",
              "      <td>55000</td>\n",
              "      <td>https://ted.com/talks/alex_gendler_can_you_out...</td>\n",
              "      <td>2019</td>\n",
              "      <td>November</td>\n",
              "    </tr>\n",
              "    <tr>\n",
              "      <th>1165</th>\n",
              "      <td>The myth of Loki and the master builder</td>\n",
              "      <td>Alex Gendler</td>\n",
              "      <td>November 2019</td>\n",
              "      <td>2100000</td>\n",
              "      <td>63000</td>\n",
              "      <td>https://ted.com/talks/alex_gendler_the_myth_of...</td>\n",
              "      <td>2019</td>\n",
              "      <td>November</td>\n",
              "    </tr>\n",
              "    <tr>\n",
              "      <th>1285</th>\n",
              "      <td>Can you solve the secret sauce riddle?</td>\n",
              "      <td>Alex Gendler</td>\n",
              "      <td>September 2019</td>\n",
              "      <td>2400000</td>\n",
              "      <td>74000</td>\n",
              "      <td>https://ted.com/talks/alex_gendler_can_you_sol...</td>\n",
              "      <td>2019</td>\n",
              "      <td>September</td>\n",
              "    </tr>\n",
              "    <tr>\n",
              "      <th>1289</th>\n",
              "      <td>A brief history of chess</td>\n",
              "      <td>Alex Gendler</td>\n",
              "      <td>September 2019</td>\n",
              "      <td>6900000</td>\n",
              "      <td>209000</td>\n",
              "      <td>https://ted.com/talks/alex_gendler_a_brief_his...</td>\n",
              "      <td>2019</td>\n",
              "      <td>September</td>\n",
              "    </tr>\n",
              "    <tr>\n",
              "      <th>1317</th>\n",
              "      <td>A day in the life of a Cossack warrior</td>\n",
              "      <td>Alex Gendler</td>\n",
              "      <td>August 2019</td>\n",
              "      <td>596000</td>\n",
              "      <td>17000</td>\n",
              "      <td>https://ted.com/talks/alex_gendler_a_day_in_th...</td>\n",
              "      <td>2019</td>\n",
              "      <td>August</td>\n",
              "    </tr>\n",
              "    <tr>\n",
              "      <th>1441</th>\n",
              "      <td>Why should you read \"The Master and Margarita\"?</td>\n",
              "      <td>Alex Gendler</td>\n",
              "      <td>May 2019</td>\n",
              "      <td>582000</td>\n",
              "      <td>17000</td>\n",
              "      <td>https://ted.com/talks/alex_gendler_why_should_...</td>\n",
              "      <td>2019</td>\n",
              "      <td>May</td>\n",
              "    </tr>\n",
              "    <tr>\n",
              "      <th>1480</th>\n",
              "      <td>Why should you read \"Crime and Punishment\"?</td>\n",
              "      <td>Alex Gendler</td>\n",
              "      <td>May 2019</td>\n",
              "      <td>2800000</td>\n",
              "      <td>86000</td>\n",
              "      <td>https://ted.com/talks/alex_gendler_why_should_...</td>\n",
              "      <td>2019</td>\n",
              "      <td>May</td>\n",
              "    </tr>\n",
              "    <tr>\n",
              "      <th>1700</th>\n",
              "      <td>Can you solve the multiplying rabbits riddle?</td>\n",
              "      <td>Alex Gendler</td>\n",
              "      <td>January 2019</td>\n",
              "      <td>2900000</td>\n",
              "      <td>89000</td>\n",
              "      <td>https://ted.com/talks/alex_gendler_can_you_sol...</td>\n",
              "      <td>2019</td>\n",
              "      <td>January</td>\n",
              "    </tr>\n",
              "    <tr>\n",
              "      <th>1763</th>\n",
              "      <td>Can you solve the giant iron riddle?</td>\n",
              "      <td>Alex Gendler</td>\n",
              "      <td>November 2018</td>\n",
              "      <td>2200000</td>\n",
              "      <td>67000</td>\n",
              "      <td>https://ted.com/talks/alex_gendler_can_you_sol...</td>\n",
              "      <td>2018</td>\n",
              "      <td>November</td>\n",
              "    </tr>\n",
              "    <tr>\n",
              "      <th>1788</th>\n",
              "      <td>The myth of Sisyphus</td>\n",
              "      <td>Alex Gendler</td>\n",
              "      <td>November 2018</td>\n",
              "      <td>6100000</td>\n",
              "      <td>184000</td>\n",
              "      <td>https://ted.com/talks/alex_gendler_the_myth_of...</td>\n",
              "      <td>2018</td>\n",
              "      <td>November</td>\n",
              "    </tr>\n",
              "    <tr>\n",
              "      <th>1871</th>\n",
              "      <td>The myth of Hercules</td>\n",
              "      <td>Alex Gendler</td>\n",
              "      <td>September 2018</td>\n",
              "      <td>6000000</td>\n",
              "      <td>182000</td>\n",
              "      <td>https://ted.com/talks/alex_gendler_the_myth_of...</td>\n",
              "      <td>2018</td>\n",
              "      <td>September</td>\n",
              "    </tr>\n",
              "    <tr>\n",
              "      <th>1910</th>\n",
              "      <td>How does impeachment work?</td>\n",
              "      <td>Alex Gendler</td>\n",
              "      <td>August 2017</td>\n",
              "      <td>1900000</td>\n",
              "      <td>59000</td>\n",
              "      <td>https://ted.com/talks/alex_gendler_how_does_im...</td>\n",
              "      <td>2017</td>\n",
              "      <td>August</td>\n",
              "    </tr>\n",
              "    <tr>\n",
              "      <th>1923</th>\n",
              "      <td>Can you solve the rebel supplies riddle?</td>\n",
              "      <td>Alex Gendler</td>\n",
              "      <td>September 2018</td>\n",
              "      <td>2300000</td>\n",
              "      <td>70000</td>\n",
              "      <td>https://ted.com/talks/alex_gendler_can_you_sol...</td>\n",
              "      <td>2018</td>\n",
              "      <td>September</td>\n",
              "    </tr>\n",
              "    <tr>\n",
              "      <th>2597</th>\n",
              "      <td>Can you solve the pirate riddle?</td>\n",
              "      <td>Alex Gendler</td>\n",
              "      <td>May 2017</td>\n",
              "      <td>9100000</td>\n",
              "      <td>274000</td>\n",
              "      <td>https://ted.com/talks/alex_gendler_can_you_sol...</td>\n",
              "      <td>2017</td>\n",
              "      <td>May</td>\n",
              "    </tr>\n",
              "    <tr>\n",
              "      <th>2664</th>\n",
              "      <td>Can you solve the three gods riddle?</td>\n",
              "      <td>Alex Gendler</td>\n",
              "      <td>February 2017</td>\n",
              "      <td>11000000</td>\n",
              "      <td>341000</td>\n",
              "      <td>https://ted.com/talks/alex_gendler_can_you_sol...</td>\n",
              "      <td>2017</td>\n",
              "      <td>February</td>\n",
              "    </tr>\n",
              "    <tr>\n",
              "      <th>2990</th>\n",
              "      <td>History vs. Napoleon Bonaparte</td>\n",
              "      <td>Alex Gendler</td>\n",
              "      <td>February 2016</td>\n",
              "      <td>4500000</td>\n",
              "      <td>136000</td>\n",
              "      <td>https://ted.com/talks/alex_gendler_history_vs_...</td>\n",
              "      <td>2016</td>\n",
              "      <td>February</td>\n",
              "    </tr>\n",
              "    <tr>\n",
              "      <th>3107</th>\n",
              "      <td>Can you solve the prisoner hat riddle?</td>\n",
              "      <td>Alex Gendler</td>\n",
              "      <td>October 2015</td>\n",
              "      <td>24000000</td>\n",
              "      <td>723000</td>\n",
              "      <td>https://ted.com/talks/alex_gendler_can_you_sol...</td>\n",
              "      <td>2015</td>\n",
              "      <td>October</td>\n",
              "    </tr>\n",
              "    <tr>\n",
              "      <th>3146</th>\n",
              "      <td>Can you solve the bridge riddle?</td>\n",
              "      <td>Alex Gendler</td>\n",
              "      <td>September 2015</td>\n",
              "      <td>19000000</td>\n",
              "      <td>590000</td>\n",
              "      <td>https://ted.com/talks/alex_gendler_can_you_sol...</td>\n",
              "      <td>2015</td>\n",
              "      <td>September</td>\n",
              "    </tr>\n",
              "    <tr>\n",
              "      <th>3193</th>\n",
              "      <td>Can you solve the famously difficult green-eye...</td>\n",
              "      <td>Alex Gendler</td>\n",
              "      <td>June 2015</td>\n",
              "      <td>13000000</td>\n",
              "      <td>406000</td>\n",
              "      <td>https://ted.com/talks/alex_gendler_can_you_sol...</td>\n",
              "      <td>2015</td>\n",
              "      <td>June</td>\n",
              "    </tr>\n",
              "    <tr>\n",
              "      <th>3220</th>\n",
              "      <td>The wars that inspired Game of Thrones</td>\n",
              "      <td>Alex Gendler</td>\n",
              "      <td>May 2015</td>\n",
              "      <td>5800000</td>\n",
              "      <td>174000</td>\n",
              "      <td>https://ted.com/talks/alex_gendler_the_wars_th...</td>\n",
              "      <td>2015</td>\n",
              "      <td>May</td>\n",
              "    </tr>\n",
              "    <tr>\n",
              "      <th>3325</th>\n",
              "      <td>What is a gift economy?</td>\n",
              "      <td>Alex Gendler</td>\n",
              "      <td>December 2014</td>\n",
              "      <td>422000</td>\n",
              "      <td>12000</td>\n",
              "      <td>https://ted.com/talks/alex_gendler_what_is_a_g...</td>\n",
              "      <td>2014</td>\n",
              "      <td>December</td>\n",
              "    </tr>\n",
              "    <tr>\n",
              "      <th>3387</th>\n",
              "      <td>Why elephants never forget</td>\n",
              "      <td>Alex Gendler</td>\n",
              "      <td>November 2014</td>\n",
              "      <td>8000000</td>\n",
              "      <td>242000</td>\n",
              "      <td>https://ted.com/talks/alex_gendler_why_elephan...</td>\n",
              "      <td>2014</td>\n",
              "      <td>November</td>\n",
              "    </tr>\n",
              "    <tr>\n",
              "      <th>3416</th>\n",
              "      <td>History vs. Christopher Columbus</td>\n",
              "      <td>Alex Gendler</td>\n",
              "      <td>October 2014</td>\n",
              "      <td>4200000</td>\n",
              "      <td>126000</td>\n",
              "      <td>https://ted.com/talks/alex_gendler_history_vs_...</td>\n",
              "      <td>2014</td>\n",
              "      <td>October</td>\n",
              "    </tr>\n",
              "    <tr>\n",
              "      <th>3559</th>\n",
              "      <td>How tsunamis work</td>\n",
              "      <td>Alex Gendler</td>\n",
              "      <td>April 2014</td>\n",
              "      <td>7600000</td>\n",
              "      <td>228000</td>\n",
              "      <td>https://ted.com/talks/alex_gendler_how_tsunami...</td>\n",
              "      <td>2014</td>\n",
              "      <td>April</td>\n",
              "    </tr>\n",
              "    <tr>\n",
              "      <th>3610</th>\n",
              "      <td>Why do we cry? The three types of tears</td>\n",
              "      <td>Alex Gendler</td>\n",
              "      <td>February 2014</td>\n",
              "      <td>6500000</td>\n",
              "      <td>196000</td>\n",
              "      <td>https://ted.com/talks/alex_gendler_why_do_we_c...</td>\n",
              "      <td>2014</td>\n",
              "      <td>February</td>\n",
              "    </tr>\n",
              "    <tr>\n",
              "      <th>3812</th>\n",
              "      <td>Myths and misconceptions about evolution</td>\n",
              "      <td>Alex Gendler</td>\n",
              "      <td>July 2013</td>\n",
              "      <td>2600000</td>\n",
              "      <td>79000</td>\n",
              "      <td>https://ted.com/talks/alex_gendler_myths_and_m...</td>\n",
              "      <td>2013</td>\n",
              "      <td>July</td>\n",
              "    </tr>\n",
              "  </tbody>\n",
              "</table>\n",
              "</div>"
            ],
            "text/plain": [
              "                                                  title        author  \\\n",
              "66    Blood, concrete, and dynamite: Building the Ho...  Alex Gendler   \n",
              "329                     The woman who stared at the sun  Alex Gendler   \n",
              "348     How one design flaw almost toppled a skyscraper  Alex Gendler   \n",
              "358   Demolition, disease, and death: Building the P...  Alex Gendler   \n",
              "367        How the world's tallest skyscraper was built  Alex Gendler   \n",
              "372      Why are airplanes slower than they used to be?  Alex Gendler   \n",
              "522   Building the world's largest (and most controv...  Alex Gendler   \n",
              "525              Can you solve the monster duel riddle?  Alex Gendler   \n",
              "548       Can you solve the Alice in Wonderland riddle?  Alex Gendler   \n",
              "757            The Egyptian myth of the death of Osiris  Alex Gendler   \n",
              "827                    Which voting system is the best?  Alex Gendler   \n",
              "864                            How do ventilators work?  Alex Gendler   \n",
              "943   How the world's longest underwater tunnel was ...  Alex Gendler   \n",
              "988                Can you solve the death race riddle?  Alex Gendler   \n",
              "990   The Egyptian myth of Isis and the seven scorpions  Alex Gendler   \n",
              "1026    Epic Engineering: Building the Brooklyn Bridge   Alex Gendler   \n",
              "1041  Everything changed when the fire crystal got s...  Alex Gendler   \n",
              "1093          Can you solve the dragon jousting riddle?  Alex Gendler   \n",
              "1137   Why doesn't the Leaning Tower of Pisa fall over?  Alex Gendler   \n",
              "1146             Can you outsmart this logical fallacy?  Alex Gendler   \n",
              "1165            The myth of Loki and the master builder  Alex Gendler   \n",
              "1285             Can you solve the secret sauce riddle?  Alex Gendler   \n",
              "1289                           A brief history of chess  Alex Gendler   \n",
              "1317             A day in the life of a Cossack warrior  Alex Gendler   \n",
              "1441    Why should you read \"The Master and Margarita\"?  Alex Gendler   \n",
              "1480        Why should you read \"Crime and Punishment\"?  Alex Gendler   \n",
              "1700      Can you solve the multiplying rabbits riddle?  Alex Gendler   \n",
              "1763              Can you solve the giant iron riddle?   Alex Gendler   \n",
              "1788                               The myth of Sisyphus  Alex Gendler   \n",
              "1871                               The myth of Hercules  Alex Gendler   \n",
              "1910                         How does impeachment work?  Alex Gendler   \n",
              "1923           Can you solve the rebel supplies riddle?  Alex Gendler   \n",
              "2597                   Can you solve the pirate riddle?  Alex Gendler   \n",
              "2664               Can you solve the three gods riddle?  Alex Gendler   \n",
              "2990                     History vs. Napoleon Bonaparte  Alex Gendler   \n",
              "3107             Can you solve the prisoner hat riddle?  Alex Gendler   \n",
              "3146                   Can you solve the bridge riddle?  Alex Gendler   \n",
              "3193  Can you solve the famously difficult green-eye...  Alex Gendler   \n",
              "3220             The wars that inspired Game of Thrones  Alex Gendler   \n",
              "3325                            What is a gift economy?  Alex Gendler   \n",
              "3387                         Why elephants never forget  Alex Gendler   \n",
              "3416                   History vs. Christopher Columbus  Alex Gendler   \n",
              "3559                                  How tsunamis work  Alex Gendler   \n",
              "3610            Why do we cry? The three types of tears  Alex Gendler   \n",
              "3812           Myths and misconceptions about evolution  Alex Gendler   \n",
              "\n",
              "                date     views   likes  \\\n",
              "66     December 2021    724000   21000   \n",
              "329         May 2021   1900000   57000   \n",
              "348         May 2021    712000   21000   \n",
              "358       April 2021    724000   21000   \n",
              "367       April 2021    770000   23000   \n",
              "372       April 2021   2200000   66000   \n",
              "522    December 2020    810000   24000   \n",
              "525    December 2020   1800000   55000   \n",
              "548    November 2020   1600000   48000   \n",
              "757        July 2020   2500000   77000   \n",
              "827        June 2020    856000   25000   \n",
              "864         May 2020   2300000   70000   \n",
              "943       March 2020   2800000   85000   \n",
              "988       March 2020   1400000   42000   \n",
              "990       March 2020   2000000   60000   \n",
              "1026   February 2020   1200000   36000   \n",
              "1041   February 2020   1800000   56000   \n",
              "1093    January 2020   2200000   66000   \n",
              "1137   December 2019   4600000  139000   \n",
              "1146   November 2019   1800000   55000   \n",
              "1165   November 2019   2100000   63000   \n",
              "1285  September 2019   2400000   74000   \n",
              "1289  September 2019   6900000  209000   \n",
              "1317     August 2019    596000   17000   \n",
              "1441        May 2019    582000   17000   \n",
              "1480        May 2019   2800000   86000   \n",
              "1700    January 2019   2900000   89000   \n",
              "1763   November 2018   2200000   67000   \n",
              "1788   November 2018   6100000  184000   \n",
              "1871  September 2018   6000000  182000   \n",
              "1910     August 2017   1900000   59000   \n",
              "1923  September 2018   2300000   70000   \n",
              "2597        May 2017   9100000  274000   \n",
              "2664   February 2017  11000000  341000   \n",
              "2990   February 2016   4500000  136000   \n",
              "3107    October 2015  24000000  723000   \n",
              "3146  September 2015  19000000  590000   \n",
              "3193       June 2015  13000000  406000   \n",
              "3220        May 2015   5800000  174000   \n",
              "3325   December 2014    422000   12000   \n",
              "3387   November 2014   8000000  242000   \n",
              "3416    October 2014   4200000  126000   \n",
              "3559      April 2014   7600000  228000   \n",
              "3610   February 2014   6500000  196000   \n",
              "3812       July 2013   2600000   79000   \n",
              "\n",
              "                                                   link  year      month  \n",
              "66    https://ted.com/talks/alex_gendler_blood_concr...  2021   December  \n",
              "329   https://ted.com/talks/alex_gendler_the_woman_w...  2021        May  \n",
              "348   https://ted.com/talks/alex_gendler_how_one_des...  2021        May  \n",
              "358   https://ted.com/talks/alex_gendler_demolition_...  2021      April  \n",
              "367   https://ted.com/talks/alex_gendler_how_the_wor...  2021      April  \n",
              "372   https://ted.com/talks/alex_gendler_why_are_air...  2021      April  \n",
              "522   https://ted.com/talks/alex_gendler_building_th...  2020   December  \n",
              "525   https://ted.com/talks/alex_gendler_can_you_sol...  2020   December  \n",
              "548   https://ted.com/talks/alex_gendler_can_you_sol...  2020   November  \n",
              "757   https://ted.com/talks/alex_gendler_the_egyptia...  2020       July  \n",
              "827   https://ted.com/talks/alex_gendler_which_votin...  2020       June  \n",
              "864   https://ted.com/talks/alex_gendler_how_do_vent...  2020        May  \n",
              "943   https://ted.com/talks/alex_gendler_how_the_wor...  2020      March  \n",
              "988   https://ted.com/talks/alex_gendler_can_you_sol...  2020      March  \n",
              "990   https://ted.com/talks/alex_gendler_the_egyptia...  2020      March  \n",
              "1026  https://ted.com/talks/alex_gendler_epic_engine...  2020   February  \n",
              "1041  https://ted.com/talks/alex_gendler_everything_...  2020   February  \n",
              "1093  https://ted.com/talks/alex_gendler_can_you_sol...  2020    January  \n",
              "1137  https://ted.com/talks/alex_gendler_why_doesn_t...  2019   December  \n",
              "1146  https://ted.com/talks/alex_gendler_can_you_out...  2019   November  \n",
              "1165  https://ted.com/talks/alex_gendler_the_myth_of...  2019   November  \n",
              "1285  https://ted.com/talks/alex_gendler_can_you_sol...  2019  September  \n",
              "1289  https://ted.com/talks/alex_gendler_a_brief_his...  2019  September  \n",
              "1317  https://ted.com/talks/alex_gendler_a_day_in_th...  2019     August  \n",
              "1441  https://ted.com/talks/alex_gendler_why_should_...  2019        May  \n",
              "1480  https://ted.com/talks/alex_gendler_why_should_...  2019        May  \n",
              "1700  https://ted.com/talks/alex_gendler_can_you_sol...  2019    January  \n",
              "1763  https://ted.com/talks/alex_gendler_can_you_sol...  2018   November  \n",
              "1788  https://ted.com/talks/alex_gendler_the_myth_of...  2018   November  \n",
              "1871  https://ted.com/talks/alex_gendler_the_myth_of...  2018  September  \n",
              "1910  https://ted.com/talks/alex_gendler_how_does_im...  2017     August  \n",
              "1923  https://ted.com/talks/alex_gendler_can_you_sol...  2018  September  \n",
              "2597  https://ted.com/talks/alex_gendler_can_you_sol...  2017        May  \n",
              "2664  https://ted.com/talks/alex_gendler_can_you_sol...  2017   February  \n",
              "2990  https://ted.com/talks/alex_gendler_history_vs_...  2016   February  \n",
              "3107  https://ted.com/talks/alex_gendler_can_you_sol...  2015    October  \n",
              "3146  https://ted.com/talks/alex_gendler_can_you_sol...  2015  September  \n",
              "3193  https://ted.com/talks/alex_gendler_can_you_sol...  2015       June  \n",
              "3220  https://ted.com/talks/alex_gendler_the_wars_th...  2015        May  \n",
              "3325  https://ted.com/talks/alex_gendler_what_is_a_g...  2014   December  \n",
              "3387  https://ted.com/talks/alex_gendler_why_elephan...  2014   November  \n",
              "3416  https://ted.com/talks/alex_gendler_history_vs_...  2014    October  \n",
              "3559  https://ted.com/talks/alex_gendler_how_tsunami...  2014      April  \n",
              "3610  https://ted.com/talks/alex_gendler_why_do_we_c...  2014   February  \n",
              "3812  https://ted.com/talks/alex_gendler_myths_and_m...  2013       July  "
            ]
          },
          "execution_count": 22,
          "metadata": {},
          "output_type": "execute_result"
        }
      ],
      "source": [
        "alex_df = df[df['author'] == 'Alex Gendler']\n",
        "alex_df"
      ]
    },
    {
      "cell_type": "code",
      "execution_count": 23,
      "metadata": {
        "colab": {
          "base_uri": "https://localhost:8080/",
          "height": 1000
        },
        "id": "sdp3JfL6JQsE",
        "outputId": "1a0ad1a1-0e77-47ba-d154-e0e0d666e19d"
      },
      "outputs": [
        {
          "data": {
            "text/html": [
              "<div>\n",
              "<style scoped>\n",
              "    .dataframe tbody tr th:only-of-type {\n",
              "        vertical-align: middle;\n",
              "    }\n",
              "\n",
              "    .dataframe tbody tr th {\n",
              "        vertical-align: top;\n",
              "    }\n",
              "\n",
              "    .dataframe thead th {\n",
              "        text-align: right;\n",
              "    }\n",
              "</style>\n",
              "<table border=\"1\" class=\"dataframe\">\n",
              "  <thead>\n",
              "    <tr style=\"text-align: right;\">\n",
              "      <th></th>\n",
              "      <th>title</th>\n",
              "      <th>author</th>\n",
              "      <th>date</th>\n",
              "      <th>views</th>\n",
              "      <th>likes</th>\n",
              "      <th>link</th>\n",
              "      <th>year</th>\n",
              "      <th>month</th>\n",
              "    </tr>\n",
              "  </thead>\n",
              "  <tbody>\n",
              "    <tr>\n",
              "      <th>3812</th>\n",
              "      <td>Myths and misconceptions about evolution</td>\n",
              "      <td>Alex Gendler</td>\n",
              "      <td>July 2013</td>\n",
              "      <td>2600000</td>\n",
              "      <td>79000</td>\n",
              "      <td>https://ted.com/talks/alex_gendler_myths_and_m...</td>\n",
              "      <td>2013</td>\n",
              "      <td>July</td>\n",
              "    </tr>\n",
              "    <tr>\n",
              "      <th>3325</th>\n",
              "      <td>What is a gift economy?</td>\n",
              "      <td>Alex Gendler</td>\n",
              "      <td>December 2014</td>\n",
              "      <td>422000</td>\n",
              "      <td>12000</td>\n",
              "      <td>https://ted.com/talks/alex_gendler_what_is_a_g...</td>\n",
              "      <td>2014</td>\n",
              "      <td>December</td>\n",
              "    </tr>\n",
              "    <tr>\n",
              "      <th>3387</th>\n",
              "      <td>Why elephants never forget</td>\n",
              "      <td>Alex Gendler</td>\n",
              "      <td>November 2014</td>\n",
              "      <td>8000000</td>\n",
              "      <td>242000</td>\n",
              "      <td>https://ted.com/talks/alex_gendler_why_elephan...</td>\n",
              "      <td>2014</td>\n",
              "      <td>November</td>\n",
              "    </tr>\n",
              "    <tr>\n",
              "      <th>3610</th>\n",
              "      <td>Why do we cry? The three types of tears</td>\n",
              "      <td>Alex Gendler</td>\n",
              "      <td>February 2014</td>\n",
              "      <td>6500000</td>\n",
              "      <td>196000</td>\n",
              "      <td>https://ted.com/talks/alex_gendler_why_do_we_c...</td>\n",
              "      <td>2014</td>\n",
              "      <td>February</td>\n",
              "    </tr>\n",
              "    <tr>\n",
              "      <th>3559</th>\n",
              "      <td>How tsunamis work</td>\n",
              "      <td>Alex Gendler</td>\n",
              "      <td>April 2014</td>\n",
              "      <td>7600000</td>\n",
              "      <td>228000</td>\n",
              "      <td>https://ted.com/talks/alex_gendler_how_tsunami...</td>\n",
              "      <td>2014</td>\n",
              "      <td>April</td>\n",
              "    </tr>\n",
              "    <tr>\n",
              "      <th>3416</th>\n",
              "      <td>History vs. Christopher Columbus</td>\n",
              "      <td>Alex Gendler</td>\n",
              "      <td>October 2014</td>\n",
              "      <td>4200000</td>\n",
              "      <td>126000</td>\n",
              "      <td>https://ted.com/talks/alex_gendler_history_vs_...</td>\n",
              "      <td>2014</td>\n",
              "      <td>October</td>\n",
              "    </tr>\n",
              "    <tr>\n",
              "      <th>3220</th>\n",
              "      <td>The wars that inspired Game of Thrones</td>\n",
              "      <td>Alex Gendler</td>\n",
              "      <td>May 2015</td>\n",
              "      <td>5800000</td>\n",
              "      <td>174000</td>\n",
              "      <td>https://ted.com/talks/alex_gendler_the_wars_th...</td>\n",
              "      <td>2015</td>\n",
              "      <td>May</td>\n",
              "    </tr>\n",
              "    <tr>\n",
              "      <th>3193</th>\n",
              "      <td>Can you solve the famously difficult green-eye...</td>\n",
              "      <td>Alex Gendler</td>\n",
              "      <td>June 2015</td>\n",
              "      <td>13000000</td>\n",
              "      <td>406000</td>\n",
              "      <td>https://ted.com/talks/alex_gendler_can_you_sol...</td>\n",
              "      <td>2015</td>\n",
              "      <td>June</td>\n",
              "    </tr>\n",
              "    <tr>\n",
              "      <th>3146</th>\n",
              "      <td>Can you solve the bridge riddle?</td>\n",
              "      <td>Alex Gendler</td>\n",
              "      <td>September 2015</td>\n",
              "      <td>19000000</td>\n",
              "      <td>590000</td>\n",
              "      <td>https://ted.com/talks/alex_gendler_can_you_sol...</td>\n",
              "      <td>2015</td>\n",
              "      <td>September</td>\n",
              "    </tr>\n",
              "    <tr>\n",
              "      <th>3107</th>\n",
              "      <td>Can you solve the prisoner hat riddle?</td>\n",
              "      <td>Alex Gendler</td>\n",
              "      <td>October 2015</td>\n",
              "      <td>24000000</td>\n",
              "      <td>723000</td>\n",
              "      <td>https://ted.com/talks/alex_gendler_can_you_sol...</td>\n",
              "      <td>2015</td>\n",
              "      <td>October</td>\n",
              "    </tr>\n",
              "    <tr>\n",
              "      <th>2990</th>\n",
              "      <td>History vs. Napoleon Bonaparte</td>\n",
              "      <td>Alex Gendler</td>\n",
              "      <td>February 2016</td>\n",
              "      <td>4500000</td>\n",
              "      <td>136000</td>\n",
              "      <td>https://ted.com/talks/alex_gendler_history_vs_...</td>\n",
              "      <td>2016</td>\n",
              "      <td>February</td>\n",
              "    </tr>\n",
              "    <tr>\n",
              "      <th>1910</th>\n",
              "      <td>How does impeachment work?</td>\n",
              "      <td>Alex Gendler</td>\n",
              "      <td>August 2017</td>\n",
              "      <td>1900000</td>\n",
              "      <td>59000</td>\n",
              "      <td>https://ted.com/talks/alex_gendler_how_does_im...</td>\n",
              "      <td>2017</td>\n",
              "      <td>August</td>\n",
              "    </tr>\n",
              "    <tr>\n",
              "      <th>2664</th>\n",
              "      <td>Can you solve the three gods riddle?</td>\n",
              "      <td>Alex Gendler</td>\n",
              "      <td>February 2017</td>\n",
              "      <td>11000000</td>\n",
              "      <td>341000</td>\n",
              "      <td>https://ted.com/talks/alex_gendler_can_you_sol...</td>\n",
              "      <td>2017</td>\n",
              "      <td>February</td>\n",
              "    </tr>\n",
              "    <tr>\n",
              "      <th>2597</th>\n",
              "      <td>Can you solve the pirate riddle?</td>\n",
              "      <td>Alex Gendler</td>\n",
              "      <td>May 2017</td>\n",
              "      <td>9100000</td>\n",
              "      <td>274000</td>\n",
              "      <td>https://ted.com/talks/alex_gendler_can_you_sol...</td>\n",
              "      <td>2017</td>\n",
              "      <td>May</td>\n",
              "    </tr>\n",
              "    <tr>\n",
              "      <th>1871</th>\n",
              "      <td>The myth of Hercules</td>\n",
              "      <td>Alex Gendler</td>\n",
              "      <td>September 2018</td>\n",
              "      <td>6000000</td>\n",
              "      <td>182000</td>\n",
              "      <td>https://ted.com/talks/alex_gendler_the_myth_of...</td>\n",
              "      <td>2018</td>\n",
              "      <td>September</td>\n",
              "    </tr>\n",
              "    <tr>\n",
              "      <th>1788</th>\n",
              "      <td>The myth of Sisyphus</td>\n",
              "      <td>Alex Gendler</td>\n",
              "      <td>November 2018</td>\n",
              "      <td>6100000</td>\n",
              "      <td>184000</td>\n",
              "      <td>https://ted.com/talks/alex_gendler_the_myth_of...</td>\n",
              "      <td>2018</td>\n",
              "      <td>November</td>\n",
              "    </tr>\n",
              "    <tr>\n",
              "      <th>1763</th>\n",
              "      <td>Can you solve the giant iron riddle?</td>\n",
              "      <td>Alex Gendler</td>\n",
              "      <td>November 2018</td>\n",
              "      <td>2200000</td>\n",
              "      <td>67000</td>\n",
              "      <td>https://ted.com/talks/alex_gendler_can_you_sol...</td>\n",
              "      <td>2018</td>\n",
              "      <td>November</td>\n",
              "    </tr>\n",
              "    <tr>\n",
              "      <th>1923</th>\n",
              "      <td>Can you solve the rebel supplies riddle?</td>\n",
              "      <td>Alex Gendler</td>\n",
              "      <td>September 2018</td>\n",
              "      <td>2300000</td>\n",
              "      <td>70000</td>\n",
              "      <td>https://ted.com/talks/alex_gendler_can_you_sol...</td>\n",
              "      <td>2018</td>\n",
              "      <td>September</td>\n",
              "    </tr>\n",
              "    <tr>\n",
              "      <th>1317</th>\n",
              "      <td>A day in the life of a Cossack warrior</td>\n",
              "      <td>Alex Gendler</td>\n",
              "      <td>August 2019</td>\n",
              "      <td>596000</td>\n",
              "      <td>17000</td>\n",
              "      <td>https://ted.com/talks/alex_gendler_a_day_in_th...</td>\n",
              "      <td>2019</td>\n",
              "      <td>August</td>\n",
              "    </tr>\n",
              "    <tr>\n",
              "      <th>1700</th>\n",
              "      <td>Can you solve the multiplying rabbits riddle?</td>\n",
              "      <td>Alex Gendler</td>\n",
              "      <td>January 2019</td>\n",
              "      <td>2900000</td>\n",
              "      <td>89000</td>\n",
              "      <td>https://ted.com/talks/alex_gendler_can_you_sol...</td>\n",
              "      <td>2019</td>\n",
              "      <td>January</td>\n",
              "    </tr>\n",
              "    <tr>\n",
              "      <th>1480</th>\n",
              "      <td>Why should you read \"Crime and Punishment\"?</td>\n",
              "      <td>Alex Gendler</td>\n",
              "      <td>May 2019</td>\n",
              "      <td>2800000</td>\n",
              "      <td>86000</td>\n",
              "      <td>https://ted.com/talks/alex_gendler_why_should_...</td>\n",
              "      <td>2019</td>\n",
              "      <td>May</td>\n",
              "    </tr>\n",
              "    <tr>\n",
              "      <th>1441</th>\n",
              "      <td>Why should you read \"The Master and Margarita\"?</td>\n",
              "      <td>Alex Gendler</td>\n",
              "      <td>May 2019</td>\n",
              "      <td>582000</td>\n",
              "      <td>17000</td>\n",
              "      <td>https://ted.com/talks/alex_gendler_why_should_...</td>\n",
              "      <td>2019</td>\n",
              "      <td>May</td>\n",
              "    </tr>\n",
              "    <tr>\n",
              "      <th>1289</th>\n",
              "      <td>A brief history of chess</td>\n",
              "      <td>Alex Gendler</td>\n",
              "      <td>September 2019</td>\n",
              "      <td>6900000</td>\n",
              "      <td>209000</td>\n",
              "      <td>https://ted.com/talks/alex_gendler_a_brief_his...</td>\n",
              "      <td>2019</td>\n",
              "      <td>September</td>\n",
              "    </tr>\n",
              "    <tr>\n",
              "      <th>1165</th>\n",
              "      <td>The myth of Loki and the master builder</td>\n",
              "      <td>Alex Gendler</td>\n",
              "      <td>November 2019</td>\n",
              "      <td>2100000</td>\n",
              "      <td>63000</td>\n",
              "      <td>https://ted.com/talks/alex_gendler_the_myth_of...</td>\n",
              "      <td>2019</td>\n",
              "      <td>November</td>\n",
              "    </tr>\n",
              "    <tr>\n",
              "      <th>1146</th>\n",
              "      <td>Can you outsmart this logical fallacy?</td>\n",
              "      <td>Alex Gendler</td>\n",
              "      <td>November 2019</td>\n",
              "      <td>1800000</td>\n",
              "      <td>55000</td>\n",
              "      <td>https://ted.com/talks/alex_gendler_can_you_out...</td>\n",
              "      <td>2019</td>\n",
              "      <td>November</td>\n",
              "    </tr>\n",
              "    <tr>\n",
              "      <th>1137</th>\n",
              "      <td>Why doesn't the Leaning Tower of Pisa fall over?</td>\n",
              "      <td>Alex Gendler</td>\n",
              "      <td>December 2019</td>\n",
              "      <td>4600000</td>\n",
              "      <td>139000</td>\n",
              "      <td>https://ted.com/talks/alex_gendler_why_doesn_t...</td>\n",
              "      <td>2019</td>\n",
              "      <td>December</td>\n",
              "    </tr>\n",
              "    <tr>\n",
              "      <th>1285</th>\n",
              "      <td>Can you solve the secret sauce riddle?</td>\n",
              "      <td>Alex Gendler</td>\n",
              "      <td>September 2019</td>\n",
              "      <td>2400000</td>\n",
              "      <td>74000</td>\n",
              "      <td>https://ted.com/talks/alex_gendler_can_you_sol...</td>\n",
              "      <td>2019</td>\n",
              "      <td>September</td>\n",
              "    </tr>\n",
              "    <tr>\n",
              "      <th>522</th>\n",
              "      <td>Building the world's largest (and most controv...</td>\n",
              "      <td>Alex Gendler</td>\n",
              "      <td>December 2020</td>\n",
              "      <td>810000</td>\n",
              "      <td>24000</td>\n",
              "      <td>https://ted.com/talks/alex_gendler_building_th...</td>\n",
              "      <td>2020</td>\n",
              "      <td>December</td>\n",
              "    </tr>\n",
              "    <tr>\n",
              "      <th>525</th>\n",
              "      <td>Can you solve the monster duel riddle?</td>\n",
              "      <td>Alex Gendler</td>\n",
              "      <td>December 2020</td>\n",
              "      <td>1800000</td>\n",
              "      <td>55000</td>\n",
              "      <td>https://ted.com/talks/alex_gendler_can_you_sol...</td>\n",
              "      <td>2020</td>\n",
              "      <td>December</td>\n",
              "    </tr>\n",
              "    <tr>\n",
              "      <th>548</th>\n",
              "      <td>Can you solve the Alice in Wonderland riddle?</td>\n",
              "      <td>Alex Gendler</td>\n",
              "      <td>November 2020</td>\n",
              "      <td>1600000</td>\n",
              "      <td>48000</td>\n",
              "      <td>https://ted.com/talks/alex_gendler_can_you_sol...</td>\n",
              "      <td>2020</td>\n",
              "      <td>November</td>\n",
              "    </tr>\n",
              "    <tr>\n",
              "      <th>757</th>\n",
              "      <td>The Egyptian myth of the death of Osiris</td>\n",
              "      <td>Alex Gendler</td>\n",
              "      <td>July 2020</td>\n",
              "      <td>2500000</td>\n",
              "      <td>77000</td>\n",
              "      <td>https://ted.com/talks/alex_gendler_the_egyptia...</td>\n",
              "      <td>2020</td>\n",
              "      <td>July</td>\n",
              "    </tr>\n",
              "    <tr>\n",
              "      <th>864</th>\n",
              "      <td>How do ventilators work?</td>\n",
              "      <td>Alex Gendler</td>\n",
              "      <td>May 2020</td>\n",
              "      <td>2300000</td>\n",
              "      <td>70000</td>\n",
              "      <td>https://ted.com/talks/alex_gendler_how_do_vent...</td>\n",
              "      <td>2020</td>\n",
              "      <td>May</td>\n",
              "    </tr>\n",
              "    <tr>\n",
              "      <th>827</th>\n",
              "      <td>Which voting system is the best?</td>\n",
              "      <td>Alex Gendler</td>\n",
              "      <td>June 2020</td>\n",
              "      <td>856000</td>\n",
              "      <td>25000</td>\n",
              "      <td>https://ted.com/talks/alex_gendler_which_votin...</td>\n",
              "      <td>2020</td>\n",
              "      <td>June</td>\n",
              "    </tr>\n",
              "    <tr>\n",
              "      <th>988</th>\n",
              "      <td>Can you solve the death race riddle?</td>\n",
              "      <td>Alex Gendler</td>\n",
              "      <td>March 2020</td>\n",
              "      <td>1400000</td>\n",
              "      <td>42000</td>\n",
              "      <td>https://ted.com/talks/alex_gendler_can_you_sol...</td>\n",
              "      <td>2020</td>\n",
              "      <td>March</td>\n",
              "    </tr>\n",
              "    <tr>\n",
              "      <th>990</th>\n",
              "      <td>The Egyptian myth of Isis and the seven scorpions</td>\n",
              "      <td>Alex Gendler</td>\n",
              "      <td>March 2020</td>\n",
              "      <td>2000000</td>\n",
              "      <td>60000</td>\n",
              "      <td>https://ted.com/talks/alex_gendler_the_egyptia...</td>\n",
              "      <td>2020</td>\n",
              "      <td>March</td>\n",
              "    </tr>\n",
              "    <tr>\n",
              "      <th>1026</th>\n",
              "      <td>Epic Engineering: Building the Brooklyn Bridge</td>\n",
              "      <td>Alex Gendler</td>\n",
              "      <td>February 2020</td>\n",
              "      <td>1200000</td>\n",
              "      <td>36000</td>\n",
              "      <td>https://ted.com/talks/alex_gendler_epic_engine...</td>\n",
              "      <td>2020</td>\n",
              "      <td>February</td>\n",
              "    </tr>\n",
              "    <tr>\n",
              "      <th>1041</th>\n",
              "      <td>Everything changed when the fire crystal got s...</td>\n",
              "      <td>Alex Gendler</td>\n",
              "      <td>February 2020</td>\n",
              "      <td>1800000</td>\n",
              "      <td>56000</td>\n",
              "      <td>https://ted.com/talks/alex_gendler_everything_...</td>\n",
              "      <td>2020</td>\n",
              "      <td>February</td>\n",
              "    </tr>\n",
              "    <tr>\n",
              "      <th>1093</th>\n",
              "      <td>Can you solve the dragon jousting riddle?</td>\n",
              "      <td>Alex Gendler</td>\n",
              "      <td>January 2020</td>\n",
              "      <td>2200000</td>\n",
              "      <td>66000</td>\n",
              "      <td>https://ted.com/talks/alex_gendler_can_you_sol...</td>\n",
              "      <td>2020</td>\n",
              "      <td>January</td>\n",
              "    </tr>\n",
              "    <tr>\n",
              "      <th>943</th>\n",
              "      <td>How the world's longest underwater tunnel was ...</td>\n",
              "      <td>Alex Gendler</td>\n",
              "      <td>March 2020</td>\n",
              "      <td>2800000</td>\n",
              "      <td>85000</td>\n",
              "      <td>https://ted.com/talks/alex_gendler_how_the_wor...</td>\n",
              "      <td>2020</td>\n",
              "      <td>March</td>\n",
              "    </tr>\n",
              "    <tr>\n",
              "      <th>372</th>\n",
              "      <td>Why are airplanes slower than they used to be?</td>\n",
              "      <td>Alex Gendler</td>\n",
              "      <td>April 2021</td>\n",
              "      <td>2200000</td>\n",
              "      <td>66000</td>\n",
              "      <td>https://ted.com/talks/alex_gendler_why_are_air...</td>\n",
              "      <td>2021</td>\n",
              "      <td>April</td>\n",
              "    </tr>\n",
              "    <tr>\n",
              "      <th>367</th>\n",
              "      <td>How the world's tallest skyscraper was built</td>\n",
              "      <td>Alex Gendler</td>\n",
              "      <td>April 2021</td>\n",
              "      <td>770000</td>\n",
              "      <td>23000</td>\n",
              "      <td>https://ted.com/talks/alex_gendler_how_the_wor...</td>\n",
              "      <td>2021</td>\n",
              "      <td>April</td>\n",
              "    </tr>\n",
              "    <tr>\n",
              "      <th>358</th>\n",
              "      <td>Demolition, disease, and death: Building the P...</td>\n",
              "      <td>Alex Gendler</td>\n",
              "      <td>April 2021</td>\n",
              "      <td>724000</td>\n",
              "      <td>21000</td>\n",
              "      <td>https://ted.com/talks/alex_gendler_demolition_...</td>\n",
              "      <td>2021</td>\n",
              "      <td>April</td>\n",
              "    </tr>\n",
              "    <tr>\n",
              "      <th>348</th>\n",
              "      <td>How one design flaw almost toppled a skyscraper</td>\n",
              "      <td>Alex Gendler</td>\n",
              "      <td>May 2021</td>\n",
              "      <td>712000</td>\n",
              "      <td>21000</td>\n",
              "      <td>https://ted.com/talks/alex_gendler_how_one_des...</td>\n",
              "      <td>2021</td>\n",
              "      <td>May</td>\n",
              "    </tr>\n",
              "    <tr>\n",
              "      <th>329</th>\n",
              "      <td>The woman who stared at the sun</td>\n",
              "      <td>Alex Gendler</td>\n",
              "      <td>May 2021</td>\n",
              "      <td>1900000</td>\n",
              "      <td>57000</td>\n",
              "      <td>https://ted.com/talks/alex_gendler_the_woman_w...</td>\n",
              "      <td>2021</td>\n",
              "      <td>May</td>\n",
              "    </tr>\n",
              "    <tr>\n",
              "      <th>66</th>\n",
              "      <td>Blood, concrete, and dynamite: Building the Ho...</td>\n",
              "      <td>Alex Gendler</td>\n",
              "      <td>December 2021</td>\n",
              "      <td>724000</td>\n",
              "      <td>21000</td>\n",
              "      <td>https://ted.com/talks/alex_gendler_blood_concr...</td>\n",
              "      <td>2021</td>\n",
              "      <td>December</td>\n",
              "    </tr>\n",
              "  </tbody>\n",
              "</table>\n",
              "</div>"
            ],
            "text/plain": [
              "                                                  title        author  \\\n",
              "3812           Myths and misconceptions about evolution  Alex Gendler   \n",
              "3325                            What is a gift economy?  Alex Gendler   \n",
              "3387                         Why elephants never forget  Alex Gendler   \n",
              "3610            Why do we cry? The three types of tears  Alex Gendler   \n",
              "3559                                  How tsunamis work  Alex Gendler   \n",
              "3416                   History vs. Christopher Columbus  Alex Gendler   \n",
              "3220             The wars that inspired Game of Thrones  Alex Gendler   \n",
              "3193  Can you solve the famously difficult green-eye...  Alex Gendler   \n",
              "3146                   Can you solve the bridge riddle?  Alex Gendler   \n",
              "3107             Can you solve the prisoner hat riddle?  Alex Gendler   \n",
              "2990                     History vs. Napoleon Bonaparte  Alex Gendler   \n",
              "1910                         How does impeachment work?  Alex Gendler   \n",
              "2664               Can you solve the three gods riddle?  Alex Gendler   \n",
              "2597                   Can you solve the pirate riddle?  Alex Gendler   \n",
              "1871                               The myth of Hercules  Alex Gendler   \n",
              "1788                               The myth of Sisyphus  Alex Gendler   \n",
              "1763              Can you solve the giant iron riddle?   Alex Gendler   \n",
              "1923           Can you solve the rebel supplies riddle?  Alex Gendler   \n",
              "1317             A day in the life of a Cossack warrior  Alex Gendler   \n",
              "1700      Can you solve the multiplying rabbits riddle?  Alex Gendler   \n",
              "1480        Why should you read \"Crime and Punishment\"?  Alex Gendler   \n",
              "1441    Why should you read \"The Master and Margarita\"?  Alex Gendler   \n",
              "1289                           A brief history of chess  Alex Gendler   \n",
              "1165            The myth of Loki and the master builder  Alex Gendler   \n",
              "1146             Can you outsmart this logical fallacy?  Alex Gendler   \n",
              "1137   Why doesn't the Leaning Tower of Pisa fall over?  Alex Gendler   \n",
              "1285             Can you solve the secret sauce riddle?  Alex Gendler   \n",
              "522   Building the world's largest (and most controv...  Alex Gendler   \n",
              "525              Can you solve the monster duel riddle?  Alex Gendler   \n",
              "548       Can you solve the Alice in Wonderland riddle?  Alex Gendler   \n",
              "757            The Egyptian myth of the death of Osiris  Alex Gendler   \n",
              "864                            How do ventilators work?  Alex Gendler   \n",
              "827                    Which voting system is the best?  Alex Gendler   \n",
              "988                Can you solve the death race riddle?  Alex Gendler   \n",
              "990   The Egyptian myth of Isis and the seven scorpions  Alex Gendler   \n",
              "1026    Epic Engineering: Building the Brooklyn Bridge   Alex Gendler   \n",
              "1041  Everything changed when the fire crystal got s...  Alex Gendler   \n",
              "1093          Can you solve the dragon jousting riddle?  Alex Gendler   \n",
              "943   How the world's longest underwater tunnel was ...  Alex Gendler   \n",
              "372      Why are airplanes slower than they used to be?  Alex Gendler   \n",
              "367        How the world's tallest skyscraper was built  Alex Gendler   \n",
              "358   Demolition, disease, and death: Building the P...  Alex Gendler   \n",
              "348     How one design flaw almost toppled a skyscraper  Alex Gendler   \n",
              "329                     The woman who stared at the sun  Alex Gendler   \n",
              "66    Blood, concrete, and dynamite: Building the Ho...  Alex Gendler   \n",
              "\n",
              "                date     views   likes  \\\n",
              "3812       July 2013   2600000   79000   \n",
              "3325   December 2014    422000   12000   \n",
              "3387   November 2014   8000000  242000   \n",
              "3610   February 2014   6500000  196000   \n",
              "3559      April 2014   7600000  228000   \n",
              "3416    October 2014   4200000  126000   \n",
              "3220        May 2015   5800000  174000   \n",
              "3193       June 2015  13000000  406000   \n",
              "3146  September 2015  19000000  590000   \n",
              "3107    October 2015  24000000  723000   \n",
              "2990   February 2016   4500000  136000   \n",
              "1910     August 2017   1900000   59000   \n",
              "2664   February 2017  11000000  341000   \n",
              "2597        May 2017   9100000  274000   \n",
              "1871  September 2018   6000000  182000   \n",
              "1788   November 2018   6100000  184000   \n",
              "1763   November 2018   2200000   67000   \n",
              "1923  September 2018   2300000   70000   \n",
              "1317     August 2019    596000   17000   \n",
              "1700    January 2019   2900000   89000   \n",
              "1480        May 2019   2800000   86000   \n",
              "1441        May 2019    582000   17000   \n",
              "1289  September 2019   6900000  209000   \n",
              "1165   November 2019   2100000   63000   \n",
              "1146   November 2019   1800000   55000   \n",
              "1137   December 2019   4600000  139000   \n",
              "1285  September 2019   2400000   74000   \n",
              "522    December 2020    810000   24000   \n",
              "525    December 2020   1800000   55000   \n",
              "548    November 2020   1600000   48000   \n",
              "757        July 2020   2500000   77000   \n",
              "864         May 2020   2300000   70000   \n",
              "827        June 2020    856000   25000   \n",
              "988       March 2020   1400000   42000   \n",
              "990       March 2020   2000000   60000   \n",
              "1026   February 2020   1200000   36000   \n",
              "1041   February 2020   1800000   56000   \n",
              "1093    January 2020   2200000   66000   \n",
              "943       March 2020   2800000   85000   \n",
              "372       April 2021   2200000   66000   \n",
              "367       April 2021    770000   23000   \n",
              "358       April 2021    724000   21000   \n",
              "348         May 2021    712000   21000   \n",
              "329         May 2021   1900000   57000   \n",
              "66     December 2021    724000   21000   \n",
              "\n",
              "                                                   link  year      month  \n",
              "3812  https://ted.com/talks/alex_gendler_myths_and_m...  2013       July  \n",
              "3325  https://ted.com/talks/alex_gendler_what_is_a_g...  2014   December  \n",
              "3387  https://ted.com/talks/alex_gendler_why_elephan...  2014   November  \n",
              "3610  https://ted.com/talks/alex_gendler_why_do_we_c...  2014   February  \n",
              "3559  https://ted.com/talks/alex_gendler_how_tsunami...  2014      April  \n",
              "3416  https://ted.com/talks/alex_gendler_history_vs_...  2014    October  \n",
              "3220  https://ted.com/talks/alex_gendler_the_wars_th...  2015        May  \n",
              "3193  https://ted.com/talks/alex_gendler_can_you_sol...  2015       June  \n",
              "3146  https://ted.com/talks/alex_gendler_can_you_sol...  2015  September  \n",
              "3107  https://ted.com/talks/alex_gendler_can_you_sol...  2015    October  \n",
              "2990  https://ted.com/talks/alex_gendler_history_vs_...  2016   February  \n",
              "1910  https://ted.com/talks/alex_gendler_how_does_im...  2017     August  \n",
              "2664  https://ted.com/talks/alex_gendler_can_you_sol...  2017   February  \n",
              "2597  https://ted.com/talks/alex_gendler_can_you_sol...  2017        May  \n",
              "1871  https://ted.com/talks/alex_gendler_the_myth_of...  2018  September  \n",
              "1788  https://ted.com/talks/alex_gendler_the_myth_of...  2018   November  \n",
              "1763  https://ted.com/talks/alex_gendler_can_you_sol...  2018   November  \n",
              "1923  https://ted.com/talks/alex_gendler_can_you_sol...  2018  September  \n",
              "1317  https://ted.com/talks/alex_gendler_a_day_in_th...  2019     August  \n",
              "1700  https://ted.com/talks/alex_gendler_can_you_sol...  2019    January  \n",
              "1480  https://ted.com/talks/alex_gendler_why_should_...  2019        May  \n",
              "1441  https://ted.com/talks/alex_gendler_why_should_...  2019        May  \n",
              "1289  https://ted.com/talks/alex_gendler_a_brief_his...  2019  September  \n",
              "1165  https://ted.com/talks/alex_gendler_the_myth_of...  2019   November  \n",
              "1146  https://ted.com/talks/alex_gendler_can_you_out...  2019   November  \n",
              "1137  https://ted.com/talks/alex_gendler_why_doesn_t...  2019   December  \n",
              "1285  https://ted.com/talks/alex_gendler_can_you_sol...  2019  September  \n",
              "522   https://ted.com/talks/alex_gendler_building_th...  2020   December  \n",
              "525   https://ted.com/talks/alex_gendler_can_you_sol...  2020   December  \n",
              "548   https://ted.com/talks/alex_gendler_can_you_sol...  2020   November  \n",
              "757   https://ted.com/talks/alex_gendler_the_egyptia...  2020       July  \n",
              "864   https://ted.com/talks/alex_gendler_how_do_vent...  2020        May  \n",
              "827   https://ted.com/talks/alex_gendler_which_votin...  2020       June  \n",
              "988   https://ted.com/talks/alex_gendler_can_you_sol...  2020      March  \n",
              "990   https://ted.com/talks/alex_gendler_the_egyptia...  2020      March  \n",
              "1026  https://ted.com/talks/alex_gendler_epic_engine...  2020   February  \n",
              "1041  https://ted.com/talks/alex_gendler_everything_...  2020   February  \n",
              "1093  https://ted.com/talks/alex_gendler_can_you_sol...  2020    January  \n",
              "943   https://ted.com/talks/alex_gendler_how_the_wor...  2020      March  \n",
              "372   https://ted.com/talks/alex_gendler_why_are_air...  2021      April  \n",
              "367   https://ted.com/talks/alex_gendler_how_the_wor...  2021      April  \n",
              "358   https://ted.com/talks/alex_gendler_demolition_...  2021      April  \n",
              "348   https://ted.com/talks/alex_gendler_how_one_des...  2021        May  \n",
              "329   https://ted.com/talks/alex_gendler_the_woman_w...  2021        May  \n",
              "66    https://ted.com/talks/alex_gendler_blood_concr...  2021   December  "
            ]
          },
          "execution_count": 23,
          "metadata": {},
          "output_type": "execute_result"
        }
      ],
      "source": [
        "alex_df_sorted = alex_df.sort_values(by = 'year', ascending = True)\n",
        "alex_df_sorted"
      ]
    },
    {
      "cell_type": "code",
      "execution_count": 25,
      "metadata": {
        "colab": {
          "base_uri": "https://localhost:8080/",
          "height": 332
        },
        "id": "hR4lbt4n2QM9",
        "outputId": "0fdb1d0a-b80c-4aa9-a635-189a4d38d1c7"
      },
      "outputs": [
        {
          "data": {
            "text/html": [
              "<div>\n",
              "<style scoped>\n",
              "    .dataframe tbody tr th:only-of-type {\n",
              "        vertical-align: middle;\n",
              "    }\n",
              "\n",
              "    .dataframe tbody tr th {\n",
              "        vertical-align: top;\n",
              "    }\n",
              "\n",
              "    .dataframe thead th {\n",
              "        text-align: right;\n",
              "    }\n",
              "</style>\n",
              "<table border=\"1\" class=\"dataframe\">\n",
              "  <thead>\n",
              "    <tr style=\"text-align: right;\">\n",
              "      <th></th>\n",
              "      <th>year</th>\n",
              "      <th>counts</th>\n",
              "    </tr>\n",
              "  </thead>\n",
              "  <tbody>\n",
              "    <tr>\n",
              "      <th>0</th>\n",
              "      <td>2020</td>\n",
              "      <td>12</td>\n",
              "    </tr>\n",
              "    <tr>\n",
              "      <th>1</th>\n",
              "      <td>2019</td>\n",
              "      <td>9</td>\n",
              "    </tr>\n",
              "    <tr>\n",
              "      <th>2</th>\n",
              "      <td>2021</td>\n",
              "      <td>6</td>\n",
              "    </tr>\n",
              "    <tr>\n",
              "      <th>3</th>\n",
              "      <td>2014</td>\n",
              "      <td>5</td>\n",
              "    </tr>\n",
              "    <tr>\n",
              "      <th>4</th>\n",
              "      <td>2018</td>\n",
              "      <td>4</td>\n",
              "    </tr>\n",
              "    <tr>\n",
              "      <th>5</th>\n",
              "      <td>2015</td>\n",
              "      <td>4</td>\n",
              "    </tr>\n",
              "    <tr>\n",
              "      <th>6</th>\n",
              "      <td>2017</td>\n",
              "      <td>3</td>\n",
              "    </tr>\n",
              "    <tr>\n",
              "      <th>7</th>\n",
              "      <td>2016</td>\n",
              "      <td>1</td>\n",
              "    </tr>\n",
              "    <tr>\n",
              "      <th>8</th>\n",
              "      <td>2013</td>\n",
              "      <td>1</td>\n",
              "    </tr>\n",
              "  </tbody>\n",
              "</table>\n",
              "</div>"
            ],
            "text/plain": [
              "   year  counts\n",
              "0  2020      12\n",
              "1  2019       9\n",
              "2  2021       6\n",
              "3  2014       5\n",
              "4  2018       4\n",
              "5  2015       4\n",
              "6  2017       3\n",
              "7  2016       1\n",
              "8  2013       1"
            ]
          },
          "execution_count": 25,
          "metadata": {},
          "output_type": "execute_result"
        }
      ],
      "source": [
        "\n",
        "# alex_df_month=alex_df.value_counts('year').reset_index()\n",
        "alex_df_month=alex_df['year'].value_counts().reset_index()\n",
        "alex_df_month.columns=['year','counts']\n",
        "alex_df_month\n",
        "\n"
      ]
    },
    {
      "cell_type": "markdown",
      "metadata": {
        "id": "nd4jpshk2rtY"
      },
      "source": [
        "Alex Gendler first speech was in 2013 and "
      ]
    },
    {
      "cell_type": "code",
      "execution_count": 26,
      "metadata": {
        "colab": {
          "base_uri": "https://localhost:8080/",
          "height": 542
        },
        "id": "nagr6wPdBJpj",
        "outputId": "211a7956-a51c-4277-85da-8a80ececbf24"
      },
      "outputs": [
        {
          "data": {
            "application/vnd.plotly.v1+json": {
              "config": {
                "plotlyServerURL": "https://plot.ly"
              },
              "data": [
                {
                  "alignmentgroup": "True",
                  "hovertemplate": "variable=views<br>value=%{x}<br>title=%{y}<extra></extra>",
                  "legendgroup": "views",
                  "marker": {
                    "color": "#636efa",
                    "pattern": {
                      "shape": ""
                    }
                  },
                  "name": "views",
                  "offsetgroup": "views",
                  "orientation": "h",
                  "showlegend": true,
                  "textposition": "auto",
                  "type": "bar",
                  "x": [
                    724000,
                    1900000,
                    712000,
                    724000,
                    770000,
                    2200000,
                    810000,
                    1800000,
                    1600000,
                    2500000,
                    856000,
                    2300000,
                    2800000,
                    1400000,
                    2000000,
                    1200000,
                    1800000,
                    2200000,
                    4600000,
                    1800000,
                    2100000,
                    2400000,
                    6900000,
                    596000,
                    582000,
                    2800000,
                    2900000,
                    2200000,
                    6100000,
                    6000000,
                    1900000,
                    2300000,
                    9100000,
                    11000000,
                    4500000,
                    24000000,
                    19000000,
                    13000000,
                    5800000,
                    422000,
                    8000000,
                    4200000,
                    7600000,
                    6500000,
                    2600000
                  ],
                  "xaxis": "x",
                  "y": [
                    "Blood, concrete, and dynamite: Building the Hoover Dam",
                    "The woman who stared at the sun",
                    "How one design flaw almost toppled a skyscraper",
                    "Demolition, disease, and death: Building the Panama Canal",
                    "How the world's tallest skyscraper was built",
                    "Why are airplanes slower than they used to be?",
                    "Building the world's largest (and most controversial) power plant",
                    "Can you solve the monster duel riddle?",
                    "Can you solve the Alice in Wonderland riddle?",
                    "The Egyptian myth of the death of Osiris",
                    "Which voting system is the best?",
                    "How do ventilators work?",
                    "How the world's longest underwater tunnel was built",
                    "Can you solve the death race riddle?",
                    "The Egyptian myth of Isis and the seven scorpions",
                    "Epic Engineering: Building the Brooklyn Bridge ",
                    "Everything changed when the fire crystal got stolen",
                    "Can you solve the dragon jousting riddle?",
                    "Why doesn't the Leaning Tower of Pisa fall over?",
                    "Can you outsmart this logical fallacy?",
                    "The myth of Loki and the master builder",
                    "Can you solve the secret sauce riddle?",
                    "A brief history of chess",
                    "A day in the life of a Cossack warrior",
                    "Why should you read \"The Master and Margarita\"?",
                    "Why should you read \"Crime and Punishment\"?",
                    "Can you solve the multiplying rabbits riddle?",
                    "Can you solve the giant iron riddle? ",
                    "The myth of Sisyphus",
                    "The myth of Hercules",
                    "How does impeachment work?",
                    "Can you solve the rebel supplies riddle?",
                    "Can you solve the pirate riddle?",
                    "Can you solve the three gods riddle?",
                    "History vs. Napoleon Bonaparte",
                    "Can you solve the prisoner hat riddle?",
                    "Can you solve the bridge riddle?",
                    "Can you solve the famously difficult green-eyed logic puzzle?",
                    "The wars that inspired Game of Thrones",
                    "What is a gift economy?",
                    "Why elephants never forget",
                    "History vs. Christopher Columbus",
                    "How tsunamis work",
                    "Why do we cry? The three types of tears",
                    "Myths and misconceptions about evolution"
                  ],
                  "yaxis": "y"
                },
                {
                  "alignmentgroup": "True",
                  "hovertemplate": "variable=likes<br>value=%{x}<br>title=%{y}<extra></extra>",
                  "legendgroup": "likes",
                  "marker": {
                    "color": "#EF553B",
                    "pattern": {
                      "shape": ""
                    }
                  },
                  "name": "likes",
                  "offsetgroup": "likes",
                  "orientation": "h",
                  "showlegend": true,
                  "textposition": "auto",
                  "type": "bar",
                  "x": [
                    21000,
                    57000,
                    21000,
                    21000,
                    23000,
                    66000,
                    24000,
                    55000,
                    48000,
                    77000,
                    25000,
                    70000,
                    85000,
                    42000,
                    60000,
                    36000,
                    56000,
                    66000,
                    139000,
                    55000,
                    63000,
                    74000,
                    209000,
                    17000,
                    17000,
                    86000,
                    89000,
                    67000,
                    184000,
                    182000,
                    59000,
                    70000,
                    274000,
                    341000,
                    136000,
                    723000,
                    590000,
                    406000,
                    174000,
                    12000,
                    242000,
                    126000,
                    228000,
                    196000,
                    79000
                  ],
                  "xaxis": "x",
                  "y": [
                    "Blood, concrete, and dynamite: Building the Hoover Dam",
                    "The woman who stared at the sun",
                    "How one design flaw almost toppled a skyscraper",
                    "Demolition, disease, and death: Building the Panama Canal",
                    "How the world's tallest skyscraper was built",
                    "Why are airplanes slower than they used to be?",
                    "Building the world's largest (and most controversial) power plant",
                    "Can you solve the monster duel riddle?",
                    "Can you solve the Alice in Wonderland riddle?",
                    "The Egyptian myth of the death of Osiris",
                    "Which voting system is the best?",
                    "How do ventilators work?",
                    "How the world's longest underwater tunnel was built",
                    "Can you solve the death race riddle?",
                    "The Egyptian myth of Isis and the seven scorpions",
                    "Epic Engineering: Building the Brooklyn Bridge ",
                    "Everything changed when the fire crystal got stolen",
                    "Can you solve the dragon jousting riddle?",
                    "Why doesn't the Leaning Tower of Pisa fall over?",
                    "Can you outsmart this logical fallacy?",
                    "The myth of Loki and the master builder",
                    "Can you solve the secret sauce riddle?",
                    "A brief history of chess",
                    "A day in the life of a Cossack warrior",
                    "Why should you read \"The Master and Margarita\"?",
                    "Why should you read \"Crime and Punishment\"?",
                    "Can you solve the multiplying rabbits riddle?",
                    "Can you solve the giant iron riddle? ",
                    "The myth of Sisyphus",
                    "The myth of Hercules",
                    "How does impeachment work?",
                    "Can you solve the rebel supplies riddle?",
                    "Can you solve the pirate riddle?",
                    "Can you solve the three gods riddle?",
                    "History vs. Napoleon Bonaparte",
                    "Can you solve the prisoner hat riddle?",
                    "Can you solve the bridge riddle?",
                    "Can you solve the famously difficult green-eyed logic puzzle?",
                    "The wars that inspired Game of Thrones",
                    "What is a gift economy?",
                    "Why elephants never forget",
                    "History vs. Christopher Columbus",
                    "How tsunamis work",
                    "Why do we cry? The three types of tears",
                    "Myths and misconceptions about evolution"
                  ],
                  "yaxis": "y"
                }
              ],
              "layout": {
                "barmode": "relative",
                "legend": {
                  "title": {
                    "text": "variable"
                  },
                  "tracegroupgap": 0
                },
                "template": {
                  "data": {
                    "bar": [
                      {
                        "error_x": {
                          "color": "#2a3f5f"
                        },
                        "error_y": {
                          "color": "#2a3f5f"
                        },
                        "marker": {
                          "line": {
                            "color": "#E5ECF6",
                            "width": 0.5
                          },
                          "pattern": {
                            "fillmode": "overlay",
                            "size": 10,
                            "solidity": 0.2
                          }
                        },
                        "type": "bar"
                      }
                    ],
                    "barpolar": [
                      {
                        "marker": {
                          "line": {
                            "color": "#E5ECF6",
                            "width": 0.5
                          },
                          "pattern": {
                            "fillmode": "overlay",
                            "size": 10,
                            "solidity": 0.2
                          }
                        },
                        "type": "barpolar"
                      }
                    ],
                    "carpet": [
                      {
                        "aaxis": {
                          "endlinecolor": "#2a3f5f",
                          "gridcolor": "white",
                          "linecolor": "white",
                          "minorgridcolor": "white",
                          "startlinecolor": "#2a3f5f"
                        },
                        "baxis": {
                          "endlinecolor": "#2a3f5f",
                          "gridcolor": "white",
                          "linecolor": "white",
                          "minorgridcolor": "white",
                          "startlinecolor": "#2a3f5f"
                        },
                        "type": "carpet"
                      }
                    ],
                    "choropleth": [
                      {
                        "colorbar": {
                          "outlinewidth": 0,
                          "ticks": ""
                        },
                        "type": "choropleth"
                      }
                    ],
                    "contour": [
                      {
                        "colorbar": {
                          "outlinewidth": 0,
                          "ticks": ""
                        },
                        "colorscale": [
                          [
                            0,
                            "#0d0887"
                          ],
                          [
                            0.1111111111111111,
                            "#46039f"
                          ],
                          [
                            0.2222222222222222,
                            "#7201a8"
                          ],
                          [
                            0.3333333333333333,
                            "#9c179e"
                          ],
                          [
                            0.4444444444444444,
                            "#bd3786"
                          ],
                          [
                            0.5555555555555556,
                            "#d8576b"
                          ],
                          [
                            0.6666666666666666,
                            "#ed7953"
                          ],
                          [
                            0.7777777777777778,
                            "#fb9f3a"
                          ],
                          [
                            0.8888888888888888,
                            "#fdca26"
                          ],
                          [
                            1,
                            "#f0f921"
                          ]
                        ],
                        "type": "contour"
                      }
                    ],
                    "contourcarpet": [
                      {
                        "colorbar": {
                          "outlinewidth": 0,
                          "ticks": ""
                        },
                        "type": "contourcarpet"
                      }
                    ],
                    "heatmap": [
                      {
                        "colorbar": {
                          "outlinewidth": 0,
                          "ticks": ""
                        },
                        "colorscale": [
                          [
                            0,
                            "#0d0887"
                          ],
                          [
                            0.1111111111111111,
                            "#46039f"
                          ],
                          [
                            0.2222222222222222,
                            "#7201a8"
                          ],
                          [
                            0.3333333333333333,
                            "#9c179e"
                          ],
                          [
                            0.4444444444444444,
                            "#bd3786"
                          ],
                          [
                            0.5555555555555556,
                            "#d8576b"
                          ],
                          [
                            0.6666666666666666,
                            "#ed7953"
                          ],
                          [
                            0.7777777777777778,
                            "#fb9f3a"
                          ],
                          [
                            0.8888888888888888,
                            "#fdca26"
                          ],
                          [
                            1,
                            "#f0f921"
                          ]
                        ],
                        "type": "heatmap"
                      }
                    ],
                    "heatmapgl": [
                      {
                        "colorbar": {
                          "outlinewidth": 0,
                          "ticks": ""
                        },
                        "colorscale": [
                          [
                            0,
                            "#0d0887"
                          ],
                          [
                            0.1111111111111111,
                            "#46039f"
                          ],
                          [
                            0.2222222222222222,
                            "#7201a8"
                          ],
                          [
                            0.3333333333333333,
                            "#9c179e"
                          ],
                          [
                            0.4444444444444444,
                            "#bd3786"
                          ],
                          [
                            0.5555555555555556,
                            "#d8576b"
                          ],
                          [
                            0.6666666666666666,
                            "#ed7953"
                          ],
                          [
                            0.7777777777777778,
                            "#fb9f3a"
                          ],
                          [
                            0.8888888888888888,
                            "#fdca26"
                          ],
                          [
                            1,
                            "#f0f921"
                          ]
                        ],
                        "type": "heatmapgl"
                      }
                    ],
                    "histogram": [
                      {
                        "marker": {
                          "pattern": {
                            "fillmode": "overlay",
                            "size": 10,
                            "solidity": 0.2
                          }
                        },
                        "type": "histogram"
                      }
                    ],
                    "histogram2d": [
                      {
                        "colorbar": {
                          "outlinewidth": 0,
                          "ticks": ""
                        },
                        "colorscale": [
                          [
                            0,
                            "#0d0887"
                          ],
                          [
                            0.1111111111111111,
                            "#46039f"
                          ],
                          [
                            0.2222222222222222,
                            "#7201a8"
                          ],
                          [
                            0.3333333333333333,
                            "#9c179e"
                          ],
                          [
                            0.4444444444444444,
                            "#bd3786"
                          ],
                          [
                            0.5555555555555556,
                            "#d8576b"
                          ],
                          [
                            0.6666666666666666,
                            "#ed7953"
                          ],
                          [
                            0.7777777777777778,
                            "#fb9f3a"
                          ],
                          [
                            0.8888888888888888,
                            "#fdca26"
                          ],
                          [
                            1,
                            "#f0f921"
                          ]
                        ],
                        "type": "histogram2d"
                      }
                    ],
                    "histogram2dcontour": [
                      {
                        "colorbar": {
                          "outlinewidth": 0,
                          "ticks": ""
                        },
                        "colorscale": [
                          [
                            0,
                            "#0d0887"
                          ],
                          [
                            0.1111111111111111,
                            "#46039f"
                          ],
                          [
                            0.2222222222222222,
                            "#7201a8"
                          ],
                          [
                            0.3333333333333333,
                            "#9c179e"
                          ],
                          [
                            0.4444444444444444,
                            "#bd3786"
                          ],
                          [
                            0.5555555555555556,
                            "#d8576b"
                          ],
                          [
                            0.6666666666666666,
                            "#ed7953"
                          ],
                          [
                            0.7777777777777778,
                            "#fb9f3a"
                          ],
                          [
                            0.8888888888888888,
                            "#fdca26"
                          ],
                          [
                            1,
                            "#f0f921"
                          ]
                        ],
                        "type": "histogram2dcontour"
                      }
                    ],
                    "mesh3d": [
                      {
                        "colorbar": {
                          "outlinewidth": 0,
                          "ticks": ""
                        },
                        "type": "mesh3d"
                      }
                    ],
                    "parcoords": [
                      {
                        "line": {
                          "colorbar": {
                            "outlinewidth": 0,
                            "ticks": ""
                          }
                        },
                        "type": "parcoords"
                      }
                    ],
                    "pie": [
                      {
                        "automargin": true,
                        "type": "pie"
                      }
                    ],
                    "scatter": [
                      {
                        "marker": {
                          "colorbar": {
                            "outlinewidth": 0,
                            "ticks": ""
                          }
                        },
                        "type": "scatter"
                      }
                    ],
                    "scatter3d": [
                      {
                        "line": {
                          "colorbar": {
                            "outlinewidth": 0,
                            "ticks": ""
                          }
                        },
                        "marker": {
                          "colorbar": {
                            "outlinewidth": 0,
                            "ticks": ""
                          }
                        },
                        "type": "scatter3d"
                      }
                    ],
                    "scattercarpet": [
                      {
                        "marker": {
                          "colorbar": {
                            "outlinewidth": 0,
                            "ticks": ""
                          }
                        },
                        "type": "scattercarpet"
                      }
                    ],
                    "scattergeo": [
                      {
                        "marker": {
                          "colorbar": {
                            "outlinewidth": 0,
                            "ticks": ""
                          }
                        },
                        "type": "scattergeo"
                      }
                    ],
                    "scattergl": [
                      {
                        "marker": {
                          "colorbar": {
                            "outlinewidth": 0,
                            "ticks": ""
                          }
                        },
                        "type": "scattergl"
                      }
                    ],
                    "scattermapbox": [
                      {
                        "marker": {
                          "colorbar": {
                            "outlinewidth": 0,
                            "ticks": ""
                          }
                        },
                        "type": "scattermapbox"
                      }
                    ],
                    "scatterpolar": [
                      {
                        "marker": {
                          "colorbar": {
                            "outlinewidth": 0,
                            "ticks": ""
                          }
                        },
                        "type": "scatterpolar"
                      }
                    ],
                    "scatterpolargl": [
                      {
                        "marker": {
                          "colorbar": {
                            "outlinewidth": 0,
                            "ticks": ""
                          }
                        },
                        "type": "scatterpolargl"
                      }
                    ],
                    "scatterternary": [
                      {
                        "marker": {
                          "colorbar": {
                            "outlinewidth": 0,
                            "ticks": ""
                          }
                        },
                        "type": "scatterternary"
                      }
                    ],
                    "surface": [
                      {
                        "colorbar": {
                          "outlinewidth": 0,
                          "ticks": ""
                        },
                        "colorscale": [
                          [
                            0,
                            "#0d0887"
                          ],
                          [
                            0.1111111111111111,
                            "#46039f"
                          ],
                          [
                            0.2222222222222222,
                            "#7201a8"
                          ],
                          [
                            0.3333333333333333,
                            "#9c179e"
                          ],
                          [
                            0.4444444444444444,
                            "#bd3786"
                          ],
                          [
                            0.5555555555555556,
                            "#d8576b"
                          ],
                          [
                            0.6666666666666666,
                            "#ed7953"
                          ],
                          [
                            0.7777777777777778,
                            "#fb9f3a"
                          ],
                          [
                            0.8888888888888888,
                            "#fdca26"
                          ],
                          [
                            1,
                            "#f0f921"
                          ]
                        ],
                        "type": "surface"
                      }
                    ],
                    "table": [
                      {
                        "cells": {
                          "fill": {
                            "color": "#EBF0F8"
                          },
                          "line": {
                            "color": "white"
                          }
                        },
                        "header": {
                          "fill": {
                            "color": "#C8D4E3"
                          },
                          "line": {
                            "color": "white"
                          }
                        },
                        "type": "table"
                      }
                    ]
                  },
                  "layout": {
                    "annotationdefaults": {
                      "arrowcolor": "#2a3f5f",
                      "arrowhead": 0,
                      "arrowwidth": 1
                    },
                    "autotypenumbers": "strict",
                    "coloraxis": {
                      "colorbar": {
                        "outlinewidth": 0,
                        "ticks": ""
                      }
                    },
                    "colorscale": {
                      "diverging": [
                        [
                          0,
                          "#8e0152"
                        ],
                        [
                          0.1,
                          "#c51b7d"
                        ],
                        [
                          0.2,
                          "#de77ae"
                        ],
                        [
                          0.3,
                          "#f1b6da"
                        ],
                        [
                          0.4,
                          "#fde0ef"
                        ],
                        [
                          0.5,
                          "#f7f7f7"
                        ],
                        [
                          0.6,
                          "#e6f5d0"
                        ],
                        [
                          0.7,
                          "#b8e186"
                        ],
                        [
                          0.8,
                          "#7fbc41"
                        ],
                        [
                          0.9,
                          "#4d9221"
                        ],
                        [
                          1,
                          "#276419"
                        ]
                      ],
                      "sequential": [
                        [
                          0,
                          "#0d0887"
                        ],
                        [
                          0.1111111111111111,
                          "#46039f"
                        ],
                        [
                          0.2222222222222222,
                          "#7201a8"
                        ],
                        [
                          0.3333333333333333,
                          "#9c179e"
                        ],
                        [
                          0.4444444444444444,
                          "#bd3786"
                        ],
                        [
                          0.5555555555555556,
                          "#d8576b"
                        ],
                        [
                          0.6666666666666666,
                          "#ed7953"
                        ],
                        [
                          0.7777777777777778,
                          "#fb9f3a"
                        ],
                        [
                          0.8888888888888888,
                          "#fdca26"
                        ],
                        [
                          1,
                          "#f0f921"
                        ]
                      ],
                      "sequentialminus": [
                        [
                          0,
                          "#0d0887"
                        ],
                        [
                          0.1111111111111111,
                          "#46039f"
                        ],
                        [
                          0.2222222222222222,
                          "#7201a8"
                        ],
                        [
                          0.3333333333333333,
                          "#9c179e"
                        ],
                        [
                          0.4444444444444444,
                          "#bd3786"
                        ],
                        [
                          0.5555555555555556,
                          "#d8576b"
                        ],
                        [
                          0.6666666666666666,
                          "#ed7953"
                        ],
                        [
                          0.7777777777777778,
                          "#fb9f3a"
                        ],
                        [
                          0.8888888888888888,
                          "#fdca26"
                        ],
                        [
                          1,
                          "#f0f921"
                        ]
                      ]
                    },
                    "colorway": [
                      "#636efa",
                      "#EF553B",
                      "#00cc96",
                      "#ab63fa",
                      "#FFA15A",
                      "#19d3f3",
                      "#FF6692",
                      "#B6E880",
                      "#FF97FF",
                      "#FECB52"
                    ],
                    "font": {
                      "color": "#2a3f5f"
                    },
                    "geo": {
                      "bgcolor": "white",
                      "lakecolor": "white",
                      "landcolor": "#E5ECF6",
                      "showlakes": true,
                      "showland": true,
                      "subunitcolor": "white"
                    },
                    "hoverlabel": {
                      "align": "left"
                    },
                    "hovermode": "closest",
                    "mapbox": {
                      "style": "light"
                    },
                    "paper_bgcolor": "white",
                    "plot_bgcolor": "#E5ECF6",
                    "polar": {
                      "angularaxis": {
                        "gridcolor": "white",
                        "linecolor": "white",
                        "ticks": ""
                      },
                      "bgcolor": "#E5ECF6",
                      "radialaxis": {
                        "gridcolor": "white",
                        "linecolor": "white",
                        "ticks": ""
                      }
                    },
                    "scene": {
                      "xaxis": {
                        "backgroundcolor": "#E5ECF6",
                        "gridcolor": "white",
                        "gridwidth": 2,
                        "linecolor": "white",
                        "showbackground": true,
                        "ticks": "",
                        "zerolinecolor": "white"
                      },
                      "yaxis": {
                        "backgroundcolor": "#E5ECF6",
                        "gridcolor": "white",
                        "gridwidth": 2,
                        "linecolor": "white",
                        "showbackground": true,
                        "ticks": "",
                        "zerolinecolor": "white"
                      },
                      "zaxis": {
                        "backgroundcolor": "#E5ECF6",
                        "gridcolor": "white",
                        "gridwidth": 2,
                        "linecolor": "white",
                        "showbackground": true,
                        "ticks": "",
                        "zerolinecolor": "white"
                      }
                    },
                    "shapedefaults": {
                      "line": {
                        "color": "#2a3f5f"
                      }
                    },
                    "ternary": {
                      "aaxis": {
                        "gridcolor": "white",
                        "linecolor": "white",
                        "ticks": ""
                      },
                      "baxis": {
                        "gridcolor": "white",
                        "linecolor": "white",
                        "ticks": ""
                      },
                      "bgcolor": "#E5ECF6",
                      "caxis": {
                        "gridcolor": "white",
                        "linecolor": "white",
                        "ticks": ""
                      }
                    },
                    "title": {
                      "x": 0.05
                    },
                    "xaxis": {
                      "automargin": true,
                      "gridcolor": "white",
                      "linecolor": "white",
                      "ticks": "",
                      "title": {
                        "standoff": 15
                      },
                      "zerolinecolor": "white",
                      "zerolinewidth": 2
                    },
                    "yaxis": {
                      "automargin": true,
                      "gridcolor": "white",
                      "linecolor": "white",
                      "ticks": "",
                      "title": {
                        "standoff": 15
                      },
                      "zerolinecolor": "white",
                      "zerolinewidth": 2
                    }
                  }
                },
                "title": {
                  "text": "Alex Gendler speeches Likes & Views"
                },
                "xaxis": {
                  "anchor": "y",
                  "domain": [
                    0,
                    1
                  ],
                  "title": {
                    "text": "value"
                  }
                },
                "yaxis": {
                  "anchor": "x",
                  "domain": [
                    0,
                    1
                  ],
                  "title": {
                    "text": "title"
                  }
                }
              }
            }
          },
          "metadata": {},
          "output_type": "display_data"
        }
      ],
      "source": [
        "fig = px.bar(alex_df, x=[\"views\",\"likes\"],y=\"title\", title=\"Alex Gendler speeches Likes & Views\")\n",
        "fig.show()"
      ]
    },
    {
      "cell_type": "code",
      "execution_count": 27,
      "metadata": {
        "colab": {
          "base_uri": "https://localhost:8080/",
          "height": 542
        },
        "id": "z3TFKg8NG1Ea",
        "outputId": "1a8ac54e-f38d-402d-a8cc-ce8357446696"
      },
      "outputs": [
        {
          "data": {
            "application/vnd.plotly.v1+json": {
              "config": {
                "plotlyServerURL": "https://plot.ly"
              },
              "data": [
                {
                  "customdata": [
                    [
                      "Myths and misconceptions about evolution"
                    ],
                    [
                      "What is a gift economy?"
                    ],
                    [
                      "Why elephants never forget"
                    ],
                    [
                      "Why do we cry? The three types of tears"
                    ],
                    [
                      "How tsunamis work"
                    ],
                    [
                      "History vs. Christopher Columbus"
                    ],
                    [
                      "The wars that inspired Game of Thrones"
                    ],
                    [
                      "Can you solve the famously difficult green-eyed logic puzzle?"
                    ],
                    [
                      "Can you solve the bridge riddle?"
                    ],
                    [
                      "Can you solve the prisoner hat riddle?"
                    ],
                    [
                      "History vs. Napoleon Bonaparte"
                    ],
                    [
                      "How does impeachment work?"
                    ],
                    [
                      "Can you solve the three gods riddle?"
                    ],
                    [
                      "Can you solve the pirate riddle?"
                    ],
                    [
                      "The myth of Hercules"
                    ],
                    [
                      "The myth of Sisyphus"
                    ],
                    [
                      "Can you solve the giant iron riddle? "
                    ],
                    [
                      "Can you solve the rebel supplies riddle?"
                    ],
                    [
                      "A day in the life of a Cossack warrior"
                    ],
                    [
                      "Can you solve the multiplying rabbits riddle?"
                    ],
                    [
                      "Why should you read \"Crime and Punishment\"?"
                    ],
                    [
                      "Why should you read \"The Master and Margarita\"?"
                    ],
                    [
                      "A brief history of chess"
                    ],
                    [
                      "The myth of Loki and the master builder"
                    ],
                    [
                      "Can you outsmart this logical fallacy?"
                    ],
                    [
                      "Why doesn't the Leaning Tower of Pisa fall over?"
                    ],
                    [
                      "Can you solve the secret sauce riddle?"
                    ],
                    [
                      "Building the world's largest (and most controversial) power plant"
                    ],
                    [
                      "Can you solve the monster duel riddle?"
                    ],
                    [
                      "Can you solve the Alice in Wonderland riddle?"
                    ],
                    [
                      "The Egyptian myth of the death of Osiris"
                    ],
                    [
                      "How do ventilators work?"
                    ],
                    [
                      "Which voting system is the best?"
                    ],
                    [
                      "Can you solve the death race riddle?"
                    ],
                    [
                      "The Egyptian myth of Isis and the seven scorpions"
                    ],
                    [
                      "Epic Engineering: Building the Brooklyn Bridge "
                    ],
                    [
                      "Everything changed when the fire crystal got stolen"
                    ],
                    [
                      "Can you solve the dragon jousting riddle?"
                    ],
                    [
                      "How the world's longest underwater tunnel was built"
                    ],
                    [
                      "Why are airplanes slower than they used to be?"
                    ],
                    [
                      "How the world's tallest skyscraper was built"
                    ],
                    [
                      "Demolition, disease, and death: Building the Panama Canal"
                    ],
                    [
                      "How one design flaw almost toppled a skyscraper"
                    ],
                    [
                      "The woman who stared at the sun"
                    ],
                    [
                      "Blood, concrete, and dynamite: Building the Hoover Dam"
                    ]
                  ],
                  "hovertemplate": "date=%{x}<br>views=%{y}<br>title=%{customdata[0]}<extra></extra>",
                  "legendgroup": "",
                  "line": {
                    "color": "#636efa",
                    "dash": "solid"
                  },
                  "marker": {
                    "symbol": "circle"
                  },
                  "mode": "lines",
                  "name": "",
                  "orientation": "v",
                  "showlegend": false,
                  "type": "scatter",
                  "x": [
                    "July 2013",
                    "December 2014",
                    "November 2014",
                    "February 2014",
                    "April 2014",
                    "October 2014",
                    "May 2015",
                    "June 2015",
                    "September 2015",
                    "October 2015",
                    "February 2016",
                    "August 2017",
                    "February 2017",
                    "May 2017",
                    "September 2018",
                    "November 2018",
                    "November 2018",
                    "September 2018",
                    "August 2019",
                    "January 2019",
                    "May 2019",
                    "May 2019",
                    "September 2019",
                    "November 2019",
                    "November 2019",
                    "December 2019",
                    "September 2019",
                    "December 2020",
                    "December 2020",
                    "November 2020",
                    "July 2020",
                    "May 2020",
                    "June 2020",
                    "March 2020",
                    "March 2020",
                    "February 2020",
                    "February 2020",
                    "January 2020",
                    "March 2020",
                    "April 2021",
                    "April 2021",
                    "April 2021",
                    "May 2021",
                    "May 2021",
                    "December 2021"
                  ],
                  "xaxis": "x",
                  "y": [
                    2600000,
                    422000,
                    8000000,
                    6500000,
                    7600000,
                    4200000,
                    5800000,
                    13000000,
                    19000000,
                    24000000,
                    4500000,
                    1900000,
                    11000000,
                    9100000,
                    6000000,
                    6100000,
                    2200000,
                    2300000,
                    596000,
                    2900000,
                    2800000,
                    582000,
                    6900000,
                    2100000,
                    1800000,
                    4600000,
                    2400000,
                    810000,
                    1800000,
                    1600000,
                    2500000,
                    2300000,
                    856000,
                    1400000,
                    2000000,
                    1200000,
                    1800000,
                    2200000,
                    2800000,
                    2200000,
                    770000,
                    724000,
                    712000,
                    1900000,
                    724000
                  ],
                  "yaxis": "y"
                }
              ],
              "layout": {
                "legend": {
                  "tracegroupgap": 0
                },
                "margin": {
                  "t": 60
                },
                "template": {
                  "data": {
                    "bar": [
                      {
                        "error_x": {
                          "color": "#2a3f5f"
                        },
                        "error_y": {
                          "color": "#2a3f5f"
                        },
                        "marker": {
                          "line": {
                            "color": "#E5ECF6",
                            "width": 0.5
                          },
                          "pattern": {
                            "fillmode": "overlay",
                            "size": 10,
                            "solidity": 0.2
                          }
                        },
                        "type": "bar"
                      }
                    ],
                    "barpolar": [
                      {
                        "marker": {
                          "line": {
                            "color": "#E5ECF6",
                            "width": 0.5
                          },
                          "pattern": {
                            "fillmode": "overlay",
                            "size": 10,
                            "solidity": 0.2
                          }
                        },
                        "type": "barpolar"
                      }
                    ],
                    "carpet": [
                      {
                        "aaxis": {
                          "endlinecolor": "#2a3f5f",
                          "gridcolor": "white",
                          "linecolor": "white",
                          "minorgridcolor": "white",
                          "startlinecolor": "#2a3f5f"
                        },
                        "baxis": {
                          "endlinecolor": "#2a3f5f",
                          "gridcolor": "white",
                          "linecolor": "white",
                          "minorgridcolor": "white",
                          "startlinecolor": "#2a3f5f"
                        },
                        "type": "carpet"
                      }
                    ],
                    "choropleth": [
                      {
                        "colorbar": {
                          "outlinewidth": 0,
                          "ticks": ""
                        },
                        "type": "choropleth"
                      }
                    ],
                    "contour": [
                      {
                        "colorbar": {
                          "outlinewidth": 0,
                          "ticks": ""
                        },
                        "colorscale": [
                          [
                            0,
                            "#0d0887"
                          ],
                          [
                            0.1111111111111111,
                            "#46039f"
                          ],
                          [
                            0.2222222222222222,
                            "#7201a8"
                          ],
                          [
                            0.3333333333333333,
                            "#9c179e"
                          ],
                          [
                            0.4444444444444444,
                            "#bd3786"
                          ],
                          [
                            0.5555555555555556,
                            "#d8576b"
                          ],
                          [
                            0.6666666666666666,
                            "#ed7953"
                          ],
                          [
                            0.7777777777777778,
                            "#fb9f3a"
                          ],
                          [
                            0.8888888888888888,
                            "#fdca26"
                          ],
                          [
                            1,
                            "#f0f921"
                          ]
                        ],
                        "type": "contour"
                      }
                    ],
                    "contourcarpet": [
                      {
                        "colorbar": {
                          "outlinewidth": 0,
                          "ticks": ""
                        },
                        "type": "contourcarpet"
                      }
                    ],
                    "heatmap": [
                      {
                        "colorbar": {
                          "outlinewidth": 0,
                          "ticks": ""
                        },
                        "colorscale": [
                          [
                            0,
                            "#0d0887"
                          ],
                          [
                            0.1111111111111111,
                            "#46039f"
                          ],
                          [
                            0.2222222222222222,
                            "#7201a8"
                          ],
                          [
                            0.3333333333333333,
                            "#9c179e"
                          ],
                          [
                            0.4444444444444444,
                            "#bd3786"
                          ],
                          [
                            0.5555555555555556,
                            "#d8576b"
                          ],
                          [
                            0.6666666666666666,
                            "#ed7953"
                          ],
                          [
                            0.7777777777777778,
                            "#fb9f3a"
                          ],
                          [
                            0.8888888888888888,
                            "#fdca26"
                          ],
                          [
                            1,
                            "#f0f921"
                          ]
                        ],
                        "type": "heatmap"
                      }
                    ],
                    "heatmapgl": [
                      {
                        "colorbar": {
                          "outlinewidth": 0,
                          "ticks": ""
                        },
                        "colorscale": [
                          [
                            0,
                            "#0d0887"
                          ],
                          [
                            0.1111111111111111,
                            "#46039f"
                          ],
                          [
                            0.2222222222222222,
                            "#7201a8"
                          ],
                          [
                            0.3333333333333333,
                            "#9c179e"
                          ],
                          [
                            0.4444444444444444,
                            "#bd3786"
                          ],
                          [
                            0.5555555555555556,
                            "#d8576b"
                          ],
                          [
                            0.6666666666666666,
                            "#ed7953"
                          ],
                          [
                            0.7777777777777778,
                            "#fb9f3a"
                          ],
                          [
                            0.8888888888888888,
                            "#fdca26"
                          ],
                          [
                            1,
                            "#f0f921"
                          ]
                        ],
                        "type": "heatmapgl"
                      }
                    ],
                    "histogram": [
                      {
                        "marker": {
                          "pattern": {
                            "fillmode": "overlay",
                            "size": 10,
                            "solidity": 0.2
                          }
                        },
                        "type": "histogram"
                      }
                    ],
                    "histogram2d": [
                      {
                        "colorbar": {
                          "outlinewidth": 0,
                          "ticks": ""
                        },
                        "colorscale": [
                          [
                            0,
                            "#0d0887"
                          ],
                          [
                            0.1111111111111111,
                            "#46039f"
                          ],
                          [
                            0.2222222222222222,
                            "#7201a8"
                          ],
                          [
                            0.3333333333333333,
                            "#9c179e"
                          ],
                          [
                            0.4444444444444444,
                            "#bd3786"
                          ],
                          [
                            0.5555555555555556,
                            "#d8576b"
                          ],
                          [
                            0.6666666666666666,
                            "#ed7953"
                          ],
                          [
                            0.7777777777777778,
                            "#fb9f3a"
                          ],
                          [
                            0.8888888888888888,
                            "#fdca26"
                          ],
                          [
                            1,
                            "#f0f921"
                          ]
                        ],
                        "type": "histogram2d"
                      }
                    ],
                    "histogram2dcontour": [
                      {
                        "colorbar": {
                          "outlinewidth": 0,
                          "ticks": ""
                        },
                        "colorscale": [
                          [
                            0,
                            "#0d0887"
                          ],
                          [
                            0.1111111111111111,
                            "#46039f"
                          ],
                          [
                            0.2222222222222222,
                            "#7201a8"
                          ],
                          [
                            0.3333333333333333,
                            "#9c179e"
                          ],
                          [
                            0.4444444444444444,
                            "#bd3786"
                          ],
                          [
                            0.5555555555555556,
                            "#d8576b"
                          ],
                          [
                            0.6666666666666666,
                            "#ed7953"
                          ],
                          [
                            0.7777777777777778,
                            "#fb9f3a"
                          ],
                          [
                            0.8888888888888888,
                            "#fdca26"
                          ],
                          [
                            1,
                            "#f0f921"
                          ]
                        ],
                        "type": "histogram2dcontour"
                      }
                    ],
                    "mesh3d": [
                      {
                        "colorbar": {
                          "outlinewidth": 0,
                          "ticks": ""
                        },
                        "type": "mesh3d"
                      }
                    ],
                    "parcoords": [
                      {
                        "line": {
                          "colorbar": {
                            "outlinewidth": 0,
                            "ticks": ""
                          }
                        },
                        "type": "parcoords"
                      }
                    ],
                    "pie": [
                      {
                        "automargin": true,
                        "type": "pie"
                      }
                    ],
                    "scatter": [
                      {
                        "marker": {
                          "colorbar": {
                            "outlinewidth": 0,
                            "ticks": ""
                          }
                        },
                        "type": "scatter"
                      }
                    ],
                    "scatter3d": [
                      {
                        "line": {
                          "colorbar": {
                            "outlinewidth": 0,
                            "ticks": ""
                          }
                        },
                        "marker": {
                          "colorbar": {
                            "outlinewidth": 0,
                            "ticks": ""
                          }
                        },
                        "type": "scatter3d"
                      }
                    ],
                    "scattercarpet": [
                      {
                        "marker": {
                          "colorbar": {
                            "outlinewidth": 0,
                            "ticks": ""
                          }
                        },
                        "type": "scattercarpet"
                      }
                    ],
                    "scattergeo": [
                      {
                        "marker": {
                          "colorbar": {
                            "outlinewidth": 0,
                            "ticks": ""
                          }
                        },
                        "type": "scattergeo"
                      }
                    ],
                    "scattergl": [
                      {
                        "marker": {
                          "colorbar": {
                            "outlinewidth": 0,
                            "ticks": ""
                          }
                        },
                        "type": "scattergl"
                      }
                    ],
                    "scattermapbox": [
                      {
                        "marker": {
                          "colorbar": {
                            "outlinewidth": 0,
                            "ticks": ""
                          }
                        },
                        "type": "scattermapbox"
                      }
                    ],
                    "scatterpolar": [
                      {
                        "marker": {
                          "colorbar": {
                            "outlinewidth": 0,
                            "ticks": ""
                          }
                        },
                        "type": "scatterpolar"
                      }
                    ],
                    "scatterpolargl": [
                      {
                        "marker": {
                          "colorbar": {
                            "outlinewidth": 0,
                            "ticks": ""
                          }
                        },
                        "type": "scatterpolargl"
                      }
                    ],
                    "scatterternary": [
                      {
                        "marker": {
                          "colorbar": {
                            "outlinewidth": 0,
                            "ticks": ""
                          }
                        },
                        "type": "scatterternary"
                      }
                    ],
                    "surface": [
                      {
                        "colorbar": {
                          "outlinewidth": 0,
                          "ticks": ""
                        },
                        "colorscale": [
                          [
                            0,
                            "#0d0887"
                          ],
                          [
                            0.1111111111111111,
                            "#46039f"
                          ],
                          [
                            0.2222222222222222,
                            "#7201a8"
                          ],
                          [
                            0.3333333333333333,
                            "#9c179e"
                          ],
                          [
                            0.4444444444444444,
                            "#bd3786"
                          ],
                          [
                            0.5555555555555556,
                            "#d8576b"
                          ],
                          [
                            0.6666666666666666,
                            "#ed7953"
                          ],
                          [
                            0.7777777777777778,
                            "#fb9f3a"
                          ],
                          [
                            0.8888888888888888,
                            "#fdca26"
                          ],
                          [
                            1,
                            "#f0f921"
                          ]
                        ],
                        "type": "surface"
                      }
                    ],
                    "table": [
                      {
                        "cells": {
                          "fill": {
                            "color": "#EBF0F8"
                          },
                          "line": {
                            "color": "white"
                          }
                        },
                        "header": {
                          "fill": {
                            "color": "#C8D4E3"
                          },
                          "line": {
                            "color": "white"
                          }
                        },
                        "type": "table"
                      }
                    ]
                  },
                  "layout": {
                    "annotationdefaults": {
                      "arrowcolor": "#2a3f5f",
                      "arrowhead": 0,
                      "arrowwidth": 1
                    },
                    "autotypenumbers": "strict",
                    "coloraxis": {
                      "colorbar": {
                        "outlinewidth": 0,
                        "ticks": ""
                      }
                    },
                    "colorscale": {
                      "diverging": [
                        [
                          0,
                          "#8e0152"
                        ],
                        [
                          0.1,
                          "#c51b7d"
                        ],
                        [
                          0.2,
                          "#de77ae"
                        ],
                        [
                          0.3,
                          "#f1b6da"
                        ],
                        [
                          0.4,
                          "#fde0ef"
                        ],
                        [
                          0.5,
                          "#f7f7f7"
                        ],
                        [
                          0.6,
                          "#e6f5d0"
                        ],
                        [
                          0.7,
                          "#b8e186"
                        ],
                        [
                          0.8,
                          "#7fbc41"
                        ],
                        [
                          0.9,
                          "#4d9221"
                        ],
                        [
                          1,
                          "#276419"
                        ]
                      ],
                      "sequential": [
                        [
                          0,
                          "#0d0887"
                        ],
                        [
                          0.1111111111111111,
                          "#46039f"
                        ],
                        [
                          0.2222222222222222,
                          "#7201a8"
                        ],
                        [
                          0.3333333333333333,
                          "#9c179e"
                        ],
                        [
                          0.4444444444444444,
                          "#bd3786"
                        ],
                        [
                          0.5555555555555556,
                          "#d8576b"
                        ],
                        [
                          0.6666666666666666,
                          "#ed7953"
                        ],
                        [
                          0.7777777777777778,
                          "#fb9f3a"
                        ],
                        [
                          0.8888888888888888,
                          "#fdca26"
                        ],
                        [
                          1,
                          "#f0f921"
                        ]
                      ],
                      "sequentialminus": [
                        [
                          0,
                          "#0d0887"
                        ],
                        [
                          0.1111111111111111,
                          "#46039f"
                        ],
                        [
                          0.2222222222222222,
                          "#7201a8"
                        ],
                        [
                          0.3333333333333333,
                          "#9c179e"
                        ],
                        [
                          0.4444444444444444,
                          "#bd3786"
                        ],
                        [
                          0.5555555555555556,
                          "#d8576b"
                        ],
                        [
                          0.6666666666666666,
                          "#ed7953"
                        ],
                        [
                          0.7777777777777778,
                          "#fb9f3a"
                        ],
                        [
                          0.8888888888888888,
                          "#fdca26"
                        ],
                        [
                          1,
                          "#f0f921"
                        ]
                      ]
                    },
                    "colorway": [
                      "#636efa",
                      "#EF553B",
                      "#00cc96",
                      "#ab63fa",
                      "#FFA15A",
                      "#19d3f3",
                      "#FF6692",
                      "#B6E880",
                      "#FF97FF",
                      "#FECB52"
                    ],
                    "font": {
                      "color": "#2a3f5f"
                    },
                    "geo": {
                      "bgcolor": "white",
                      "lakecolor": "white",
                      "landcolor": "#E5ECF6",
                      "showlakes": true,
                      "showland": true,
                      "subunitcolor": "white"
                    },
                    "hoverlabel": {
                      "align": "left"
                    },
                    "hovermode": "closest",
                    "mapbox": {
                      "style": "light"
                    },
                    "paper_bgcolor": "white",
                    "plot_bgcolor": "#E5ECF6",
                    "polar": {
                      "angularaxis": {
                        "gridcolor": "white",
                        "linecolor": "white",
                        "ticks": ""
                      },
                      "bgcolor": "#E5ECF6",
                      "radialaxis": {
                        "gridcolor": "white",
                        "linecolor": "white",
                        "ticks": ""
                      }
                    },
                    "scene": {
                      "xaxis": {
                        "backgroundcolor": "#E5ECF6",
                        "gridcolor": "white",
                        "gridwidth": 2,
                        "linecolor": "white",
                        "showbackground": true,
                        "ticks": "",
                        "zerolinecolor": "white"
                      },
                      "yaxis": {
                        "backgroundcolor": "#E5ECF6",
                        "gridcolor": "white",
                        "gridwidth": 2,
                        "linecolor": "white",
                        "showbackground": true,
                        "ticks": "",
                        "zerolinecolor": "white"
                      },
                      "zaxis": {
                        "backgroundcolor": "#E5ECF6",
                        "gridcolor": "white",
                        "gridwidth": 2,
                        "linecolor": "white",
                        "showbackground": true,
                        "ticks": "",
                        "zerolinecolor": "white"
                      }
                    },
                    "shapedefaults": {
                      "line": {
                        "color": "#2a3f5f"
                      }
                    },
                    "ternary": {
                      "aaxis": {
                        "gridcolor": "white",
                        "linecolor": "white",
                        "ticks": ""
                      },
                      "baxis": {
                        "gridcolor": "white",
                        "linecolor": "white",
                        "ticks": ""
                      },
                      "bgcolor": "#E5ECF6",
                      "caxis": {
                        "gridcolor": "white",
                        "linecolor": "white",
                        "ticks": ""
                      }
                    },
                    "title": {
                      "x": 0.05
                    },
                    "xaxis": {
                      "automargin": true,
                      "gridcolor": "white",
                      "linecolor": "white",
                      "ticks": "",
                      "title": {
                        "standoff": 15
                      },
                      "zerolinecolor": "white",
                      "zerolinewidth": 2
                    },
                    "yaxis": {
                      "automargin": true,
                      "gridcolor": "white",
                      "linecolor": "white",
                      "ticks": "",
                      "title": {
                        "standoff": 15
                      },
                      "zerolinecolor": "white",
                      "zerolinewidth": 2
                    }
                  }
                },
                "xaxis": {
                  "anchor": "y",
                  "domain": [
                    0,
                    1
                  ],
                  "title": {
                    "text": "date"
                  }
                },
                "yaxis": {
                  "anchor": "x",
                  "domain": [
                    0,
                    1
                  ],
                  "title": {
                    "text": "views"
                  }
                }
              }
            }
          },
          "metadata": {},
          "output_type": "display_data"
        }
      ],
      "source": [
        "# fig = px.line(alex_df, x=\"date\", y=\"title\", title='Alex Gendler ')\n",
        "# fig.show()\n",
        "\n",
        "fig = px.line(alex_df_sorted, x=\"date\", y=\"views\",hover_data=['title'])\n",
        "fig.show()"
      ]
    },
    {
      "cell_type": "code",
      "execution_count": 30,
      "metadata": {
        "colab": {
          "base_uri": "https://localhost:8080/",
          "height": 426
        },
        "id": "chVN9YEanQtO",
        "outputId": "37c64ce7-0918-4d37-a1b9-028d0e9b1390"
      },
      "outputs": [
        {
          "data": {
            "text/html": [
              "<div>\n",
              "<style scoped>\n",
              "    .dataframe tbody tr th:only-of-type {\n",
              "        vertical-align: middle;\n",
              "    }\n",
              "\n",
              "    .dataframe tbody tr th {\n",
              "        vertical-align: top;\n",
              "    }\n",
              "\n",
              "    .dataframe thead th {\n",
              "        text-align: right;\n",
              "    }\n",
              "</style>\n",
              "<table border=\"1\" class=\"dataframe\">\n",
              "  <thead>\n",
              "    <tr style=\"text-align: right;\">\n",
              "      <th></th>\n",
              "      <th>month</th>\n",
              "      <th>counts</th>\n",
              "    </tr>\n",
              "  </thead>\n",
              "  <tbody>\n",
              "    <tr>\n",
              "      <th>0</th>\n",
              "      <td>February</td>\n",
              "      <td>725</td>\n",
              "    </tr>\n",
              "    <tr>\n",
              "      <th>1</th>\n",
              "      <td>November</td>\n",
              "      <td>682</td>\n",
              "    </tr>\n",
              "    <tr>\n",
              "      <th>2</th>\n",
              "      <td>October</td>\n",
              "      <td>585</td>\n",
              "    </tr>\n",
              "    <tr>\n",
              "      <th>3</th>\n",
              "      <td>March</td>\n",
              "      <td>580</td>\n",
              "    </tr>\n",
              "    <tr>\n",
              "      <th>4</th>\n",
              "      <td>April</td>\n",
              "      <td>576</td>\n",
              "    </tr>\n",
              "    <tr>\n",
              "      <th>5</th>\n",
              "      <td>June</td>\n",
              "      <td>493</td>\n",
              "    </tr>\n",
              "    <tr>\n",
              "      <th>6</th>\n",
              "      <td>July</td>\n",
              "      <td>446</td>\n",
              "    </tr>\n",
              "    <tr>\n",
              "      <th>7</th>\n",
              "      <td>September</td>\n",
              "      <td>349</td>\n",
              "    </tr>\n",
              "    <tr>\n",
              "      <th>8</th>\n",
              "      <td>December</td>\n",
              "      <td>334</td>\n",
              "    </tr>\n",
              "    <tr>\n",
              "      <th>9</th>\n",
              "      <td>May</td>\n",
              "      <td>322</td>\n",
              "    </tr>\n",
              "    <tr>\n",
              "      <th>10</th>\n",
              "      <td>August</td>\n",
              "      <td>200</td>\n",
              "    </tr>\n",
              "    <tr>\n",
              "      <th>11</th>\n",
              "      <td>January</td>\n",
              "      <td>147</td>\n",
              "    </tr>\n",
              "  </tbody>\n",
              "</table>\n",
              "</div>"
            ],
            "text/plain": [
              "        month  counts\n",
              "0    February     725\n",
              "1    November     682\n",
              "2     October     585\n",
              "3       March     580\n",
              "4       April     576\n",
              "5        June     493\n",
              "6        July     446\n",
              "7   September     349\n",
              "8    December     334\n",
              "9         May     322\n",
              "10     August     200\n",
              "11    January     147"
            ]
          },
          "execution_count": 30,
          "metadata": {},
          "output_type": "execute_result"
        }
      ],
      "source": [
        "#top Months \n",
        "# topMonth=df.value_counts('month').reset_index()\n",
        "topMonth=df['month'].value_counts().reset_index()\n",
        "topMonth.columns=['month','counts']\n",
        "topMonth"
      ]
    },
    {
      "cell_type": "code",
      "execution_count": 31,
      "metadata": {
        "colab": {
          "base_uri": "https://localhost:8080/",
          "height": 542
        },
        "id": "fFNTQlc7nm6x",
        "outputId": "5dddd97a-cdd0-41e2-b0f0-e94864302898"
      },
      "outputs": [
        {
          "data": {
            "application/vnd.plotly.v1+json": {
              "config": {
                "plotlyServerURL": "https://plot.ly"
              },
              "data": [
                {
                  "alignmentgroup": "True",
                  "hovertemplate": "month=%{x}<br>counts=%{y}<extra></extra>",
                  "legendgroup": "",
                  "marker": {
                    "color": "#636efa",
                    "pattern": {
                      "shape": ""
                    }
                  },
                  "name": "",
                  "offsetgroup": "",
                  "orientation": "v",
                  "showlegend": false,
                  "textposition": "auto",
                  "type": "bar",
                  "x": [
                    "February",
                    "November",
                    "October",
                    "March",
                    "April",
                    "June",
                    "July",
                    "September",
                    "December",
                    "May",
                    "August",
                    "January"
                  ],
                  "xaxis": "x",
                  "y": [
                    725,
                    682,
                    585,
                    580,
                    576,
                    493,
                    446,
                    349,
                    334,
                    322,
                    200,
                    147
                  ],
                  "yaxis": "y"
                }
              ],
              "layout": {
                "barmode": "relative",
                "legend": {
                  "tracegroupgap": 0
                },
                "template": {
                  "data": {
                    "bar": [
                      {
                        "error_x": {
                          "color": "#2a3f5f"
                        },
                        "error_y": {
                          "color": "#2a3f5f"
                        },
                        "marker": {
                          "line": {
                            "color": "#E5ECF6",
                            "width": 0.5
                          },
                          "pattern": {
                            "fillmode": "overlay",
                            "size": 10,
                            "solidity": 0.2
                          }
                        },
                        "type": "bar"
                      }
                    ],
                    "barpolar": [
                      {
                        "marker": {
                          "line": {
                            "color": "#E5ECF6",
                            "width": 0.5
                          },
                          "pattern": {
                            "fillmode": "overlay",
                            "size": 10,
                            "solidity": 0.2
                          }
                        },
                        "type": "barpolar"
                      }
                    ],
                    "carpet": [
                      {
                        "aaxis": {
                          "endlinecolor": "#2a3f5f",
                          "gridcolor": "white",
                          "linecolor": "white",
                          "minorgridcolor": "white",
                          "startlinecolor": "#2a3f5f"
                        },
                        "baxis": {
                          "endlinecolor": "#2a3f5f",
                          "gridcolor": "white",
                          "linecolor": "white",
                          "minorgridcolor": "white",
                          "startlinecolor": "#2a3f5f"
                        },
                        "type": "carpet"
                      }
                    ],
                    "choropleth": [
                      {
                        "colorbar": {
                          "outlinewidth": 0,
                          "ticks": ""
                        },
                        "type": "choropleth"
                      }
                    ],
                    "contour": [
                      {
                        "colorbar": {
                          "outlinewidth": 0,
                          "ticks": ""
                        },
                        "colorscale": [
                          [
                            0,
                            "#0d0887"
                          ],
                          [
                            0.1111111111111111,
                            "#46039f"
                          ],
                          [
                            0.2222222222222222,
                            "#7201a8"
                          ],
                          [
                            0.3333333333333333,
                            "#9c179e"
                          ],
                          [
                            0.4444444444444444,
                            "#bd3786"
                          ],
                          [
                            0.5555555555555556,
                            "#d8576b"
                          ],
                          [
                            0.6666666666666666,
                            "#ed7953"
                          ],
                          [
                            0.7777777777777778,
                            "#fb9f3a"
                          ],
                          [
                            0.8888888888888888,
                            "#fdca26"
                          ],
                          [
                            1,
                            "#f0f921"
                          ]
                        ],
                        "type": "contour"
                      }
                    ],
                    "contourcarpet": [
                      {
                        "colorbar": {
                          "outlinewidth": 0,
                          "ticks": ""
                        },
                        "type": "contourcarpet"
                      }
                    ],
                    "heatmap": [
                      {
                        "colorbar": {
                          "outlinewidth": 0,
                          "ticks": ""
                        },
                        "colorscale": [
                          [
                            0,
                            "#0d0887"
                          ],
                          [
                            0.1111111111111111,
                            "#46039f"
                          ],
                          [
                            0.2222222222222222,
                            "#7201a8"
                          ],
                          [
                            0.3333333333333333,
                            "#9c179e"
                          ],
                          [
                            0.4444444444444444,
                            "#bd3786"
                          ],
                          [
                            0.5555555555555556,
                            "#d8576b"
                          ],
                          [
                            0.6666666666666666,
                            "#ed7953"
                          ],
                          [
                            0.7777777777777778,
                            "#fb9f3a"
                          ],
                          [
                            0.8888888888888888,
                            "#fdca26"
                          ],
                          [
                            1,
                            "#f0f921"
                          ]
                        ],
                        "type": "heatmap"
                      }
                    ],
                    "heatmapgl": [
                      {
                        "colorbar": {
                          "outlinewidth": 0,
                          "ticks": ""
                        },
                        "colorscale": [
                          [
                            0,
                            "#0d0887"
                          ],
                          [
                            0.1111111111111111,
                            "#46039f"
                          ],
                          [
                            0.2222222222222222,
                            "#7201a8"
                          ],
                          [
                            0.3333333333333333,
                            "#9c179e"
                          ],
                          [
                            0.4444444444444444,
                            "#bd3786"
                          ],
                          [
                            0.5555555555555556,
                            "#d8576b"
                          ],
                          [
                            0.6666666666666666,
                            "#ed7953"
                          ],
                          [
                            0.7777777777777778,
                            "#fb9f3a"
                          ],
                          [
                            0.8888888888888888,
                            "#fdca26"
                          ],
                          [
                            1,
                            "#f0f921"
                          ]
                        ],
                        "type": "heatmapgl"
                      }
                    ],
                    "histogram": [
                      {
                        "marker": {
                          "pattern": {
                            "fillmode": "overlay",
                            "size": 10,
                            "solidity": 0.2
                          }
                        },
                        "type": "histogram"
                      }
                    ],
                    "histogram2d": [
                      {
                        "colorbar": {
                          "outlinewidth": 0,
                          "ticks": ""
                        },
                        "colorscale": [
                          [
                            0,
                            "#0d0887"
                          ],
                          [
                            0.1111111111111111,
                            "#46039f"
                          ],
                          [
                            0.2222222222222222,
                            "#7201a8"
                          ],
                          [
                            0.3333333333333333,
                            "#9c179e"
                          ],
                          [
                            0.4444444444444444,
                            "#bd3786"
                          ],
                          [
                            0.5555555555555556,
                            "#d8576b"
                          ],
                          [
                            0.6666666666666666,
                            "#ed7953"
                          ],
                          [
                            0.7777777777777778,
                            "#fb9f3a"
                          ],
                          [
                            0.8888888888888888,
                            "#fdca26"
                          ],
                          [
                            1,
                            "#f0f921"
                          ]
                        ],
                        "type": "histogram2d"
                      }
                    ],
                    "histogram2dcontour": [
                      {
                        "colorbar": {
                          "outlinewidth": 0,
                          "ticks": ""
                        },
                        "colorscale": [
                          [
                            0,
                            "#0d0887"
                          ],
                          [
                            0.1111111111111111,
                            "#46039f"
                          ],
                          [
                            0.2222222222222222,
                            "#7201a8"
                          ],
                          [
                            0.3333333333333333,
                            "#9c179e"
                          ],
                          [
                            0.4444444444444444,
                            "#bd3786"
                          ],
                          [
                            0.5555555555555556,
                            "#d8576b"
                          ],
                          [
                            0.6666666666666666,
                            "#ed7953"
                          ],
                          [
                            0.7777777777777778,
                            "#fb9f3a"
                          ],
                          [
                            0.8888888888888888,
                            "#fdca26"
                          ],
                          [
                            1,
                            "#f0f921"
                          ]
                        ],
                        "type": "histogram2dcontour"
                      }
                    ],
                    "mesh3d": [
                      {
                        "colorbar": {
                          "outlinewidth": 0,
                          "ticks": ""
                        },
                        "type": "mesh3d"
                      }
                    ],
                    "parcoords": [
                      {
                        "line": {
                          "colorbar": {
                            "outlinewidth": 0,
                            "ticks": ""
                          }
                        },
                        "type": "parcoords"
                      }
                    ],
                    "pie": [
                      {
                        "automargin": true,
                        "type": "pie"
                      }
                    ],
                    "scatter": [
                      {
                        "marker": {
                          "colorbar": {
                            "outlinewidth": 0,
                            "ticks": ""
                          }
                        },
                        "type": "scatter"
                      }
                    ],
                    "scatter3d": [
                      {
                        "line": {
                          "colorbar": {
                            "outlinewidth": 0,
                            "ticks": ""
                          }
                        },
                        "marker": {
                          "colorbar": {
                            "outlinewidth": 0,
                            "ticks": ""
                          }
                        },
                        "type": "scatter3d"
                      }
                    ],
                    "scattercarpet": [
                      {
                        "marker": {
                          "colorbar": {
                            "outlinewidth": 0,
                            "ticks": ""
                          }
                        },
                        "type": "scattercarpet"
                      }
                    ],
                    "scattergeo": [
                      {
                        "marker": {
                          "colorbar": {
                            "outlinewidth": 0,
                            "ticks": ""
                          }
                        },
                        "type": "scattergeo"
                      }
                    ],
                    "scattergl": [
                      {
                        "marker": {
                          "colorbar": {
                            "outlinewidth": 0,
                            "ticks": ""
                          }
                        },
                        "type": "scattergl"
                      }
                    ],
                    "scattermapbox": [
                      {
                        "marker": {
                          "colorbar": {
                            "outlinewidth": 0,
                            "ticks": ""
                          }
                        },
                        "type": "scattermapbox"
                      }
                    ],
                    "scatterpolar": [
                      {
                        "marker": {
                          "colorbar": {
                            "outlinewidth": 0,
                            "ticks": ""
                          }
                        },
                        "type": "scatterpolar"
                      }
                    ],
                    "scatterpolargl": [
                      {
                        "marker": {
                          "colorbar": {
                            "outlinewidth": 0,
                            "ticks": ""
                          }
                        },
                        "type": "scatterpolargl"
                      }
                    ],
                    "scatterternary": [
                      {
                        "marker": {
                          "colorbar": {
                            "outlinewidth": 0,
                            "ticks": ""
                          }
                        },
                        "type": "scatterternary"
                      }
                    ],
                    "surface": [
                      {
                        "colorbar": {
                          "outlinewidth": 0,
                          "ticks": ""
                        },
                        "colorscale": [
                          [
                            0,
                            "#0d0887"
                          ],
                          [
                            0.1111111111111111,
                            "#46039f"
                          ],
                          [
                            0.2222222222222222,
                            "#7201a8"
                          ],
                          [
                            0.3333333333333333,
                            "#9c179e"
                          ],
                          [
                            0.4444444444444444,
                            "#bd3786"
                          ],
                          [
                            0.5555555555555556,
                            "#d8576b"
                          ],
                          [
                            0.6666666666666666,
                            "#ed7953"
                          ],
                          [
                            0.7777777777777778,
                            "#fb9f3a"
                          ],
                          [
                            0.8888888888888888,
                            "#fdca26"
                          ],
                          [
                            1,
                            "#f0f921"
                          ]
                        ],
                        "type": "surface"
                      }
                    ],
                    "table": [
                      {
                        "cells": {
                          "fill": {
                            "color": "#EBF0F8"
                          },
                          "line": {
                            "color": "white"
                          }
                        },
                        "header": {
                          "fill": {
                            "color": "#C8D4E3"
                          },
                          "line": {
                            "color": "white"
                          }
                        },
                        "type": "table"
                      }
                    ]
                  },
                  "layout": {
                    "annotationdefaults": {
                      "arrowcolor": "#2a3f5f",
                      "arrowhead": 0,
                      "arrowwidth": 1
                    },
                    "autotypenumbers": "strict",
                    "coloraxis": {
                      "colorbar": {
                        "outlinewidth": 0,
                        "ticks": ""
                      }
                    },
                    "colorscale": {
                      "diverging": [
                        [
                          0,
                          "#8e0152"
                        ],
                        [
                          0.1,
                          "#c51b7d"
                        ],
                        [
                          0.2,
                          "#de77ae"
                        ],
                        [
                          0.3,
                          "#f1b6da"
                        ],
                        [
                          0.4,
                          "#fde0ef"
                        ],
                        [
                          0.5,
                          "#f7f7f7"
                        ],
                        [
                          0.6,
                          "#e6f5d0"
                        ],
                        [
                          0.7,
                          "#b8e186"
                        ],
                        [
                          0.8,
                          "#7fbc41"
                        ],
                        [
                          0.9,
                          "#4d9221"
                        ],
                        [
                          1,
                          "#276419"
                        ]
                      ],
                      "sequential": [
                        [
                          0,
                          "#0d0887"
                        ],
                        [
                          0.1111111111111111,
                          "#46039f"
                        ],
                        [
                          0.2222222222222222,
                          "#7201a8"
                        ],
                        [
                          0.3333333333333333,
                          "#9c179e"
                        ],
                        [
                          0.4444444444444444,
                          "#bd3786"
                        ],
                        [
                          0.5555555555555556,
                          "#d8576b"
                        ],
                        [
                          0.6666666666666666,
                          "#ed7953"
                        ],
                        [
                          0.7777777777777778,
                          "#fb9f3a"
                        ],
                        [
                          0.8888888888888888,
                          "#fdca26"
                        ],
                        [
                          1,
                          "#f0f921"
                        ]
                      ],
                      "sequentialminus": [
                        [
                          0,
                          "#0d0887"
                        ],
                        [
                          0.1111111111111111,
                          "#46039f"
                        ],
                        [
                          0.2222222222222222,
                          "#7201a8"
                        ],
                        [
                          0.3333333333333333,
                          "#9c179e"
                        ],
                        [
                          0.4444444444444444,
                          "#bd3786"
                        ],
                        [
                          0.5555555555555556,
                          "#d8576b"
                        ],
                        [
                          0.6666666666666666,
                          "#ed7953"
                        ],
                        [
                          0.7777777777777778,
                          "#fb9f3a"
                        ],
                        [
                          0.8888888888888888,
                          "#fdca26"
                        ],
                        [
                          1,
                          "#f0f921"
                        ]
                      ]
                    },
                    "colorway": [
                      "#636efa",
                      "#EF553B",
                      "#00cc96",
                      "#ab63fa",
                      "#FFA15A",
                      "#19d3f3",
                      "#FF6692",
                      "#B6E880",
                      "#FF97FF",
                      "#FECB52"
                    ],
                    "font": {
                      "color": "#2a3f5f"
                    },
                    "geo": {
                      "bgcolor": "white",
                      "lakecolor": "white",
                      "landcolor": "#E5ECF6",
                      "showlakes": true,
                      "showland": true,
                      "subunitcolor": "white"
                    },
                    "hoverlabel": {
                      "align": "left"
                    },
                    "hovermode": "closest",
                    "mapbox": {
                      "style": "light"
                    },
                    "paper_bgcolor": "white",
                    "plot_bgcolor": "#E5ECF6",
                    "polar": {
                      "angularaxis": {
                        "gridcolor": "white",
                        "linecolor": "white",
                        "ticks": ""
                      },
                      "bgcolor": "#E5ECF6",
                      "radialaxis": {
                        "gridcolor": "white",
                        "linecolor": "white",
                        "ticks": ""
                      }
                    },
                    "scene": {
                      "xaxis": {
                        "backgroundcolor": "#E5ECF6",
                        "gridcolor": "white",
                        "gridwidth": 2,
                        "linecolor": "white",
                        "showbackground": true,
                        "ticks": "",
                        "zerolinecolor": "white"
                      },
                      "yaxis": {
                        "backgroundcolor": "#E5ECF6",
                        "gridcolor": "white",
                        "gridwidth": 2,
                        "linecolor": "white",
                        "showbackground": true,
                        "ticks": "",
                        "zerolinecolor": "white"
                      },
                      "zaxis": {
                        "backgroundcolor": "#E5ECF6",
                        "gridcolor": "white",
                        "gridwidth": 2,
                        "linecolor": "white",
                        "showbackground": true,
                        "ticks": "",
                        "zerolinecolor": "white"
                      }
                    },
                    "shapedefaults": {
                      "line": {
                        "color": "#2a3f5f"
                      }
                    },
                    "ternary": {
                      "aaxis": {
                        "gridcolor": "white",
                        "linecolor": "white",
                        "ticks": ""
                      },
                      "baxis": {
                        "gridcolor": "white",
                        "linecolor": "white",
                        "ticks": ""
                      },
                      "bgcolor": "#E5ECF6",
                      "caxis": {
                        "gridcolor": "white",
                        "linecolor": "white",
                        "ticks": ""
                      }
                    },
                    "title": {
                      "x": 0.05
                    },
                    "xaxis": {
                      "automargin": true,
                      "gridcolor": "white",
                      "linecolor": "white",
                      "ticks": "",
                      "title": {
                        "standoff": 15
                      },
                      "zerolinecolor": "white",
                      "zerolinewidth": 2
                    },
                    "yaxis": {
                      "automargin": true,
                      "gridcolor": "white",
                      "linecolor": "white",
                      "ticks": "",
                      "title": {
                        "standoff": 15
                      },
                      "zerolinecolor": "white",
                      "zerolinewidth": 2
                    }
                  }
                },
                "title": {
                  "text": "Number of Ted Talk releases each month"
                },
                "xaxis": {
                  "anchor": "y",
                  "domain": [
                    0,
                    1
                  ],
                  "title": {
                    "text": "month"
                  }
                },
                "yaxis": {
                  "anchor": "x",
                  "domain": [
                    0,
                    1
                  ],
                  "title": {
                    "text": "counts"
                  }
                }
              }
            }
          },
          "metadata": {},
          "output_type": "display_data"
        }
      ],
      "source": [
        "fig = px.bar(topMonth, x=\"month\", y=\"counts\", title=\"Number of Ted Talk releases each month\")\n",
        "fig.show()"
      ]
    },
    {
      "cell_type": "markdown",
      "metadata": {
        "id": "VvJXN50Azq7Z"
      },
      "source": [
        "February and Novemeber are the most popular months to give a ted talk where August and January are least popular."
      ]
    },
    {
      "cell_type": "code",
      "execution_count": 33,
      "metadata": {
        "colab": {
          "base_uri": "https://localhost:8080/",
          "height": 990
        },
        "id": "zAnKQWNYubHm",
        "outputId": "1b9c1f40-31e0-4d49-e6c8-a3034eca413c"
      },
      "outputs": [
        {
          "data": {
            "text/html": [
              "<div>\n",
              "<style scoped>\n",
              "    .dataframe tbody tr th:only-of-type {\n",
              "        vertical-align: middle;\n",
              "    }\n",
              "\n",
              "    .dataframe tbody tr th {\n",
              "        vertical-align: top;\n",
              "    }\n",
              "\n",
              "    .dataframe thead th {\n",
              "        text-align: right;\n",
              "    }\n",
              "</style>\n",
              "<table border=\"1\" class=\"dataframe\">\n",
              "  <thead>\n",
              "    <tr style=\"text-align: right;\">\n",
              "      <th></th>\n",
              "      <th>year</th>\n",
              "      <th>counts</th>\n",
              "    </tr>\n",
              "  </thead>\n",
              "  <tbody>\n",
              "    <tr>\n",
              "      <th>0</th>\n",
              "      <td>2019</td>\n",
              "      <td>544</td>\n",
              "    </tr>\n",
              "    <tr>\n",
              "      <th>1</th>\n",
              "      <td>2020</td>\n",
              "      <td>501</td>\n",
              "    </tr>\n",
              "    <tr>\n",
              "      <th>2</th>\n",
              "      <td>2017</td>\n",
              "      <td>495</td>\n",
              "    </tr>\n",
              "    <tr>\n",
              "      <th>3</th>\n",
              "      <td>2018</td>\n",
              "      <td>473</td>\n",
              "    </tr>\n",
              "    <tr>\n",
              "      <th>4</th>\n",
              "      <td>2016</td>\n",
              "      <td>399</td>\n",
              "    </tr>\n",
              "    <tr>\n",
              "      <th>5</th>\n",
              "      <td>2021</td>\n",
              "      <td>390</td>\n",
              "    </tr>\n",
              "    <tr>\n",
              "      <th>6</th>\n",
              "      <td>2013</td>\n",
              "      <td>388</td>\n",
              "    </tr>\n",
              "    <tr>\n",
              "      <th>7</th>\n",
              "      <td>2015</td>\n",
              "      <td>376</td>\n",
              "    </tr>\n",
              "    <tr>\n",
              "      <th>8</th>\n",
              "      <td>2014</td>\n",
              "      <td>357</td>\n",
              "    </tr>\n",
              "    <tr>\n",
              "      <th>9</th>\n",
              "      <td>2012</td>\n",
              "      <td>302</td>\n",
              "    </tr>\n",
              "    <tr>\n",
              "      <th>10</th>\n",
              "      <td>2011</td>\n",
              "      <td>271</td>\n",
              "    </tr>\n",
              "    <tr>\n",
              "      <th>11</th>\n",
              "      <td>2010</td>\n",
              "      <td>267</td>\n",
              "    </tr>\n",
              "    <tr>\n",
              "      <th>12</th>\n",
              "      <td>2009</td>\n",
              "      <td>233</td>\n",
              "    </tr>\n",
              "    <tr>\n",
              "      <th>13</th>\n",
              "      <td>2007</td>\n",
              "      <td>113</td>\n",
              "    </tr>\n",
              "    <tr>\n",
              "      <th>14</th>\n",
              "      <td>2008</td>\n",
              "      <td>84</td>\n",
              "    </tr>\n",
              "    <tr>\n",
              "      <th>15</th>\n",
              "      <td>2005</td>\n",
              "      <td>65</td>\n",
              "    </tr>\n",
              "    <tr>\n",
              "      <th>16</th>\n",
              "      <td>2006</td>\n",
              "      <td>49</td>\n",
              "    </tr>\n",
              "    <tr>\n",
              "      <th>17</th>\n",
              "      <td>2003</td>\n",
              "      <td>34</td>\n",
              "    </tr>\n",
              "    <tr>\n",
              "      <th>18</th>\n",
              "      <td>2004</td>\n",
              "      <td>33</td>\n",
              "    </tr>\n",
              "    <tr>\n",
              "      <th>19</th>\n",
              "      <td>2002</td>\n",
              "      <td>26</td>\n",
              "    </tr>\n",
              "    <tr>\n",
              "      <th>20</th>\n",
              "      <td>2022</td>\n",
              "      <td>20</td>\n",
              "    </tr>\n",
              "    <tr>\n",
              "      <th>21</th>\n",
              "      <td>1998</td>\n",
              "      <td>6</td>\n",
              "    </tr>\n",
              "    <tr>\n",
              "      <th>22</th>\n",
              "      <td>2001</td>\n",
              "      <td>5</td>\n",
              "    </tr>\n",
              "    <tr>\n",
              "      <th>23</th>\n",
              "      <td>1970</td>\n",
              "      <td>2</td>\n",
              "    </tr>\n",
              "    <tr>\n",
              "      <th>24</th>\n",
              "      <td>1984</td>\n",
              "      <td>1</td>\n",
              "    </tr>\n",
              "    <tr>\n",
              "      <th>25</th>\n",
              "      <td>1990</td>\n",
              "      <td>1</td>\n",
              "    </tr>\n",
              "    <tr>\n",
              "      <th>26</th>\n",
              "      <td>1994</td>\n",
              "      <td>1</td>\n",
              "    </tr>\n",
              "    <tr>\n",
              "      <th>27</th>\n",
              "      <td>1983</td>\n",
              "      <td>1</td>\n",
              "    </tr>\n",
              "    <tr>\n",
              "      <th>28</th>\n",
              "      <td>1991</td>\n",
              "      <td>1</td>\n",
              "    </tr>\n",
              "    <tr>\n",
              "      <th>29</th>\n",
              "      <td>1972</td>\n",
              "      <td>1</td>\n",
              "    </tr>\n",
              "  </tbody>\n",
              "</table>\n",
              "</div>"
            ],
            "text/plain": [
              "    year  counts\n",
              "0   2019     544\n",
              "1   2020     501\n",
              "2   2017     495\n",
              "3   2018     473\n",
              "4   2016     399\n",
              "5   2021     390\n",
              "6   2013     388\n",
              "7   2015     376\n",
              "8   2014     357\n",
              "9   2012     302\n",
              "10  2011     271\n",
              "11  2010     267\n",
              "12  2009     233\n",
              "13  2007     113\n",
              "14  2008      84\n",
              "15  2005      65\n",
              "16  2006      49\n",
              "17  2003      34\n",
              "18  2004      33\n",
              "19  2002      26\n",
              "20  2022      20\n",
              "21  1998       6\n",
              "22  2001       5\n",
              "23  1970       2\n",
              "24  1984       1\n",
              "25  1990       1\n",
              "26  1994       1\n",
              "27  1983       1\n",
              "28  1991       1\n",
              "29  1972       1"
            ]
          },
          "execution_count": 33,
          "metadata": {},
          "output_type": "execute_result"
        }
      ],
      "source": [
        "#top Years\n",
        "# topYear=df.value_counts('year').reset_index()\n",
        "topYear=df['year'].value_counts().reset_index()\n",
        "topYear.columns=['year','counts']\n",
        "# topYear=topYear.head(22)\n",
        "topYear"
      ]
    },
    {
      "cell_type": "code",
      "execution_count": 34,
      "metadata": {
        "colab": {
          "base_uri": "https://localhost:8080/"
        },
        "id": "mMgkJbXz6T7w",
        "outputId": "27f3fe45-f83f-42bc-861c-17bcc12731a6"
      },
      "outputs": [
        {
          "data": {
            "text/plain": [
              "year      1970\n",
              "counts       1\n",
              "dtype: int64"
            ]
          },
          "execution_count": 34,
          "metadata": {},
          "output_type": "execute_result"
        }
      ],
      "source": [
        "topYear.min()"
      ]
    },
    {
      "cell_type": "code",
      "execution_count": 35,
      "metadata": {
        "colab": {
          "base_uri": "https://localhost:8080/"
        },
        "id": "DQi-7u3e6tmI",
        "outputId": "c6f1efa8-7bb4-4611-8f45-bc1f2e0f75d1"
      },
      "outputs": [
        {
          "name": "stdout",
          "output_type": "stream",
          "text": [
            "                                 title          author          date   views  \\\n",
            "736               Innovations in sleep      Beautyrest  January 1970   60000   \n",
            "738  Love letters to what we hold dear  Debbie Millman  January 1970  192000   \n",
            "\n",
            "     likes                                               link  year    month  \n",
            "736   1800  https://ted.com/talks/beautyrest_innovations_i...  1970  January  \n",
            "738   5700  https://ted.com/talks/debbie_millman_love_lett...  1970  January  \n"
          ]
        }
      ],
      "source": [
        "print(df[df['year']== 1970])"
      ]
    },
    {
      "cell_type": "code",
      "execution_count": 36,
      "metadata": {
        "colab": {
          "base_uri": "https://localhost:8080/",
          "height": 542
        },
        "id": "k9NXS5AAxF-F",
        "outputId": "81bb3447-bc36-4744-d580-2cfe6a8eaf87"
      },
      "outputs": [
        {
          "data": {
            "application/vnd.plotly.v1+json": {
              "config": {
                "plotlyServerURL": "https://plot.ly"
              },
              "data": [
                {
                  "alignmentgroup": "True",
                  "hovertemplate": "year=%{x}<br>counts=%{y}<extra></extra>",
                  "legendgroup": "",
                  "marker": {
                    "color": "#636efa",
                    "pattern": {
                      "shape": ""
                    }
                  },
                  "name": "",
                  "offsetgroup": "",
                  "orientation": "v",
                  "showlegend": false,
                  "textposition": "auto",
                  "type": "bar",
                  "x": [
                    2019,
                    2020,
                    2017,
                    2018,
                    2016,
                    2021,
                    2013,
                    2015,
                    2014,
                    2012,
                    2011,
                    2010,
                    2009,
                    2007,
                    2008,
                    2005,
                    2006,
                    2003,
                    2004,
                    2002,
                    2022,
                    1998,
                    2001,
                    1970,
                    1984,
                    1990,
                    1994,
                    1983,
                    1991,
                    1972
                  ],
                  "xaxis": "x",
                  "y": [
                    544,
                    501,
                    495,
                    473,
                    399,
                    390,
                    388,
                    376,
                    357,
                    302,
                    271,
                    267,
                    233,
                    113,
                    84,
                    65,
                    49,
                    34,
                    33,
                    26,
                    20,
                    6,
                    5,
                    2,
                    1,
                    1,
                    1,
                    1,
                    1,
                    1
                  ],
                  "yaxis": "y"
                }
              ],
              "layout": {
                "barmode": "relative",
                "legend": {
                  "tracegroupgap": 0
                },
                "template": {
                  "data": {
                    "bar": [
                      {
                        "error_x": {
                          "color": "#2a3f5f"
                        },
                        "error_y": {
                          "color": "#2a3f5f"
                        },
                        "marker": {
                          "line": {
                            "color": "#E5ECF6",
                            "width": 0.5
                          },
                          "pattern": {
                            "fillmode": "overlay",
                            "size": 10,
                            "solidity": 0.2
                          }
                        },
                        "type": "bar"
                      }
                    ],
                    "barpolar": [
                      {
                        "marker": {
                          "line": {
                            "color": "#E5ECF6",
                            "width": 0.5
                          },
                          "pattern": {
                            "fillmode": "overlay",
                            "size": 10,
                            "solidity": 0.2
                          }
                        },
                        "type": "barpolar"
                      }
                    ],
                    "carpet": [
                      {
                        "aaxis": {
                          "endlinecolor": "#2a3f5f",
                          "gridcolor": "white",
                          "linecolor": "white",
                          "minorgridcolor": "white",
                          "startlinecolor": "#2a3f5f"
                        },
                        "baxis": {
                          "endlinecolor": "#2a3f5f",
                          "gridcolor": "white",
                          "linecolor": "white",
                          "minorgridcolor": "white",
                          "startlinecolor": "#2a3f5f"
                        },
                        "type": "carpet"
                      }
                    ],
                    "choropleth": [
                      {
                        "colorbar": {
                          "outlinewidth": 0,
                          "ticks": ""
                        },
                        "type": "choropleth"
                      }
                    ],
                    "contour": [
                      {
                        "colorbar": {
                          "outlinewidth": 0,
                          "ticks": ""
                        },
                        "colorscale": [
                          [
                            0,
                            "#0d0887"
                          ],
                          [
                            0.1111111111111111,
                            "#46039f"
                          ],
                          [
                            0.2222222222222222,
                            "#7201a8"
                          ],
                          [
                            0.3333333333333333,
                            "#9c179e"
                          ],
                          [
                            0.4444444444444444,
                            "#bd3786"
                          ],
                          [
                            0.5555555555555556,
                            "#d8576b"
                          ],
                          [
                            0.6666666666666666,
                            "#ed7953"
                          ],
                          [
                            0.7777777777777778,
                            "#fb9f3a"
                          ],
                          [
                            0.8888888888888888,
                            "#fdca26"
                          ],
                          [
                            1,
                            "#f0f921"
                          ]
                        ],
                        "type": "contour"
                      }
                    ],
                    "contourcarpet": [
                      {
                        "colorbar": {
                          "outlinewidth": 0,
                          "ticks": ""
                        },
                        "type": "contourcarpet"
                      }
                    ],
                    "heatmap": [
                      {
                        "colorbar": {
                          "outlinewidth": 0,
                          "ticks": ""
                        },
                        "colorscale": [
                          [
                            0,
                            "#0d0887"
                          ],
                          [
                            0.1111111111111111,
                            "#46039f"
                          ],
                          [
                            0.2222222222222222,
                            "#7201a8"
                          ],
                          [
                            0.3333333333333333,
                            "#9c179e"
                          ],
                          [
                            0.4444444444444444,
                            "#bd3786"
                          ],
                          [
                            0.5555555555555556,
                            "#d8576b"
                          ],
                          [
                            0.6666666666666666,
                            "#ed7953"
                          ],
                          [
                            0.7777777777777778,
                            "#fb9f3a"
                          ],
                          [
                            0.8888888888888888,
                            "#fdca26"
                          ],
                          [
                            1,
                            "#f0f921"
                          ]
                        ],
                        "type": "heatmap"
                      }
                    ],
                    "heatmapgl": [
                      {
                        "colorbar": {
                          "outlinewidth": 0,
                          "ticks": ""
                        },
                        "colorscale": [
                          [
                            0,
                            "#0d0887"
                          ],
                          [
                            0.1111111111111111,
                            "#46039f"
                          ],
                          [
                            0.2222222222222222,
                            "#7201a8"
                          ],
                          [
                            0.3333333333333333,
                            "#9c179e"
                          ],
                          [
                            0.4444444444444444,
                            "#bd3786"
                          ],
                          [
                            0.5555555555555556,
                            "#d8576b"
                          ],
                          [
                            0.6666666666666666,
                            "#ed7953"
                          ],
                          [
                            0.7777777777777778,
                            "#fb9f3a"
                          ],
                          [
                            0.8888888888888888,
                            "#fdca26"
                          ],
                          [
                            1,
                            "#f0f921"
                          ]
                        ],
                        "type": "heatmapgl"
                      }
                    ],
                    "histogram": [
                      {
                        "marker": {
                          "pattern": {
                            "fillmode": "overlay",
                            "size": 10,
                            "solidity": 0.2
                          }
                        },
                        "type": "histogram"
                      }
                    ],
                    "histogram2d": [
                      {
                        "colorbar": {
                          "outlinewidth": 0,
                          "ticks": ""
                        },
                        "colorscale": [
                          [
                            0,
                            "#0d0887"
                          ],
                          [
                            0.1111111111111111,
                            "#46039f"
                          ],
                          [
                            0.2222222222222222,
                            "#7201a8"
                          ],
                          [
                            0.3333333333333333,
                            "#9c179e"
                          ],
                          [
                            0.4444444444444444,
                            "#bd3786"
                          ],
                          [
                            0.5555555555555556,
                            "#d8576b"
                          ],
                          [
                            0.6666666666666666,
                            "#ed7953"
                          ],
                          [
                            0.7777777777777778,
                            "#fb9f3a"
                          ],
                          [
                            0.8888888888888888,
                            "#fdca26"
                          ],
                          [
                            1,
                            "#f0f921"
                          ]
                        ],
                        "type": "histogram2d"
                      }
                    ],
                    "histogram2dcontour": [
                      {
                        "colorbar": {
                          "outlinewidth": 0,
                          "ticks": ""
                        },
                        "colorscale": [
                          [
                            0,
                            "#0d0887"
                          ],
                          [
                            0.1111111111111111,
                            "#46039f"
                          ],
                          [
                            0.2222222222222222,
                            "#7201a8"
                          ],
                          [
                            0.3333333333333333,
                            "#9c179e"
                          ],
                          [
                            0.4444444444444444,
                            "#bd3786"
                          ],
                          [
                            0.5555555555555556,
                            "#d8576b"
                          ],
                          [
                            0.6666666666666666,
                            "#ed7953"
                          ],
                          [
                            0.7777777777777778,
                            "#fb9f3a"
                          ],
                          [
                            0.8888888888888888,
                            "#fdca26"
                          ],
                          [
                            1,
                            "#f0f921"
                          ]
                        ],
                        "type": "histogram2dcontour"
                      }
                    ],
                    "mesh3d": [
                      {
                        "colorbar": {
                          "outlinewidth": 0,
                          "ticks": ""
                        },
                        "type": "mesh3d"
                      }
                    ],
                    "parcoords": [
                      {
                        "line": {
                          "colorbar": {
                            "outlinewidth": 0,
                            "ticks": ""
                          }
                        },
                        "type": "parcoords"
                      }
                    ],
                    "pie": [
                      {
                        "automargin": true,
                        "type": "pie"
                      }
                    ],
                    "scatter": [
                      {
                        "marker": {
                          "colorbar": {
                            "outlinewidth": 0,
                            "ticks": ""
                          }
                        },
                        "type": "scatter"
                      }
                    ],
                    "scatter3d": [
                      {
                        "line": {
                          "colorbar": {
                            "outlinewidth": 0,
                            "ticks": ""
                          }
                        },
                        "marker": {
                          "colorbar": {
                            "outlinewidth": 0,
                            "ticks": ""
                          }
                        },
                        "type": "scatter3d"
                      }
                    ],
                    "scattercarpet": [
                      {
                        "marker": {
                          "colorbar": {
                            "outlinewidth": 0,
                            "ticks": ""
                          }
                        },
                        "type": "scattercarpet"
                      }
                    ],
                    "scattergeo": [
                      {
                        "marker": {
                          "colorbar": {
                            "outlinewidth": 0,
                            "ticks": ""
                          }
                        },
                        "type": "scattergeo"
                      }
                    ],
                    "scattergl": [
                      {
                        "marker": {
                          "colorbar": {
                            "outlinewidth": 0,
                            "ticks": ""
                          }
                        },
                        "type": "scattergl"
                      }
                    ],
                    "scattermapbox": [
                      {
                        "marker": {
                          "colorbar": {
                            "outlinewidth": 0,
                            "ticks": ""
                          }
                        },
                        "type": "scattermapbox"
                      }
                    ],
                    "scatterpolar": [
                      {
                        "marker": {
                          "colorbar": {
                            "outlinewidth": 0,
                            "ticks": ""
                          }
                        },
                        "type": "scatterpolar"
                      }
                    ],
                    "scatterpolargl": [
                      {
                        "marker": {
                          "colorbar": {
                            "outlinewidth": 0,
                            "ticks": ""
                          }
                        },
                        "type": "scatterpolargl"
                      }
                    ],
                    "scatterternary": [
                      {
                        "marker": {
                          "colorbar": {
                            "outlinewidth": 0,
                            "ticks": ""
                          }
                        },
                        "type": "scatterternary"
                      }
                    ],
                    "surface": [
                      {
                        "colorbar": {
                          "outlinewidth": 0,
                          "ticks": ""
                        },
                        "colorscale": [
                          [
                            0,
                            "#0d0887"
                          ],
                          [
                            0.1111111111111111,
                            "#46039f"
                          ],
                          [
                            0.2222222222222222,
                            "#7201a8"
                          ],
                          [
                            0.3333333333333333,
                            "#9c179e"
                          ],
                          [
                            0.4444444444444444,
                            "#bd3786"
                          ],
                          [
                            0.5555555555555556,
                            "#d8576b"
                          ],
                          [
                            0.6666666666666666,
                            "#ed7953"
                          ],
                          [
                            0.7777777777777778,
                            "#fb9f3a"
                          ],
                          [
                            0.8888888888888888,
                            "#fdca26"
                          ],
                          [
                            1,
                            "#f0f921"
                          ]
                        ],
                        "type": "surface"
                      }
                    ],
                    "table": [
                      {
                        "cells": {
                          "fill": {
                            "color": "#EBF0F8"
                          },
                          "line": {
                            "color": "white"
                          }
                        },
                        "header": {
                          "fill": {
                            "color": "#C8D4E3"
                          },
                          "line": {
                            "color": "white"
                          }
                        },
                        "type": "table"
                      }
                    ]
                  },
                  "layout": {
                    "annotationdefaults": {
                      "arrowcolor": "#2a3f5f",
                      "arrowhead": 0,
                      "arrowwidth": 1
                    },
                    "autotypenumbers": "strict",
                    "coloraxis": {
                      "colorbar": {
                        "outlinewidth": 0,
                        "ticks": ""
                      }
                    },
                    "colorscale": {
                      "diverging": [
                        [
                          0,
                          "#8e0152"
                        ],
                        [
                          0.1,
                          "#c51b7d"
                        ],
                        [
                          0.2,
                          "#de77ae"
                        ],
                        [
                          0.3,
                          "#f1b6da"
                        ],
                        [
                          0.4,
                          "#fde0ef"
                        ],
                        [
                          0.5,
                          "#f7f7f7"
                        ],
                        [
                          0.6,
                          "#e6f5d0"
                        ],
                        [
                          0.7,
                          "#b8e186"
                        ],
                        [
                          0.8,
                          "#7fbc41"
                        ],
                        [
                          0.9,
                          "#4d9221"
                        ],
                        [
                          1,
                          "#276419"
                        ]
                      ],
                      "sequential": [
                        [
                          0,
                          "#0d0887"
                        ],
                        [
                          0.1111111111111111,
                          "#46039f"
                        ],
                        [
                          0.2222222222222222,
                          "#7201a8"
                        ],
                        [
                          0.3333333333333333,
                          "#9c179e"
                        ],
                        [
                          0.4444444444444444,
                          "#bd3786"
                        ],
                        [
                          0.5555555555555556,
                          "#d8576b"
                        ],
                        [
                          0.6666666666666666,
                          "#ed7953"
                        ],
                        [
                          0.7777777777777778,
                          "#fb9f3a"
                        ],
                        [
                          0.8888888888888888,
                          "#fdca26"
                        ],
                        [
                          1,
                          "#f0f921"
                        ]
                      ],
                      "sequentialminus": [
                        [
                          0,
                          "#0d0887"
                        ],
                        [
                          0.1111111111111111,
                          "#46039f"
                        ],
                        [
                          0.2222222222222222,
                          "#7201a8"
                        ],
                        [
                          0.3333333333333333,
                          "#9c179e"
                        ],
                        [
                          0.4444444444444444,
                          "#bd3786"
                        ],
                        [
                          0.5555555555555556,
                          "#d8576b"
                        ],
                        [
                          0.6666666666666666,
                          "#ed7953"
                        ],
                        [
                          0.7777777777777778,
                          "#fb9f3a"
                        ],
                        [
                          0.8888888888888888,
                          "#fdca26"
                        ],
                        [
                          1,
                          "#f0f921"
                        ]
                      ]
                    },
                    "colorway": [
                      "#636efa",
                      "#EF553B",
                      "#00cc96",
                      "#ab63fa",
                      "#FFA15A",
                      "#19d3f3",
                      "#FF6692",
                      "#B6E880",
                      "#FF97FF",
                      "#FECB52"
                    ],
                    "font": {
                      "color": "#2a3f5f"
                    },
                    "geo": {
                      "bgcolor": "white",
                      "lakecolor": "white",
                      "landcolor": "#E5ECF6",
                      "showlakes": true,
                      "showland": true,
                      "subunitcolor": "white"
                    },
                    "hoverlabel": {
                      "align": "left"
                    },
                    "hovermode": "closest",
                    "mapbox": {
                      "style": "light"
                    },
                    "paper_bgcolor": "white",
                    "plot_bgcolor": "#E5ECF6",
                    "polar": {
                      "angularaxis": {
                        "gridcolor": "white",
                        "linecolor": "white",
                        "ticks": ""
                      },
                      "bgcolor": "#E5ECF6",
                      "radialaxis": {
                        "gridcolor": "white",
                        "linecolor": "white",
                        "ticks": ""
                      }
                    },
                    "scene": {
                      "xaxis": {
                        "backgroundcolor": "#E5ECF6",
                        "gridcolor": "white",
                        "gridwidth": 2,
                        "linecolor": "white",
                        "showbackground": true,
                        "ticks": "",
                        "zerolinecolor": "white"
                      },
                      "yaxis": {
                        "backgroundcolor": "#E5ECF6",
                        "gridcolor": "white",
                        "gridwidth": 2,
                        "linecolor": "white",
                        "showbackground": true,
                        "ticks": "",
                        "zerolinecolor": "white"
                      },
                      "zaxis": {
                        "backgroundcolor": "#E5ECF6",
                        "gridcolor": "white",
                        "gridwidth": 2,
                        "linecolor": "white",
                        "showbackground": true,
                        "ticks": "",
                        "zerolinecolor": "white"
                      }
                    },
                    "shapedefaults": {
                      "line": {
                        "color": "#2a3f5f"
                      }
                    },
                    "ternary": {
                      "aaxis": {
                        "gridcolor": "white",
                        "linecolor": "white",
                        "ticks": ""
                      },
                      "baxis": {
                        "gridcolor": "white",
                        "linecolor": "white",
                        "ticks": ""
                      },
                      "bgcolor": "#E5ECF6",
                      "caxis": {
                        "gridcolor": "white",
                        "linecolor": "white",
                        "ticks": ""
                      }
                    },
                    "title": {
                      "x": 0.05
                    },
                    "xaxis": {
                      "automargin": true,
                      "gridcolor": "white",
                      "linecolor": "white",
                      "ticks": "",
                      "title": {
                        "standoff": 15
                      },
                      "zerolinecolor": "white",
                      "zerolinewidth": 2
                    },
                    "yaxis": {
                      "automargin": true,
                      "gridcolor": "white",
                      "linecolor": "white",
                      "ticks": "",
                      "title": {
                        "standoff": 15
                      },
                      "zerolinecolor": "white",
                      "zerolinewidth": 2
                    }
                  }
                },
                "title": {
                  "text": "Number of Ted Talk releases each Year"
                },
                "xaxis": {
                  "anchor": "y",
                  "domain": [
                    0,
                    1
                  ],
                  "title": {
                    "text": "year"
                  }
                },
                "yaxis": {
                  "anchor": "x",
                  "domain": [
                    0,
                    1
                  ],
                  "title": {
                    "text": "counts"
                  }
                }
              }
            }
          },
          "metadata": {},
          "output_type": "display_data"
        }
      ],
      "source": [
        "fig = px.bar(topYear, x=\"year\", y=\"counts\", title=\"Number of Ted Talk releases each Year\")\n",
        "fig.show()"
      ]
    },
    {
      "cell_type": "markdown",
      "metadata": {
        "id": "2Fb8WeoD4gQt"
      },
      "source": [
        "The oldest Ted Talks is in 1970 and we can see that the Ted talks started increasing in the 2000s. The maximum number of speeches were in 2019"
      ]
    },
    {
      "cell_type": "code",
      "execution_count": null,
      "metadata": {
        "id": "gQeA7eXL8YVr"
      },
      "outputs": [],
      "source": []
    }
  ],
  "metadata": {
    "colab": {
      "authorship_tag": "ABX9TyOUsTjy/+A9x1OKOGwOjjl6",
      "collapsed_sections": [],
      "provenance": []
    },
    "kernelspec": {
      "display_name": "Python 3.7.6 ('base')",
      "language": "python",
      "name": "python3"
    },
    "language_info": {
      "codemirror_mode": {
        "name": "ipython",
        "version": 3
      },
      "file_extension": ".py",
      "mimetype": "text/x-python",
      "name": "python",
      "nbconvert_exporter": "python",
      "pygments_lexer": "ipython3",
      "version": "3.7.6"
    },
    "vscode": {
      "interpreter": {
        "hash": "40d3a090f54c6569ab1632332b64b2c03c39dcf918b08424e98f38b5ae0af88f"
      }
    }
  },
  "nbformat": 4,
  "nbformat_minor": 0
}
